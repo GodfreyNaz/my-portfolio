{
 "cells": [
  {
   "cell_type": "code",
   "execution_count": 3,
   "id": "fe5a9fb7-44fd-4287-b39f-87dc5e1eff07",
   "metadata": {},
   "outputs": [
    {
     "name": "stdout",
     "output_type": "stream",
     "text": [
      "hello world\n"
     ]
    }
   ],
   "source": [
    "print(\"hello world\")"
   ]
  },
  {
   "cell_type": "code",
   "execution_count": 4,
   "id": "2e38eceb-2550-4016-a07d-7212a1224d6b",
   "metadata": {},
   "outputs": [
    {
     "name": "stdout",
     "output_type": "stream",
     "text": [
      "6\n"
     ]
    }
   ],
   "source": [
    "print(4+2)"
   ]
  },
  {
   "cell_type": "code",
   "execution_count": 5,
   "id": "c489443a-2ebe-4c21-a170-3df9ca450414",
   "metadata": {},
   "outputs": [
    {
     "name": "stdout",
     "output_type": "stream",
     "text": [
      "4+2\n"
     ]
    }
   ],
   "source": [
    "print(\"4+2\")"
   ]
  },
  {
   "cell_type": "code",
   "execution_count": 9,
   "id": "983bbc10-207b-46c9-baa8-503dad3cb407",
   "metadata": {},
   "outputs": [
    {
     "name": "stdout",
     "output_type": "stream",
     "text": [
      "godfrey nazuan\n"
     ]
    }
   ],
   "source": [
    "print(\"godfrey nazuan\")"
   ]
  },
  {
   "cell_type": "markdown",
   "id": "0399a9e4-6922-4b35-ae08-8d0584dfacee",
   "metadata": {},
   "source": [
    "### comments"
   ]
  },
  {
   "cell_type": "code",
   "execution_count": 10,
   "id": "9f99d0f0-cab3-4fa8-a342-cb5d12fcf3eb",
   "metadata": {},
   "outputs": [
    {
     "name": "stdout",
     "output_type": "stream",
     "text": [
      "AI IS THE FUTURE\n"
     ]
    }
   ],
   "source": [
    "# printing a text ai is the future\n",
    "print(\"AI IS THE FUTURE\")"
   ]
  },
  {
   "cell_type": "markdown",
   "id": "a0b5dcff-4a19-4639-9deb-cb68a1aedb84",
   "metadata": {},
   "source": [
    "### comments"
   ]
  },
  {
   "cell_type": "code",
   "execution_count": 11,
   "id": "cb61a0ab-7a13-4651-8f33-9a1336fa734e",
   "metadata": {},
   "outputs": [
    {
     "name": "stdout",
     "output_type": "stream",
     "text": [
      "11\n"
     ]
    }
   ],
   "source": [
    "# Addition Example\n",
    "print(5+6)"
   ]
  },
  {
   "cell_type": "markdown",
   "id": "8c30a086-3440-4bc2-8a32-3d6f88f094a0",
   "metadata": {},
   "source": [
    "### Variables"
   ]
  },
  {
   "cell_type": "code",
   "execution_count": 12,
   "id": "8dfa361c-0972-4f48-b5ea-6589acdaa6cf",
   "metadata": {},
   "outputs": [],
   "source": [
    "x=12"
   ]
  },
  {
   "cell_type": "code",
   "execution_count": 13,
   "id": "c6a579e0-f21e-45ba-af23-0e6861d965cb",
   "metadata": {},
   "outputs": [
    {
     "data": {
      "text/plain": [
       "12"
      ]
     },
     "execution_count": 13,
     "metadata": {},
     "output_type": "execute_result"
    }
   ],
   "source": [
    "x"
   ]
  },
  {
   "cell_type": "code",
   "execution_count": 15,
   "id": "cd5dcd17-1e9a-498a-a180-84eb07798d89",
   "metadata": {},
   "outputs": [
    {
     "name": "stdout",
     "output_type": "stream",
     "text": [
      "12\n"
     ]
    }
   ],
   "source": [
    "print(x)"
   ]
  },
  {
   "cell_type": "code",
   "execution_count": 16,
   "id": "b15b2e4b-980b-495d-b6b2-d5cd4ef1751c",
   "metadata": {},
   "outputs": [
    {
     "data": {
      "text/plain": [
       "14"
      ]
     },
     "execution_count": 16,
     "metadata": {},
     "output_type": "execute_result"
    }
   ],
   "source": [
    "x+2"
   ]
  },
  {
   "cell_type": "code",
   "execution_count": 17,
   "id": "fcf1a79f-2d74-47c1-86fc-03cd0630dfa0",
   "metadata": {},
   "outputs": [],
   "source": [
    "y=5"
   ]
  },
  {
   "cell_type": "code",
   "execution_count": 19,
   "id": "90d37128-3b74-48b3-a1ca-132346fa7679",
   "metadata": {},
   "outputs": [
    {
     "data": {
      "text/plain": [
       "17"
      ]
     },
     "execution_count": 19,
     "metadata": {},
     "output_type": "execute_result"
    }
   ],
   "source": [
    "# 12 + 5\n",
    "x+y"
   ]
  },
  {
   "cell_type": "code",
   "execution_count": 20,
   "id": "ed2f02e3-defb-4448-a6d7-f3d08b5b88bf",
   "metadata": {},
   "outputs": [],
   "source": [
    "firstname = \"Ayomide\""
   ]
  },
  {
   "cell_type": "code",
   "execution_count": 21,
   "id": "f8f4a2d6-7036-420d-ab8d-b2d80b418912",
   "metadata": {},
   "outputs": [
    {
     "data": {
      "text/plain": [
       "'Ayomide'"
      ]
     },
     "execution_count": 21,
     "metadata": {},
     "output_type": "execute_result"
    }
   ],
   "source": [
    "firstname"
   ]
  },
  {
   "cell_type": "code",
   "execution_count": 22,
   "id": "a9aec885-15ef-4bf6-a7d3-10cda659dd2b",
   "metadata": {},
   "outputs": [],
   "source": [
    "# Create a variable called lastname, assign a valu/text and print it out"
   ]
  },
  {
   "cell_type": "code",
   "execution_count": 23,
   "id": "1211d911-9d8b-4ed3-b890-4c903ac1c50c",
   "metadata": {},
   "outputs": [],
   "source": [
    "Lastname = \"Godfrey\""
   ]
  },
  {
   "cell_type": "code",
   "execution_count": 27,
   "id": "f1a37db3-5087-4fdd-b9fc-6ff207d08d2f",
   "metadata": {},
   "outputs": [
    {
     "name": "stdout",
     "output_type": "stream",
     "text": [
      "Godfrey\n"
     ]
    }
   ],
   "source": [
    "print(Lastname)"
   ]
  },
  {
   "cell_type": "code",
   "execution_count": 28,
   "id": "8ab7deba-9ed7-454b-b8b3-122ecedee195",
   "metadata": {},
   "outputs": [
    {
     "data": {
      "text/plain": [
       "3"
      ]
     },
     "execution_count": 28,
     "metadata": {},
     "output_type": "execute_result"
    }
   ],
   "source": [
    "3"
   ]
  },
  {
   "cell_type": "code",
   "execution_count": 29,
   "id": "92032322-8d0e-4406-a2ab-3be151e0b06c",
   "metadata": {},
   "outputs": [
    {
     "name": "stdout",
     "output_type": "stream",
     "text": [
      "3\n"
     ]
    },
    {
     "data": {
      "text/plain": [
       "5"
      ]
     },
     "execution_count": 29,
     "metadata": {},
     "output_type": "execute_result"
    }
   ],
   "source": [
    "print(3)\n",
    "5"
   ]
  },
  {
   "cell_type": "code",
   "execution_count": 30,
   "id": "e74a5515-3a38-4d87-8f40-83c573097151",
   "metadata": {},
   "outputs": [
    {
     "name": "stdout",
     "output_type": "stream",
     "text": [
      "3\n",
      "5\n"
     ]
    }
   ],
   "source": [
    "print(3)\n",
    "print(5)"
   ]
  },
  {
   "cell_type": "code",
   "execution_count": 31,
   "id": "52394603-5f22-490c-a396-4aad37d8563b",
   "metadata": {},
   "outputs": [
    {
     "data": {
      "text/plain": [
       "'Ayomide'"
      ]
     },
     "execution_count": 31,
     "metadata": {},
     "output_type": "execute_result"
    }
   ],
   "source": [
    "firstname"
   ]
  },
  {
   "cell_type": "code",
   "execution_count": 32,
   "id": "a7a2692b-4328-454f-9ae8-718aa664e9a5",
   "metadata": {},
   "outputs": [
    {
     "data": {
      "text/plain": [
       "'Godfrey'"
      ]
     },
     "execution_count": 32,
     "metadata": {},
     "output_type": "execute_result"
    }
   ],
   "source": [
    "Lastname"
   ]
  },
  {
   "cell_type": "code",
   "execution_count": 33,
   "id": "00cdd606-2b8e-44f0-8a45-7a5429a161d3",
   "metadata": {},
   "outputs": [
    {
     "ename": "SyntaxError",
     "evalue": "invalid decimal literal (2120998569.py, line 1)",
     "output_type": "error",
     "traceback": [
      "\u001b[1;36m  Cell \u001b[1;32mIn[33], line 1\u001b[1;36m\u001b[0m\n\u001b[1;33m    2star=4\u001b[0m\n\u001b[1;37m    ^\u001b[0m\n\u001b[1;31mSyntaxError\u001b[0m\u001b[1;31m:\u001b[0m invalid decimal literal\n"
     ]
    }
   ],
   "source": [
    "2star=4"
   ]
  },
  {
   "cell_type": "code",
   "execution_count": 34,
   "id": "d1e9c6ba-91cc-49b9-b22a-e898616efcf3",
   "metadata": {},
   "outputs": [],
   "source": [
    "star2=4"
   ]
  },
  {
   "cell_type": "code",
   "execution_count": 37,
   "id": "54280683-4594-4e63-8ab9-e61ddf00bb87",
   "metadata": {},
   "outputs": [],
   "source": [
    "my_var= 6"
   ]
  },
  {
   "cell_type": "code",
   "execution_count": 36,
   "id": "84f678f5-4c60-449b-8840-cff785c2acd9",
   "metadata": {},
   "outputs": [
    {
     "ename": "SyntaxError",
     "evalue": "cannot assign to expression here. Maybe you meant '==' instead of '='? (2273541058.py, line 1)",
     "output_type": "error",
     "traceback": [
      "\u001b[1;36m  Cell \u001b[1;32mIn[36], line 1\u001b[1;36m\u001b[0m\n\u001b[1;33m    my-var=6\u001b[0m\n\u001b[1;37m    ^\u001b[0m\n\u001b[1;31mSyntaxError\u001b[0m\u001b[1;31m:\u001b[0m cannot assign to expression here. Maybe you meant '==' instead of '='?\n"
     ]
    }
   ],
   "source": [
    "my-var=6"
   ]
  },
  {
   "cell_type": "markdown",
   "id": "71ec2293-34d0-4f68-bc5d-08064d060c3b",
   "metadata": {},
   "source": [
    "### DATA TYPES"
   ]
  },
  {
   "cell_type": "code",
   "execution_count": 38,
   "id": "231378d8-a08b-4a15-8f2f-f28fe54f6eb0",
   "metadata": {},
   "outputs": [],
   "source": [
    "x=5"
   ]
  },
  {
   "cell_type": "code",
   "execution_count": 40,
   "id": "28ef5ca7-6f78-4201-bbae-b6ff16eee718",
   "metadata": {},
   "outputs": [
    {
     "data": {
      "text/plain": [
       "int"
      ]
     },
     "execution_count": 40,
     "metadata": {},
     "output_type": "execute_result"
    }
   ],
   "source": [
    "type(x)"
   ]
  },
  {
   "cell_type": "code",
   "execution_count": 41,
   "id": "11c6e9de-0757-43ef-bd75-f3555417a63c",
   "metadata": {},
   "outputs": [],
   "source": [
    "y=10"
   ]
  },
  {
   "cell_type": "code",
   "execution_count": 42,
   "id": "332838d8-9cba-430d-800c-9a90305b3ebb",
   "metadata": {},
   "outputs": [
    {
     "data": {
      "text/plain": [
       "int"
      ]
     },
     "execution_count": 42,
     "metadata": {},
     "output_type": "execute_result"
    }
   ],
   "source": [
    "type(y)"
   ]
  },
  {
   "cell_type": "code",
   "execution_count": 43,
   "id": "681130f1-2eb5-42e4-9ae2-cdae769d5b9e",
   "metadata": {},
   "outputs": [],
   "source": [
    "q=4.5"
   ]
  },
  {
   "cell_type": "code",
   "execution_count": 44,
   "id": "54f078d9-b457-46b9-bbd1-9737d3e7f75d",
   "metadata": {},
   "outputs": [
    {
     "data": {
      "text/plain": [
       "float"
      ]
     },
     "execution_count": 44,
     "metadata": {},
     "output_type": "execute_result"
    }
   ],
   "source": [
    "type(q)"
   ]
  },
  {
   "cell_type": "code",
   "execution_count": 45,
   "id": "e8454e33-ba5a-4eed-927c-6d4f6cf633b2",
   "metadata": {},
   "outputs": [],
   "source": [
    "w=45.4232"
   ]
  },
  {
   "cell_type": "code",
   "execution_count": 46,
   "id": "fb0aeef8-3777-44e5-9818-f0604ee5641b",
   "metadata": {},
   "outputs": [
    {
     "data": {
      "text/plain": [
       "float"
      ]
     },
     "execution_count": 46,
     "metadata": {},
     "output_type": "execute_result"
    }
   ],
   "source": [
    "type(w)"
   ]
  },
  {
   "cell_type": "code",
   "execution_count": 49,
   "id": "a9816ada-81f7-4e8e-888e-2969d69a500e",
   "metadata": {},
   "outputs": [
    {
     "data": {
      "text/plain": [
       "str"
      ]
     },
     "execution_count": 49,
     "metadata": {},
     "output_type": "execute_result"
    }
   ],
   "source": [
    "# String\n",
    "Firtname = \"ayomide\"\n",
    "type(Firtname)"
   ]
  },
  {
   "cell_type": "code",
   "execution_count": 50,
   "id": "75f50aa8-218f-48d7-9d65-823bb3f5f1f4",
   "metadata": {},
   "outputs": [
    {
     "data": {
      "text/plain": [
       "str"
      ]
     },
     "execution_count": 50,
     "metadata": {},
     "output_type": "execute_result"
    }
   ],
   "source": [
    "type(\"this is a string\")"
   ]
  },
  {
   "cell_type": "code",
   "execution_count": 53,
   "id": "4d9c27fe-7cc3-4667-b3bb-eab943cf556c",
   "metadata": {},
   "outputs": [],
   "source": [
    "c= \"10\""
   ]
  },
  {
   "cell_type": "code",
   "execution_count": 55,
   "id": "fe13d0b9-cee7-41a9-a9e8-8961a41de855",
   "metadata": {},
   "outputs": [
    {
     "data": {
      "text/plain": [
       "str"
      ]
     },
     "execution_count": 55,
     "metadata": {},
     "output_type": "execute_result"
    }
   ],
   "source": [
    "type(c)"
   ]
  },
  {
   "cell_type": "code",
   "execution_count": null,
   "id": "a81fea65-836e-4e71-bc65-4e56bb0aa14d",
   "metadata": {},
   "outputs": [],
   "source": [
    "# list"
   ]
  },
  {
   "cell_type": "code",
   "execution_count": 56,
   "id": "58ab41de-92f2-4d76-9d77-91129d8da390",
   "metadata": {},
   "outputs": [],
   "source": [
    "mylist = [\"bmw\", \"benz\", \"mazda\", \"rolls royce\", \"Chevrolet\"]"
   ]
  },
  {
   "cell_type": "code",
   "execution_count": 57,
   "id": "04fcb8b0-3151-4b03-9ea5-c38d51e56443",
   "metadata": {},
   "outputs": [
    {
     "data": {
      "text/plain": [
       "list"
      ]
     },
     "execution_count": 57,
     "metadata": {},
     "output_type": "execute_result"
    }
   ],
   "source": [
    "type(mylist)"
   ]
  },
  {
   "cell_type": "code",
   "execution_count": 58,
   "id": "c81c9b91-f367-47df-91bc-34a034a10ac1",
   "metadata": {},
   "outputs": [
    {
     "data": {
      "text/plain": [
       "['bmw', 'benz', 'mazda', 'rolls royce', 'Chevrolet']"
      ]
     },
     "execution_count": 58,
     "metadata": {},
     "output_type": "execute_result"
    }
   ],
   "source": [
    "mylist"
   ]
  },
  {
   "cell_type": "code",
   "execution_count": 59,
   "id": "69f9419c-b4b5-43f8-b4c2-7ccb35c06545",
   "metadata": {},
   "outputs": [
    {
     "data": {
      "text/plain": [
       "'10'"
      ]
     },
     "execution_count": 59,
     "metadata": {},
     "output_type": "execute_result"
    }
   ],
   "source": [
    "c"
   ]
  },
  {
   "cell_type": "code",
   "execution_count": 60,
   "id": "81722045-4e98-4a7b-adbf-e652ea4a4cbe",
   "metadata": {},
   "outputs": [
    {
     "data": {
      "text/plain": [
       "5"
      ]
     },
     "execution_count": 60,
     "metadata": {},
     "output_type": "execute_result"
    }
   ],
   "source": [
    "x"
   ]
  },
  {
   "cell_type": "code",
   "execution_count": 61,
   "id": "2bc56c5a-7f9b-43af-9b48-9dd0baa35b3e",
   "metadata": {},
   "outputs": [
    {
     "data": {
      "text/plain": [
       "45.4232"
      ]
     },
     "execution_count": 61,
     "metadata": {},
     "output_type": "execute_result"
    }
   ],
   "source": [
    "w"
   ]
  },
  {
   "cell_type": "code",
   "execution_count": 62,
   "id": "be1bf386-65da-46e5-ae5e-f07e1fcd2a95",
   "metadata": {},
   "outputs": [],
   "source": [
    "# TUPLE - IMMUTABLE\n",
    "a = (2, 4, 5, \"String\")"
   ]
  },
  {
   "cell_type": "code",
   "execution_count": 63,
   "id": "85125ca8-b4bd-4e7a-bcf1-0c36c874f382",
   "metadata": {},
   "outputs": [
    {
     "data": {
      "text/plain": [
       "(2, 4, 5, 'String')"
      ]
     },
     "execution_count": 63,
     "metadata": {},
     "output_type": "execute_result"
    }
   ],
   "source": [
    "a"
   ]
  },
  {
   "cell_type": "code",
   "execution_count": 64,
   "id": "fbc26dce-949c-4bba-9e00-04e19476b8b6",
   "metadata": {},
   "outputs": [
    {
     "data": {
      "text/plain": [
       "tuple"
      ]
     },
     "execution_count": 64,
     "metadata": {},
     "output_type": "execute_result"
    }
   ],
   "source": [
    "type(a)"
   ]
  },
  {
   "cell_type": "code",
   "execution_count": 107,
   "id": "8f63cc8f-e6ce-48a8-8246-09ae637db9e8",
   "metadata": {},
   "outputs": [],
   "source": [
    "# Dictionary\n",
    "users = {\"name\": \"Ayomide\", \"state\": \"lagos\", \"age\": 30}"
   ]
  },
  {
   "cell_type": "code",
   "execution_count": 68,
   "id": "237d5768-2e58-4f7e-b3b8-d788fcaaf7b2",
   "metadata": {},
   "outputs": [
    {
     "data": {
      "text/plain": [
       "dict"
      ]
     },
     "execution_count": 68,
     "metadata": {},
     "output_type": "execute_result"
    }
   ],
   "source": [
    "type(users)"
   ]
  },
  {
   "cell_type": "code",
   "execution_count": 74,
   "id": "18487567-c8dc-45e6-bdb8-22b6c114ceeb",
   "metadata": {},
   "outputs": [
    {
     "data": {
      "text/plain": [
       "{'email': 'abc@d.com', 'password': 1234445}"
      ]
     },
     "execution_count": 74,
     "metadata": {},
     "output_type": "execute_result"
    }
   ],
   "source": [
    "login= {\"email\": \"abc@d.com\", \"password\": 1234445}\n",
    "login"
   ]
  },
  {
   "cell_type": "code",
   "execution_count": 76,
   "id": "4d8d2b93-d19f-422d-b669-b4e36066f6b4",
   "metadata": {},
   "outputs": [
    {
     "data": {
      "text/plain": [
       "dict"
      ]
     },
     "execution_count": 76,
     "metadata": {},
     "output_type": "execute_result"
    }
   ],
   "source": [
    "type(login)"
   ]
  },
  {
   "cell_type": "code",
   "execution_count": 77,
   "id": "a8a27d4e-b61c-42a9-919b-293f46b0338a",
   "metadata": {},
   "outputs": [],
   "source": [
    "#BOOL"
   ]
  },
  {
   "cell_type": "code",
   "execution_count": 78,
   "id": "72dd2dcf-625a-485f-87c2-2b70f40c5a43",
   "metadata": {},
   "outputs": [
    {
     "data": {
      "text/plain": [
       "True"
      ]
     },
     "execution_count": 78,
     "metadata": {},
     "output_type": "execute_result"
    }
   ],
   "source": [
    "3 < 5"
   ]
  },
  {
   "cell_type": "code",
   "execution_count": 79,
   "id": "b2834b9e-3299-4dc4-872e-ed5ca40ad42f",
   "metadata": {},
   "outputs": [
    {
     "data": {
      "text/plain": [
       "bool"
      ]
     },
     "execution_count": 79,
     "metadata": {},
     "output_type": "execute_result"
    }
   ],
   "source": [
    "type(3 < 5)"
   ]
  },
  {
   "cell_type": "markdown",
   "id": "952e7f12-c31f-42e4-9ade-6b7c3538159d",
   "metadata": {},
   "source": [
    "### Casting\n",
    "is the act of converting one data type to another data type. e.g string to intger, intger to float"
   ]
  },
  {
   "cell_type": "code",
   "execution_count": 80,
   "id": "8ce54363-aae8-432c-8132-f7cd90c5510f",
   "metadata": {},
   "outputs": [],
   "source": [
    "a=10"
   ]
  },
  {
   "cell_type": "code",
   "execution_count": 82,
   "id": "d3e34eaa-b256-4677-8a2b-386f5102120b",
   "metadata": {},
   "outputs": [],
   "source": [
    "# Converting intger to String\n",
    "c= str(a)"
   ]
  },
  {
   "cell_type": "code",
   "execution_count": 83,
   "id": "5dd6fd8d-c373-4b4e-ab1f-294300efa843",
   "metadata": {},
   "outputs": [
    {
     "data": {
      "text/plain": [
       "'10'"
      ]
     },
     "execution_count": 83,
     "metadata": {},
     "output_type": "execute_result"
    }
   ],
   "source": [
    "c"
   ]
  },
  {
   "cell_type": "code",
   "execution_count": 84,
   "id": "ca1adc52-68f7-49a8-b71a-300ac3be3450",
   "metadata": {},
   "outputs": [],
   "source": [
    "b = 10.5"
   ]
  },
  {
   "cell_type": "code",
   "execution_count": 86,
   "id": "31ee275b-0af2-4b58-aa5e-f02d6c1b45f2",
   "metadata": {},
   "outputs": [],
   "source": [
    "d=int(b)"
   ]
  },
  {
   "cell_type": "code",
   "execution_count": 87,
   "id": "0c2700a1-5a31-43df-a63c-3dce05b33c57",
   "metadata": {},
   "outputs": [
    {
     "data": {
      "text/plain": [
       "10.5"
      ]
     },
     "execution_count": 87,
     "metadata": {},
     "output_type": "execute_result"
    }
   ],
   "source": [
    "b"
   ]
  },
  {
   "cell_type": "code",
   "execution_count": 88,
   "id": "1954c108-8a7a-4777-bcf2-401a6bfe1e14",
   "metadata": {},
   "outputs": [
    {
     "data": {
      "text/plain": [
       "10"
      ]
     },
     "execution_count": 88,
     "metadata": {},
     "output_type": "execute_result"
    }
   ],
   "source": [
    "10"
   ]
  },
  {
   "cell_type": "code",
   "execution_count": 89,
   "id": "f6ac29e7-bba8-4fe2-aa6d-065578fb576a",
   "metadata": {},
   "outputs": [
    {
     "data": {
      "text/plain": [
       "10.0"
      ]
     },
     "execution_count": 89,
     "metadata": {},
     "output_type": "execute_result"
    }
   ],
   "source": [
    "float(10)"
   ]
  },
  {
   "cell_type": "code",
   "execution_count": 90,
   "id": "cd43454b-4c4c-4f20-ad6f-203413561823",
   "metadata": {},
   "outputs": [],
   "source": [
    "f=4"
   ]
  },
  {
   "cell_type": "code",
   "execution_count": 91,
   "id": "abbd15cf-a18a-4510-82e0-86cab4a35ee4",
   "metadata": {},
   "outputs": [
    {
     "data": {
      "text/plain": [
       "4.0"
      ]
     },
     "execution_count": 91,
     "metadata": {},
     "output_type": "execute_result"
    }
   ],
   "source": [
    "float(f)"
   ]
  },
  {
   "cell_type": "markdown",
   "id": "153721fe-398a-480b-85e5-a593ae4697ac",
   "metadata": {},
   "source": [
    "### Arithemetic Operators\n",
    "* Addition\n",
    "* Subtraction\n",
    "* Multiplication\n",
    "* Division\n",
    "* Exponentiation\n",
    "* Modulus"
   ]
  },
  {
   "cell_type": "markdown",
   "id": "356c54bd-04a4-4cf1-a661-de15eed4a3c3",
   "metadata": {},
   "source": [
    "### Addition"
   ]
  },
  {
   "cell_type": "code",
   "execution_count": 94,
   "id": "def2472a-a1ea-4b19-9028-70669e341201",
   "metadata": {},
   "outputs": [],
   "source": [
    "a=5\n",
    "b=10"
   ]
  },
  {
   "cell_type": "code",
   "execution_count": 95,
   "id": "b671b131-37cf-41c3-aeb1-98757f14604e",
   "metadata": {},
   "outputs": [],
   "source": [
    "c= a+b"
   ]
  },
  {
   "cell_type": "code",
   "execution_count": 96,
   "id": "a01a86b8-5eb0-4eca-a357-a264b02245a0",
   "metadata": {},
   "outputs": [
    {
     "data": {
      "text/plain": [
       "15"
      ]
     },
     "execution_count": 96,
     "metadata": {},
     "output_type": "execute_result"
    }
   ],
   "source": [
    "c"
   ]
  },
  {
   "cell_type": "markdown",
   "id": "447b0fdf-831b-40b8-b0b2-4a358331b1d5",
   "metadata": {},
   "source": [
    "### Subtraction"
   ]
  },
  {
   "cell_type": "code",
   "execution_count": 97,
   "id": "717e5f9d-892c-44e1-9743-f66332158039",
   "metadata": {},
   "outputs": [],
   "source": [
    "x=4\n",
    "y=9"
   ]
  },
  {
   "cell_type": "code",
   "execution_count": 98,
   "id": "c0ab5b5f-df1a-471b-b544-5f7a5675ae78",
   "metadata": {
    "scrolled": true
   },
   "outputs": [
    {
     "name": "stdout",
     "output_type": "stream",
     "text": [
      "5\n"
     ]
    }
   ],
   "source": [
    "print(y-x)"
   ]
  },
  {
   "cell_type": "markdown",
   "id": "8e462c5c-d018-4e53-bf1f-47160ba79a1f",
   "metadata": {},
   "source": [
    "### Multiplication"
   ]
  },
  {
   "cell_type": "code",
   "execution_count": 99,
   "id": "71fce58f-22d5-4e20-accb-78b365632740",
   "metadata": {},
   "outputs": [],
   "source": [
    "a=10\n",
    "b=3"
   ]
  },
  {
   "cell_type": "code",
   "execution_count": 100,
   "id": "18f2069b-f03a-441f-8e89-9f68af7f27ad",
   "metadata": {},
   "outputs": [
    {
     "data": {
      "text/plain": [
       "30"
      ]
     },
     "execution_count": 100,
     "metadata": {},
     "output_type": "execute_result"
    }
   ],
   "source": [
    "a*b"
   ]
  },
  {
   "cell_type": "markdown",
   "id": "99e3bbac-e1e2-4b43-b8d6-b38681320d27",
   "metadata": {},
   "source": [
    "### Division"
   ]
  },
  {
   "cell_type": "code",
   "execution_count": 101,
   "id": "8d24823e-eaa6-4bc4-b081-9e1964fce733",
   "metadata": {},
   "outputs": [
    {
     "data": {
      "text/plain": [
       "30.0"
      ]
     },
     "execution_count": 101,
     "metadata": {},
     "output_type": "execute_result"
    }
   ],
   "source": [
    "c=90\n",
    "b=3\n",
    "d=c/b\n",
    "d"
   ]
  },
  {
   "cell_type": "markdown",
   "id": "08f4c511-0d6b-48a2-a40b-23ed0c83ca9c",
   "metadata": {},
   "source": [
    "### Exponenitation"
   ]
  },
  {
   "cell_type": "code",
   "execution_count": 103,
   "id": "cd6bc69e-7cd4-46dd-bd94-21514d9631ab",
   "metadata": {},
   "outputs": [],
   "source": [
    "a = 2"
   ]
  },
  {
   "cell_type": "code",
   "execution_count": 104,
   "id": "72c05515-9281-4425-945f-c9ec8ac8494c",
   "metadata": {},
   "outputs": [
    {
     "data": {
      "text/plain": [
       "4"
      ]
     },
     "execution_count": 104,
     "metadata": {},
     "output_type": "execute_result"
    }
   ],
   "source": [
    "a**2"
   ]
  },
  {
   "cell_type": "markdown",
   "id": "7ecb3c3a-9fcc-49e3-8672-8834009ec6b6",
   "metadata": {},
   "source": [
    "### Modulus (reminder)"
   ]
  },
  {
   "cell_type": "code",
   "execution_count": 105,
   "id": "b6e51845-2841-4c56-9b08-46a768cfa691",
   "metadata": {},
   "outputs": [],
   "source": [
    "c=10\n",
    "b=3"
   ]
  },
  {
   "cell_type": "code",
   "execution_count": 106,
   "id": "29e1d39d-8bee-44e7-8fee-1963a0364236",
   "metadata": {},
   "outputs": [
    {
     "data": {
      "text/plain": [
       "1"
      ]
     },
     "execution_count": 106,
     "metadata": {},
     "output_type": "execute_result"
    }
   ],
   "source": [
    "c%b"
   ]
  },
  {
   "cell_type": "code",
   "execution_count": 116,
   "id": "901bd390-6371-44e7-8038-6f113e52ea7d",
   "metadata": {},
   "outputs": [],
   "source": [
    "users= {\"name\": \"ayomide\", \"state\": \"bayelsa\",\"age\": 30, \"nationality\": [\"english\", \"nigeria\"]}"
   ]
  },
  {
   "cell_type": "code",
   "execution_count": 118,
   "id": "5521ffda-3087-4428-85fb-9363d5fd369f",
   "metadata": {},
   "outputs": [
    {
     "data": {
      "text/plain": [
       "dict"
      ]
     },
     "execution_count": 118,
     "metadata": {},
     "output_type": "execute_result"
    }
   ],
   "source": [
    "type(users)"
   ]
  },
  {
   "cell_type": "markdown",
   "id": "373a5490-75bf-43e5-bba8-00c88f898a12",
   "metadata": {},
   "source": [
    "### Logical Operators\n",
    "AND,OR, NOT"
   ]
  },
  {
   "cell_type": "code",
   "execution_count": 121,
   "id": "3098e275-a451-4f64-9739-67f5d747abeb",
   "metadata": {},
   "outputs": [],
   "source": [
    "a=10\n",
    "b=6\n",
    "c=12"
   ]
  },
  {
   "cell_type": "code",
   "execution_count": 120,
   "id": "c676def3-63eb-46de-a3a5-417f2fe31808",
   "metadata": {},
   "outputs": [
    {
     "data": {
      "text/plain": [
       "False"
      ]
     },
     "execution_count": 120,
     "metadata": {},
     "output_type": "execute_result"
    }
   ],
   "source": [
    "a<b"
   ]
  },
  {
   "cell_type": "code",
   "execution_count": 122,
   "id": "2c5635ff-9d4d-4d68-9042-8c2e7fecd5af",
   "metadata": {},
   "outputs": [
    {
     "data": {
      "text/plain": [
       "False"
      ]
     },
     "execution_count": 122,
     "metadata": {},
     "output_type": "execute_result"
    }
   ],
   "source": [
    "#OR\n",
    "a<b or a>c"
   ]
  },
  {
   "cell_type": "code",
   "execution_count": 127,
   "id": "4f3b5c8b-d916-477e-a22b-adc6c09917a0",
   "metadata": {},
   "outputs": [
    {
     "data": {
      "text/plain": [
       "False"
      ]
     },
     "execution_count": 127,
     "metadata": {},
     "output_type": "execute_result"
    }
   ],
   "source": [
    "c > b | b > a | a > c"
   ]
  },
  {
   "cell_type": "markdown",
   "id": "da4f3fb4-2455-4ad6-9b99-1952f1288836",
   "metadata": {},
   "source": [
    "# AND"
   ]
  },
  {
   "cell_type": "code",
   "execution_count": 128,
   "id": "dbe1f677-c473-4679-badd-92f35bcbd8bb",
   "metadata": {},
   "outputs": [
    {
     "data": {
      "text/plain": [
       "False"
      ]
     },
     "execution_count": 128,
     "metadata": {},
     "output_type": "execute_result"
    }
   ],
   "source": [
    "a < c and b > a"
   ]
  },
  {
   "cell_type": "code",
   "execution_count": 129,
   "id": "d057a47d-b295-40c4-b66d-946b0b254802",
   "metadata": {},
   "outputs": [
    {
     "data": {
      "text/plain": [
       "False"
      ]
     },
     "execution_count": 129,
     "metadata": {},
     "output_type": "execute_result"
    }
   ],
   "source": [
    " c < b and a < b"
   ]
  },
  {
   "cell_type": "code",
   "execution_count": 130,
   "id": "21a53adb-a4c0-43fc-8818-c2dc7a6debf4",
   "metadata": {},
   "outputs": [
    {
     "data": {
      "text/plain": [
       "True"
      ]
     },
     "execution_count": 130,
     "metadata": {},
     "output_type": "execute_result"
    }
   ],
   "source": [
    "# NOT\n",
    "not(a < b)"
   ]
  },
  {
   "cell_type": "code",
   "execution_count": 131,
   "id": "7666c0b9-b835-49a5-b165-66cb9673f687",
   "metadata": {},
   "outputs": [
    {
     "data": {
      "text/plain": [
       "False"
      ]
     },
     "execution_count": 131,
     "metadata": {},
     "output_type": "execute_result"
    }
   ],
   "source": [
    "not(c > a)"
   ]
  },
  {
   "cell_type": "markdown",
   "id": "f7ddff45-0c3a-46d3-b180-773b9d8b64f2",
   "metadata": {},
   "source": [
    "### LIST\n",
    "is a data type that start with square bracket[]"
   ]
  },
  {
   "cell_type": "code",
   "execution_count": 133,
   "id": "99067882-e40b-45b1-8b4d-9679adb15285",
   "metadata": {},
   "outputs": [],
   "source": [
    "mylist = [2,4,3, \"orange\", \"apple\"]"
   ]
  },
  {
   "cell_type": "code",
   "execution_count": 134,
   "id": "62501ef8-ddcc-4085-a8c8-12a0a3661f5b",
   "metadata": {},
   "outputs": [
    {
     "data": {
      "text/plain": [
       "[2, 4, 3, 'orange', 'apple']"
      ]
     },
     "execution_count": 134,
     "metadata": {},
     "output_type": "execute_result"
    }
   ],
   "source": [
    "mylist"
   ]
  },
  {
   "cell_type": "code",
   "execution_count": 135,
   "id": "7b84de09-ab2d-4316-bfab-b3bee4e2d71c",
   "metadata": {},
   "outputs": [
    {
     "data": {
      "text/plain": [
       "'orange'"
      ]
     },
     "execution_count": 135,
     "metadata": {},
     "output_type": "execute_result"
    }
   ],
   "source": [
    "# List Indexing trying to fetch something out of the list\n",
    "mylist[3]\n"
   ]
  },
  {
   "cell_type": "code",
   "execution_count": 138,
   "id": "b62842b9-80d7-48b7-a8a2-67e5c1dbbf21",
   "metadata": {},
   "outputs": [
    {
     "data": {
      "text/plain": [
       "4"
      ]
     },
     "execution_count": 138,
     "metadata": {},
     "output_type": "execute_result"
    }
   ],
   "source": [
    "mylist[1]"
   ]
  },
  {
   "cell_type": "code",
   "execution_count": 139,
   "id": "24cab445-902a-4c37-b243-b46cf5c4f660",
   "metadata": {},
   "outputs": [
    {
     "name": "stdout",
     "output_type": "stream",
     "text": [
      "apple\n",
      "apple\n"
     ]
    }
   ],
   "source": [
    "print(mylist[4])\n",
    "print(mylist[-1])"
   ]
  },
  {
   "cell_type": "code",
   "execution_count": 140,
   "id": "c64d7d23-9686-4177-8118-c76842049360",
   "metadata": {},
   "outputs": [
    {
     "data": {
      "text/plain": [
       "['orange', 'apple']"
      ]
     },
     "execution_count": 140,
     "metadata": {},
     "output_type": "execute_result"
    }
   ],
   "source": [
    "# fetech orange and apple\n",
    "mylist[3:5]\n",
    "whenever you are dealing with range always add one"
   ]
  },
  {
   "cell_type": "code",
   "execution_count": 141,
   "id": "38c94780-636e-42d6-9402-46f5707c1d34",
   "metadata": {},
   "outputs": [
    {
     "data": {
      "text/plain": [
       "[4, 3, 'orange']"
      ]
     },
     "execution_count": 141,
     "metadata": {},
     "output_type": "execute_result"
    }
   ],
   "source": [
    "mylist[1:4]"
   ]
  },
  {
   "cell_type": "code",
   "execution_count": 268,
   "id": "506f38a9-a8e1-469b-8f8f-77902301cb98",
   "metadata": {},
   "outputs": [
    {
     "name": "stdout",
     "output_type": "stream",
     "text": [
      "['apple', 'banana', 'cherry', 'apple', 'pineapple', 'kiwi', 'orange']\n"
     ]
    }
   ],
   "source": [
    "thislist = [\"apple\", \"banana\", \"cherry\", \"apple\", \"pineapple\", \"kiwi\", \"orange\"]\n",
    "print(thislist)"
   ]
  },
  {
   "cell_type": "code",
   "execution_count": 269,
   "id": "271ba30e-bc4d-45ff-a018-b68cd26249a3",
   "metadata": {},
   "outputs": [
    {
     "name": "stdout",
     "output_type": "stream",
     "text": [
      "['apple', 'banana', 'cherry', 'apple']\n",
      "['apple', 'banana', 'cherry', 'apple']\n"
     ]
    }
   ],
   "source": [
    "print(thislist[0:4])\n",
    "print(thislist[:4])"
   ]
  },
  {
   "cell_type": "code",
   "execution_count": 160,
   "id": "ff362658-403d-482b-9c12-b7b07f737b73",
   "metadata": {},
   "outputs": [
    {
     "name": "stdout",
     "output_type": "stream",
     "text": [
      "['apple', 'pineapple', 'kiwi', 'orange']\n",
      "['apple', 'pineapple', 'kiwi', 'orange']\n"
     ]
    }
   ],
   "source": [
    "print(thislist[3:7])\n",
    "print(thislist[3:])"
   ]
  },
  {
   "cell_type": "code",
   "execution_count": 161,
   "id": "c9f7fc83-82ff-4d4a-bb4b-58ea236fab2e",
   "metadata": {},
   "outputs": [],
   "source": [
    "Carlist = [\"Benz\", \"Bmw\", \"lexus\", \"corola\", \"Land Rover\", \"range rover\", \"peguot\"]"
   ]
  },
  {
   "cell_type": "code",
   "execution_count": 271,
   "id": "286fcf7f-efba-4c82-bcee-6955d880b8a6",
   "metadata": {},
   "outputs": [
    {
     "data": {
      "text/plain": [
       "['Land Rover', 'range rover', 'peguot']"
      ]
     },
     "execution_count": 271,
     "metadata": {},
     "output_type": "execute_result"
    }
   ],
   "source": [
    "Carlist[4:7]"
   ]
  },
  {
   "cell_type": "code",
   "execution_count": 272,
   "id": "89538ea1-1328-4a47-a95f-e84398b320cc",
   "metadata": {},
   "outputs": [
    {
     "name": "stdout",
     "output_type": "stream",
     "text": [
      "['Land Rover', 'range rover', 'peguot']\n"
     ]
    }
   ],
   "source": [
    "print(Carlist[4:7])"
   ]
  },
  {
   "cell_type": "code",
   "execution_count": 273,
   "id": "7527ff12-e4fd-4503-8e0d-d70a4aeffc06",
   "metadata": {},
   "outputs": [],
   "source": [
    "thislist.append(\"mango\")"
   ]
  },
  {
   "cell_type": "code",
   "execution_count": 274,
   "id": "7376ab20-190c-47fa-a122-2de724083b6d",
   "metadata": {},
   "outputs": [],
   "source": [
    "thislist = [\"apple\", \"banana\", \"cherry\", \"melon\", \"pineapple\", \"kiwi\", \"orange\"]\n"
   ]
  },
  {
   "cell_type": "code",
   "execution_count": 275,
   "id": "8ed1e7c6-0bd9-45bc-8421-ea817fc828cf",
   "metadata": {},
   "outputs": [],
   "source": [
    "thislist.remove(\"orange\")"
   ]
  },
  {
   "cell_type": "code",
   "execution_count": 276,
   "id": "ece3ddb8-3cdf-4c81-9075-09ba201fae72",
   "metadata": {},
   "outputs": [
    {
     "data": {
      "text/plain": [
       "['apple', 'banana', 'cherry', 'melon', 'pineapple', 'kiwi']"
      ]
     },
     "execution_count": 276,
     "metadata": {},
     "output_type": "execute_result"
    }
   ],
   "source": [
    "thislist"
   ]
  },
  {
   "cell_type": "code",
   "execution_count": 277,
   "id": "0a23d856-349e-47d3-b757-ca9547da761a",
   "metadata": {},
   "outputs": [],
   "source": [
    "thislist.append(\"sugarcane\")"
   ]
  },
  {
   "cell_type": "code",
   "execution_count": 170,
   "id": "ac695321-b844-4518-bafb-0489e0f43bad",
   "metadata": {},
   "outputs": [
    {
     "data": {
      "text/plain": [
       "['apple', 'banana', 'cherry', 'melon', 'pineapple', 'kiwi', 'sugarcane']"
      ]
     },
     "execution_count": 170,
     "metadata": {},
     "output_type": "execute_result"
    }
   ],
   "source": [
    "thislist"
   ]
  },
  {
   "cell_type": "code",
   "execution_count": 172,
   "id": "8e3965c4-9d8e-4c15-8686-3ffc098181c6",
   "metadata": {},
   "outputs": [],
   "source": [
    "#Clear all items from the list\n",
    "thislist.clear()"
   ]
  },
  {
   "cell_type": "code",
   "execution_count": 173,
   "id": "7c47d078-7e7e-46a2-9ba5-b1b9e18dd112",
   "metadata": {},
   "outputs": [
    {
     "data": {
      "text/plain": [
       "[]"
      ]
     },
     "execution_count": 173,
     "metadata": {},
     "output_type": "execute_result"
    }
   ],
   "source": [
    "thislist"
   ]
  },
  {
   "cell_type": "markdown",
   "id": "9d223c81-7c89-4ab7-a4f1-3423f10ca9d0",
   "metadata": {},
   "source": [
    "### IF ELSE"
   ]
  },
  {
   "cell_type": "code",
   "execution_count": 174,
   "id": "1319fa62-5c99-45ce-9450-abdc2c9b7c77",
   "metadata": {},
   "outputs": [],
   "source": [
    "a=20"
   ]
  },
  {
   "cell_type": "code",
   "execution_count": 175,
   "id": "2fcdad44-aff0-4729-9b3c-e4f9e04ecfb2",
   "metadata": {},
   "outputs": [
    {
     "name": "stdout",
     "output_type": "stream",
     "text": [
      "a is not less than fifteen\n"
     ]
    }
   ],
   "source": [
    "if a < 15:\n",
    "    print(\"a is less than fifteen\")\n",
    "else:\n",
    "    print(\"a is not less than fifteen\")"
   ]
  },
  {
   "cell_type": "code",
   "execution_count": 176,
   "id": "3927b7ba-c265-4a72-8869-61a9ff38e77f",
   "metadata": {},
   "outputs": [],
   "source": [
    "age = 12"
   ]
  },
  {
   "cell_type": "code",
   "execution_count": 179,
   "id": "00370f05-72d9-4b6f-b40b-7b0be03f67e7",
   "metadata": {},
   "outputs": [
    {
     "name": "stdout",
     "output_type": "stream",
     "text": [
      "you're not allowed to enter\n"
     ]
    }
   ],
   "source": [
    "if age < 18:\n",
    "    print (\"you're not allowed to enter\")\n",
    "else:\n",
    "    print(\"Acesss granted\")"
   ]
  },
  {
   "cell_type": "code",
   "execution_count": 183,
   "id": "12469024-3420-41e4-b207-9d2efe0ad77c",
   "metadata": {},
   "outputs": [
    {
     "name": "stdout",
     "output_type": "stream",
     "text": [
      "invalid Login\n"
     ]
    }
   ],
   "source": [
    "password = 1234\n",
    "if password == 1234:\n",
    "    print(\"invalid Login\")\n",
    "else:\n",
    "    print(\"login Sucessful\")\n"
   ]
  },
  {
   "cell_type": "code",
   "execution_count": 641,
   "id": "448216b9-24ad-4fbf-9734-5686f7e5796d",
   "metadata": {},
   "outputs": [],
   "source": [
    "# Simulating a website login using if else\n",
    "username = \"moore\"\n",
    "password = 12345\n",
    "email = \"moore@gmail.com\""
   ]
  },
  {
   "cell_type": "code",
   "execution_count": 195,
   "id": "61d0a581-84f7-4f48-9c72-b55e4ee73882",
   "metadata": {},
   "outputs": [
    {
     "name": "stdout",
     "output_type": "stream",
     "text": [
      "invalid Login details\n"
     ]
    }
   ],
   "source": [
    "if username == \"moore\" and password == 1234:\n",
    "    print(\"Login Sucessfull\")\n",
    "else:\n",
    "    print(\"invalid Login details\")"
   ]
  },
  {
   "cell_type": "code",
   "execution_count": 638,
   "id": "0c22e474-4df0-4728-9a8b-b835dacb79db",
   "metadata": {},
   "outputs": [
    {
     "name": "stdout",
     "output_type": "stream",
     "text": [
      "invalid login details\n"
     ]
    }
   ],
   "source": [
    "if (username == \"moore\" or email == \"moore@gmail.com\") and password == 1234555:\n",
    "    print(\"login sucessful\")\n",
    "else:\n",
    "    print(\"invalid login details\")"
   ]
  },
  {
   "cell_type": "code",
   "execution_count": 200,
   "id": "2d42c567-959e-40d4-9a46-356443114e2c",
   "metadata": {},
   "outputs": [],
   "source": [
    "age = 35"
   ]
  },
  {
   "cell_type": "code",
   "execution_count": 201,
   "id": "af890625-11ce-4cf3-8fca-f3271f755c86",
   "metadata": {},
   "outputs": [
    {
     "name": "stdout",
     "output_type": "stream",
     "text": [
      "adult\n"
     ]
    }
   ],
   "source": [
    "if age < 18:\n",
    "    print(\"minor\")\n",
    "elif age < 51:\n",
    "    print(\"adult\")\n",
    "else:\n",
    "    print(\"old\")\n"
   ]
  },
  {
   "cell_type": "markdown",
   "id": "35b6f2c2-4471-44f7-a1e8-92d63a050f6a",
   "metadata": {},
   "source": [
    "### BMI Calculator\n",
    "\n",
    "\n",
    "* Classification\tBMI range - kg/m2\n",
    "* Severe Thinness\t< 16\n",
    "* Moderate Thinness\t16 - 17\n",
    "* Mild Thinness\t17 - 18.5\n",
    "* Normal\t18.5 - 25\n",
    "* Overweight\t25 - 30\n",
    "* Obese Class I\t30 - 35\n",
    "* Obese Class II\t35 - 40\n",
    "* Obese Class III\t> 40\n"
   ]
  },
  {
   "cell_type": "code",
   "execution_count": 213,
   "id": "c376ef8d-e13e-4fca-a48d-0764726ec1cf",
   "metadata": {},
   "outputs": [],
   "source": [
    "BMI = 10"
   ]
  },
  {
   "cell_type": "code",
   "execution_count": 214,
   "id": "7a5c967a-fe3d-44dd-abc6-4681cf90a726",
   "metadata": {},
   "outputs": [
    {
     "name": "stdout",
     "output_type": "stream",
     "text": [
      "severe Thinness\n"
     ]
    }
   ],
   "source": [
    "if BMI < 16:\n",
    "    print(\"severe Thinness\")\n",
    "elif BMI <= 17:\n",
    "    print(\"moderate Thiness\")\n",
    "elif BMI <=18.5:\n",
    "    print(\"Mild Thiness\")\n",
    "elif BMI <=25:\n",
    "    print(\"Normal\")\n",
    "elif BMI <=30:\n",
    "    print(\"Overweight\")\n",
    "elif BMI <=35:\n",
    "    print(\"Obese Class I\")\n",
    "elif BMI <=40:\n",
    "    print(\"Obese Class II\")\n",
    "else: \n",
    "    print:(\"Obese Class III\")"
   ]
  },
  {
   "cell_type": "markdown",
   "id": "e8eb83c7-ed8f-4ba7-b34a-45d147fe896a",
   "metadata": {},
   "source": [
    "### Dictionary"
   ]
  },
  {
   "cell_type": "code",
   "execution_count": 215,
   "id": "376d3334-3d00-4829-bfd3-b6ac7a943b75",
   "metadata": {},
   "outputs": [],
   "source": [
    "users = {\"username\": \"techpriest\", \"password\": 12345}"
   ]
  },
  {
   "cell_type": "code",
   "execution_count": 216,
   "id": "3e3a862c-4b23-4d41-baca-0b25413623be",
   "metadata": {},
   "outputs": [
    {
     "data": {
      "text/plain": [
       "{'username': 'techpriest', 'password': 12345}"
      ]
     },
     "execution_count": 216,
     "metadata": {},
     "output_type": "execute_result"
    }
   ],
   "source": [
    "users"
   ]
  },
  {
   "cell_type": "code",
   "execution_count": 217,
   "id": "a746f5d6-af21-48d2-991e-d25a65790bc4",
   "metadata": {},
   "outputs": [
    {
     "data": {
      "text/plain": [
       "dict_values(['techpriest', 12345])"
      ]
     },
     "execution_count": 217,
     "metadata": {},
     "output_type": "execute_result"
    }
   ],
   "source": [
    "users.values()"
   ]
  },
  {
   "cell_type": "code",
   "execution_count": 218,
   "id": "2bd1fe62-1687-4b53-8032-b6eda1d41f84",
   "metadata": {},
   "outputs": [
    {
     "data": {
      "text/plain": [
       "dict_keys(['username', 'password'])"
      ]
     },
     "execution_count": 218,
     "metadata": {},
     "output_type": "execute_result"
    }
   ],
   "source": [
    "users.keys()"
   ]
  },
  {
   "cell_type": "code",
   "execution_count": 241,
   "id": "eae81a83-1d44-4714-ad55-6a7e4657a7c1",
   "metadata": {},
   "outputs": [],
   "source": [
    "Products = {\"product name\": \"nivea\", \"Describtion\": \"This is a nivea body cream\", \"Tags\": [\"lotion\",\"dark\",\"cream\", \"beauty\"]}"
   ]
  },
  {
   "cell_type": "code",
   "execution_count": 242,
   "id": "980237e0-84d3-42f7-a818-e52613196055",
   "metadata": {},
   "outputs": [
    {
     "data": {
      "text/plain": [
       "dict_values(['nivea', 'This is a nivea body cream', ['lotion', 'dark', 'cream', 'beauty']])"
      ]
     },
     "execution_count": 242,
     "metadata": {},
     "output_type": "execute_result"
    }
   ],
   "source": [
    "Products.values()"
   ]
  },
  {
   "cell_type": "code",
   "execution_count": 243,
   "id": "815e5780-ec08-40c6-a2d7-b3206a40f5d9",
   "metadata": {},
   "outputs": [
    {
     "data": {
      "text/plain": [
       "dict_keys(['product name', 'Describtion', 'Tags'])"
      ]
     },
     "execution_count": 243,
     "metadata": {},
     "output_type": "execute_result"
    }
   ],
   "source": [
    "Products.keys()"
   ]
  },
  {
   "cell_type": "code",
   "execution_count": 244,
   "id": "4c53d553-3cbe-4fab-afb7-83778a168d16",
   "metadata": {},
   "outputs": [
    {
     "data": {
      "text/plain": [
       "'This is a nivea body cream'"
      ]
     },
     "execution_count": 244,
     "metadata": {},
     "output_type": "execute_result"
    }
   ],
   "source": [
    "Products[\"Describtion\"]"
   ]
  },
  {
   "cell_type": "code",
   "execution_count": 245,
   "id": "df106e77-16a1-4762-a295-bb9c02cca7aa",
   "metadata": {},
   "outputs": [
    {
     "data": {
      "text/plain": [
       "'nivea'"
      ]
     },
     "execution_count": 245,
     "metadata": {},
     "output_type": "execute_result"
    }
   ],
   "source": [
    "Products[\"product name\"]"
   ]
  },
  {
   "cell_type": "code",
   "execution_count": 246,
   "id": "ed148f96-d07a-4462-936f-40037e2e1447",
   "metadata": {},
   "outputs": [
    {
     "data": {
      "text/plain": [
       "{'product name': 'nivea',\n",
       " 'Describtion': 'This is a nivea body cream',\n",
       " 'Tags': ['lotion', 'dark', 'cream', 'beauty']}"
      ]
     },
     "execution_count": 246,
     "metadata": {},
     "output_type": "execute_result"
    }
   ],
   "source": [
    "Products"
   ]
  },
  {
   "cell_type": "code",
   "execution_count": 250,
   "id": "e1bfb375-d9ee-470f-b620-d9bdceb56a69",
   "metadata": {},
   "outputs": [],
   "source": [
    "Products[\"product name\"] = \"okain\""
   ]
  },
  {
   "cell_type": "code",
   "execution_count": 251,
   "id": "d3dddf5d-3865-4c1c-87a7-dc9841b22c2d",
   "metadata": {},
   "outputs": [
    {
     "data": {
      "text/plain": [
       "{'product name': 'okain',\n",
       " 'Describtion': 'This is a nivea body cream',\n",
       " 'Tags': ['lotion', 'dark', 'cream', 'beauty'],\n",
       " 'Product name': 'okain'}"
      ]
     },
     "execution_count": 251,
     "metadata": {},
     "output_type": "execute_result"
    }
   ],
   "source": [
    "Products"
   ]
  },
  {
   "cell_type": "code",
   "execution_count": 254,
   "id": "07cfb0b7-21c9-439b-a8b0-0499ceca2322",
   "metadata": {},
   "outputs": [],
   "source": [
    "Products[\"Describtion\"] = \"this is a body soap\""
   ]
  },
  {
   "cell_type": "code",
   "execution_count": 255,
   "id": "77361e34-b656-408a-9387-9c8b95ea2e58",
   "metadata": {},
   "outputs": [
    {
     "data": {
      "text/plain": [
       "{'product name': 'okain',\n",
       " 'Describtion': 'this is a body soap',\n",
       " 'Tags': ['lotion', 'dark', 'cream', 'beauty'],\n",
       " 'Product name': 'okain',\n",
       " 'describtion': 'this is a body soap'}"
      ]
     },
     "execution_count": 255,
     "metadata": {},
     "output_type": "execute_result"
    }
   ],
   "source": [
    "Products"
   ]
  },
  {
   "cell_type": "code",
   "execution_count": 256,
   "id": "1a4259dd-287f-42af-8b82-d69ea9385387",
   "metadata": {},
   "outputs": [],
   "source": [
    "Products[\"price\"] = 5000"
   ]
  },
  {
   "cell_type": "code",
   "execution_count": 257,
   "id": "5de644eb-392b-41cc-b403-eb23eef1fb6e",
   "metadata": {},
   "outputs": [
    {
     "data": {
      "text/plain": [
       "{'product name': 'okain',\n",
       " 'Describtion': 'this is a body soap',\n",
       " 'Tags': ['lotion', 'dark', 'cream', 'beauty'],\n",
       " 'Product name': 'okain',\n",
       " 'describtion': 'this is a body soap',\n",
       " 'price': 5000}"
      ]
     },
     "execution_count": 257,
     "metadata": {},
     "output_type": "execute_result"
    }
   ],
   "source": [
    "Products"
   ]
  },
  {
   "cell_type": "code",
   "execution_count": 258,
   "id": "09133971-affa-4ec5-bbc6-a200265fbba5",
   "metadata": {},
   "outputs": [],
   "source": [
    "Products[\"Tags\"] = [\"soap\", \"dark\", \"cream\", \"beauty\"]"
   ]
  },
  {
   "cell_type": "code",
   "execution_count": 260,
   "id": "2d9f6720-9eaa-4d6c-b7cc-0f0ed866bc56",
   "metadata": {
    "scrolled": true
   },
   "outputs": [
    {
     "data": {
      "text/plain": [
       "{'product name': 'okain',\n",
       " 'Describtion': 'this is a body soap',\n",
       " 'Tags': ['soap', 'dark', 'cream', 'beauty'],\n",
       " 'Product name': 'okain',\n",
       " 'describtion': 'this is a body soap',\n",
       " 'price': 5000}"
      ]
     },
     "execution_count": 260,
     "metadata": {},
     "output_type": "execute_result"
    }
   ],
   "source": [
    "Products"
   ]
  },
  {
   "cell_type": "raw",
   "id": "1c84c842-c7a5-4e76-9d0c-fda98f29d195",
   "metadata": {},
   "source": [
    "Products[\"tags\"][0] = soap"
   ]
  },
  {
   "cell_type": "code",
   "execution_count": 261,
   "id": "1097e59d-66ee-444b-92a8-2cc8421da0db",
   "metadata": {},
   "outputs": [
    {
     "data": {
      "text/plain": [
       "{'product name': 'okain',\n",
       " 'Describtion': 'this is a body soap',\n",
       " 'Tags': ['soap', 'dark', 'cream', 'beauty'],\n",
       " 'Product name': 'okain',\n",
       " 'describtion': 'this is a body soap',\n",
       " 'price': 5000}"
      ]
     },
     "execution_count": 261,
     "metadata": {},
     "output_type": "execute_result"
    }
   ],
   "source": [
    "Products"
   ]
  },
  {
   "cell_type": "code",
   "execution_count": 264,
   "id": "8d3f70e4-9669-4e78-a65d-03ad8c7879cd",
   "metadata": {},
   "outputs": [
    {
     "data": {
      "text/plain": [
       "'Tags'"
      ]
     },
     "execution_count": 264,
     "metadata": {},
     "output_type": "execute_result"
    }
   ],
   "source": [
    "Products.pop(\"price\", 'Tags')"
   ]
  },
  {
   "cell_type": "code",
   "execution_count": 265,
   "id": "c1e79cb6-a91c-4210-82b9-d5d5c8708115",
   "metadata": {},
   "outputs": [
    {
     "data": {
      "text/plain": [
       "{'product name': 'okain',\n",
       " 'Describtion': 'this is a body soap',\n",
       " 'Tags': ['soap', 'dark', 'cream', 'beauty'],\n",
       " 'Product name': 'okain',\n",
       " 'describtion': 'this is a body soap'}"
      ]
     },
     "execution_count": 265,
     "metadata": {},
     "output_type": "execute_result"
    }
   ],
   "source": [
    "Products"
   ]
  },
  {
   "cell_type": "code",
   "execution_count": 266,
   "id": "df5a72e2-dc5c-4fae-875c-73d886fe280d",
   "metadata": {},
   "outputs": [],
   "source": [
    "Products.clear()"
   ]
  },
  {
   "cell_type": "code",
   "execution_count": 267,
   "id": "61002ef5-c2f0-4458-b122-f85c1e576562",
   "metadata": {},
   "outputs": [
    {
     "data": {
      "text/plain": [
       "{}"
      ]
     },
     "execution_count": 267,
     "metadata": {},
     "output_type": "execute_result"
    }
   ],
   "source": [
    "Products"
   ]
  },
  {
   "cell_type": "markdown",
   "id": "2e3287a9-f6ca-469c-bb52-34b2238d59e1",
   "metadata": {},
   "source": [
    "### GRADING SYSTEM\n",
    "\n",
    "* F < 45\n",
    "* d 45-50\n",
    "* c 50-59\n",
    "* b 60-69\n",
    "* a> 69"
   ]
  },
  {
   "cell_type": "code",
   "execution_count": 311,
   "id": "46e4791c-21e8-4af8-959a-90014318d37a",
   "metadata": {},
   "outputs": [],
   "source": [
    "Grade = 65"
   ]
  },
  {
   "cell_type": "code",
   "execution_count": 312,
   "id": "02b72473-b3fe-421d-9653-3fb19eafa2a8",
   "metadata": {},
   "outputs": [
    {
     "name": "stdout",
     "output_type": "stream",
     "text": [
      "b\n"
     ]
    }
   ],
   "source": [
    "if Grade < 45:\n",
    "    print (\"F\")\n",
    "elif Grade <= 50:\n",
    "    print (\"D\")\n",
    "elif Grade <=59:\n",
    "    print (\"c\")\n",
    "elif Grade <=69:\n",
    "    print (\"b\")\n",
    "else:\n",
    "    print (\"a\")"
   ]
  },
  {
   "cell_type": "markdown",
   "id": "b379557e-1657-44ce-a954-9e8ebea6fc71",
   "metadata": {},
   "source": [
    "### Assignment Operators"
   ]
  },
  {
   "cell_type": "code",
   "execution_count": 313,
   "id": "eaee40c8-af08-4655-9c5c-38e99223304a",
   "metadata": {},
   "outputs": [],
   "source": [
    "x =5"
   ]
  },
  {
   "cell_type": "code",
   "execution_count": 314,
   "id": "33055b67-46bc-4cb4-93fa-b164455568a2",
   "metadata": {},
   "outputs": [
    {
     "data": {
      "text/plain": [
       "7"
      ]
     },
     "execution_count": 314,
     "metadata": {},
     "output_type": "execute_result"
    }
   ],
   "source": [
    "x + 2"
   ]
  },
  {
   "cell_type": "code",
   "execution_count": 315,
   "id": "be973e8a-8733-42ec-a42c-b92ebee42f79",
   "metadata": {},
   "outputs": [],
   "source": [
    "x= x + 6"
   ]
  },
  {
   "cell_type": "code",
   "execution_count": 316,
   "id": "734f50e0-877e-4dbd-b5dd-bd51cb1471ee",
   "metadata": {},
   "outputs": [
    {
     "data": {
      "text/plain": [
       "11"
      ]
     },
     "execution_count": 316,
     "metadata": {},
     "output_type": "execute_result"
    }
   ],
   "source": [
    "x"
   ]
  },
  {
   "cell_type": "code",
   "execution_count": 317,
   "id": "4d8e954f-80c0-4405-80d7-8a12d17d5c5a",
   "metadata": {},
   "outputs": [
    {
     "data": {
      "text/plain": [
       "17"
      ]
     },
     "execution_count": 317,
     "metadata": {},
     "output_type": "execute_result"
    }
   ],
   "source": [
    "# x = x + 6\n",
    "x += 6\n",
    "x"
   ]
  },
  {
   "cell_type": "code",
   "execution_count": 318,
   "id": "51481d5e-6747-4478-8f43-c80013aba7e3",
   "metadata": {},
   "outputs": [
    {
     "data": {
      "text/plain": [
       "7"
      ]
     },
     "execution_count": 318,
     "metadata": {},
     "output_type": "execute_result"
    }
   ],
   "source": [
    "a = 10\n",
    "a -= 3\n",
    "a"
   ]
  },
  {
   "cell_type": "markdown",
   "id": "22992bc1-bb51-4969-a662-17708217ef5b",
   "metadata": {},
   "source": [
    "### While Loop"
   ]
  },
  {
   "cell_type": "code",
   "execution_count": 319,
   "id": "9d6299b9-dcb9-4896-8ff9-8991d0b07abe",
   "metadata": {},
   "outputs": [],
   "source": [
    "x = 2"
   ]
  },
  {
   "cell_type": "code",
   "execution_count": 320,
   "id": "49d3b545-93d3-4af4-89dc-cc29d91d428e",
   "metadata": {},
   "outputs": [
    {
     "name": "stdout",
     "output_type": "stream",
     "text": [
      "2\n",
      "3\n",
      "4\n",
      "5\n",
      "6\n",
      "7\n",
      "8\n",
      "9\n"
     ]
    }
   ],
   "source": [
    "while x < 10:\n",
    "    print(x)\n",
    "    x += 1"
   ]
  },
  {
   "cell_type": "code",
   "execution_count": 321,
   "id": "25a58032-5c60-4260-83ad-0b9b3b7e2904",
   "metadata": {},
   "outputs": [],
   "source": [
    "x=2"
   ]
  },
  {
   "cell_type": "code",
   "execution_count": 322,
   "id": "c03662f8-e92b-424a-8e6b-b2dd336c00f4",
   "metadata": {},
   "outputs": [
    {
     "name": "stdout",
     "output_type": "stream",
     "text": [
      "2\n",
      "4\n",
      "6\n",
      "8\n",
      "10\n",
      "12\n",
      "14\n",
      "16\n",
      "18\n",
      "20\n"
     ]
    }
   ],
   "source": [
    "while x <=20:\n",
    "    print (x)\n",
    "    x+=2"
   ]
  },
  {
   "cell_type": "markdown",
   "id": "58609b2d-9855-493d-a2c0-5ebbfdf79fa9",
   "metadata": {},
   "source": [
    "### Odd Numbers"
   ]
  },
  {
   "cell_type": "code",
   "execution_count": 323,
   "id": "8d30a830-1e7a-4015-ac6b-ac3b61d54eaf",
   "metadata": {},
   "outputs": [],
   "source": [
    "x=1"
   ]
  },
  {
   "cell_type": "code",
   "execution_count": 324,
   "id": "b8fde972-68e9-48ba-8f8e-bd68325e8ba5",
   "metadata": {},
   "outputs": [
    {
     "name": "stdout",
     "output_type": "stream",
     "text": [
      "1\n",
      "3\n",
      "5\n",
      "7\n",
      "9\n",
      "11\n",
      "13\n",
      "15\n",
      "17\n",
      "19\n"
     ]
    }
   ],
   "source": [
    "while x <= 19:\n",
    "    print (x)\n",
    "    x+=2"
   ]
  },
  {
   "cell_type": "markdown",
   "id": "9ad6005f-6f7f-455b-baa1-5193a62ad4c1",
   "metadata": {},
   "source": [
    "### For Loop"
   ]
  },
  {
   "cell_type": "code",
   "execution_count": 325,
   "id": "ade43a16-5b40-4a11-8a7d-29d16c53abce",
   "metadata": {},
   "outputs": [
    {
     "data": {
      "text/plain": [
       "['apple', 'pineapple', 'cherry']"
      ]
     },
     "execution_count": 325,
     "metadata": {},
     "output_type": "execute_result"
    }
   ],
   "source": [
    "fruits = [\"apple\", \"pineapple\", \"cherry\"]\n",
    "fruits"
   ]
  },
  {
   "cell_type": "code",
   "execution_count": 326,
   "id": "e93a4d55-676f-47ff-9021-fae7c721b935",
   "metadata": {},
   "outputs": [
    {
     "name": "stdout",
     "output_type": "stream",
     "text": [
      "apple\n",
      "pineapple\n",
      "cherry\n"
     ]
    }
   ],
   "source": [
    "for i in fruits:\n",
    "    print (i)"
   ]
  },
  {
   "cell_type": "code",
   "execution_count": 327,
   "id": "4b257b14-644e-4211-a794-76c64a57dfea",
   "metadata": {},
   "outputs": [
    {
     "data": {
      "text/plain": [
       "range(0, 6)"
      ]
     },
     "execution_count": 327,
     "metadata": {},
     "output_type": "execute_result"
    }
   ],
   "source": [
    "range (6)"
   ]
  },
  {
   "cell_type": "code",
   "execution_count": 328,
   "id": "b940d323-f0c0-4509-bbcf-9746ccf10c3e",
   "metadata": {},
   "outputs": [
    {
     "name": "stdout",
     "output_type": "stream",
     "text": [
      "0\n",
      "1\n",
      "2\n",
      "3\n",
      "4\n",
      "5\n"
     ]
    }
   ],
   "source": [
    "for x in range (6):\n",
    "    print (x)"
   ]
  },
  {
   "cell_type": "code",
   "execution_count": 329,
   "id": "8f8c6ae1-e5c9-4470-9643-2753dd57dc04",
   "metadata": {},
   "outputs": [
    {
     "data": {
      "text/plain": [
       "range(0, 10)"
      ]
     },
     "execution_count": 329,
     "metadata": {},
     "output_type": "execute_result"
    }
   ],
   "source": [
    "range (10)"
   ]
  },
  {
   "cell_type": "code",
   "execution_count": 330,
   "id": "534a9b1e-3d1e-4575-aadb-c44f299a3f6a",
   "metadata": {},
   "outputs": [
    {
     "name": "stdout",
     "output_type": "stream",
     "text": [
      "0\n",
      "1\n",
      "2\n",
      "3\n",
      "4\n",
      "5\n",
      "6\n",
      "7\n",
      "8\n",
      "9\n"
     ]
    }
   ],
   "source": [
    "for e in range (10):\n",
    "    print (e)"
   ]
  },
  {
   "cell_type": "code",
   "execution_count": 331,
   "id": "8d1a728a-61ef-4339-b410-43cd4cf8f699",
   "metadata": {},
   "outputs": [
    {
     "data": {
      "text/plain": [
       "range(2, 10)"
      ]
     },
     "execution_count": 331,
     "metadata": {},
     "output_type": "execute_result"
    }
   ],
   "source": [
    "# Start at 2\n",
    "range (2, 10)"
   ]
  },
  {
   "cell_type": "code",
   "execution_count": 332,
   "id": "590206e7-8564-4e42-b445-22d888888c17",
   "metadata": {},
   "outputs": [
    {
     "name": "stdout",
     "output_type": "stream",
     "text": [
      "2\n",
      "3\n",
      "4\n",
      "5\n",
      "6\n",
      "7\n",
      "8\n",
      "9\n"
     ]
    }
   ],
   "source": [
    "for c in range (2, 10):\n",
    "    print (c)"
   ]
  },
  {
   "cell_type": "code",
   "execution_count": 333,
   "id": "1b9b8a25-a1ee-42aa-8790-d5280c79efb7",
   "metadata": {},
   "outputs": [],
   "source": [
    "colors = [\"red\", \"blue\", \"green\"]"
   ]
  },
  {
   "cell_type": "code",
   "execution_count": 335,
   "id": "a0794ddd-7780-4eb6-97a5-b4981bef6624",
   "metadata": {},
   "outputs": [
    {
     "name": "stdout",
     "output_type": "stream",
     "text": [
      "apple red\n",
      "apple blue\n",
      "apple green\n",
      "pineapple red\n",
      "pineapple blue\n",
      "pineapple green\n",
      "cherry red\n",
      "cherry blue\n",
      "cherry green\n"
     ]
    }
   ],
   "source": [
    "for i in fruits:\n",
    "    for y in colors:\n",
    "        print(i, y)"
   ]
  },
  {
   "cell_type": "code",
   "execution_count": 338,
   "id": "1ebb941d-e65f-4eda-aa93-1bf9b1fa0bd4",
   "metadata": {},
   "outputs": [],
   "source": [
    "## Dictionary has key value pairs\n"
   ]
  },
  {
   "cell_type": "code",
   "execution_count": 339,
   "id": "4a727dd7-f61a-462e-b305-9fb3a8b3db05",
   "metadata": {},
   "outputs": [
    {
     "data": {
      "text/plain": [
       "{'name': 'ayomide', 'age': 19}"
      ]
     },
     "execution_count": 339,
     "metadata": {},
     "output_type": "execute_result"
    }
   ],
   "source": [
    "users = {\"name\": \"ayomide\", \"age\": 19}\n",
    "users"
   ]
  },
  {
   "cell_type": "code",
   "execution_count": 340,
   "id": "de07ab91-bde7-4f8a-8c57-b84c2e70bd61",
   "metadata": {},
   "outputs": [
    {
     "data": {
      "text/plain": [
       "dict_keys(['name', 'age'])"
      ]
     },
     "execution_count": 340,
     "metadata": {},
     "output_type": "execute_result"
    }
   ],
   "source": [
    "users.keys()"
   ]
  },
  {
   "cell_type": "code",
   "execution_count": 341,
   "id": "1b1da239-769e-436c-9f5f-d0ae152b2bff",
   "metadata": {},
   "outputs": [
    {
     "data": {
      "text/plain": [
       "dict_values(['ayomide', 19])"
      ]
     },
     "execution_count": 341,
     "metadata": {},
     "output_type": "execute_result"
    }
   ],
   "source": [
    "users.values()"
   ]
  },
  {
   "cell_type": "code",
   "execution_count": 342,
   "id": "f3c3a61b-a914-4e79-8251-481b38bc71a8",
   "metadata": {},
   "outputs": [
    {
     "name": "stdout",
     "output_type": "stream",
     "text": [
      "ayomide\n",
      "19\n"
     ]
    }
   ],
   "source": [
    "for x in users.values():\n",
    "    print(x)"
   ]
  },
  {
   "cell_type": "markdown",
   "id": "d94d8b8e-8866-43eb-aec0-138b9c6f100b",
   "metadata": {},
   "source": [
    "### FUNCTIONS"
   ]
  },
  {
   "cell_type": "markdown",
   "id": "33d9c4d5-44af-4016-837e-a39c1d488ea1",
   "metadata": {},
   "source": [
    "a function is a block of code which only runs when it is called. you can pass datas known as patameters into functions. \n",
    "A function can return datas as result\n"
   ]
  },
  {
   "cell_type": "code",
   "execution_count": 344,
   "id": "0bc7cdf5-7f9c-40c1-9b6c-456af71939c7",
   "metadata": {},
   "outputs": [],
   "source": [
    "def myfunction():\n",
    "    print(\"hello from the fuction world\")"
   ]
  },
  {
   "cell_type": "code",
   "execution_count": 345,
   "id": "25834cd4-3c94-4aa2-94b6-fe5da98e56e4",
   "metadata": {},
   "outputs": [
    {
     "name": "stdout",
     "output_type": "stream",
     "text": [
      "hello from the fuction world\n"
     ]
    }
   ],
   "source": [
    "myfunction()"
   ]
  },
  {
   "cell_type": "code",
   "execution_count": 346,
   "id": "94c5dcbe-be04-4a66-b2c5-dff0090f45e7",
   "metadata": {},
   "outputs": [],
   "source": [
    "# a function that takes in two numbers and adds it together \n",
    "def addition(x,y):\n",
    "    c = x + y\n",
    "    print(c)\n",
    "    "
   ]
  },
  {
   "cell_type": "code",
   "execution_count": 347,
   "id": "cd41584a-46ba-40a7-9b84-8f8ece9bb7c9",
   "metadata": {},
   "outputs": [
    {
     "name": "stdout",
     "output_type": "stream",
     "text": [
      "10\n"
     ]
    }
   ],
   "source": [
    "addition(3,7)"
   ]
  },
  {
   "cell_type": "code",
   "execution_count": 348,
   "id": "14d88951-678e-4c8c-b615-9c635bad1398",
   "metadata": {},
   "outputs": [
    {
     "name": "stdout",
     "output_type": "stream",
     "text": [
      "17\n"
     ]
    }
   ],
   "source": [
    "addition(7,10)"
   ]
  },
  {
   "cell_type": "code",
   "execution_count": 350,
   "id": "26d9979d-21e9-4d61-8bdc-9aa88889d4ae",
   "metadata": {},
   "outputs": [],
   "source": [
    "def substraction (r,w):\n",
    "    b = r - w\n",
    "    print(b)"
   ]
  },
  {
   "cell_type": "code",
   "execution_count": 352,
   "id": "7f3ec2f2-64ba-4842-89e1-3e5291706536",
   "metadata": {},
   "outputs": [
    {
     "name": "stdout",
     "output_type": "stream",
     "text": [
      "5\n"
     ]
    }
   ],
   "source": [
    "substraction(10,5)"
   ]
  },
  {
   "cell_type": "code",
   "execution_count": 353,
   "id": "bfd97658-9418-405b-9af6-124aa8f95d81",
   "metadata": {},
   "outputs": [],
   "source": [
    "## passing aguments by default\n",
    "def defaultparams(country= \"UK\"):\n",
    "    print(country)"
   ]
  },
  {
   "cell_type": "code",
   "execution_count": 356,
   "id": "993c7c65-59fd-4b9c-8882-84061375c72e",
   "metadata": {},
   "outputs": [
    {
     "name": "stdout",
     "output_type": "stream",
     "text": [
      "UK\n"
     ]
    }
   ],
   "source": [
    "defaultparams()"
   ]
  },
  {
   "cell_type": "code",
   "execution_count": 358,
   "id": "24bc4b3c-be8d-4e60-a68d-5bd46cdce188",
   "metadata": {},
   "outputs": [
    {
     "name": "stdout",
     "output_type": "stream",
     "text": [
      "Nigeria\n"
     ]
    }
   ],
   "source": [
    "defaultparams(\"Nigeria\")"
   ]
  },
  {
   "cell_type": "code",
   "execution_count": 359,
   "id": "bd1c3cc3-8467-4101-a35b-b792b4b32eb2",
   "metadata": {},
   "outputs": [
    {
     "name": "stdout",
     "output_type": "stream",
     "text": [
      "UK\n"
     ]
    }
   ],
   "source": [
    "defaultparams()"
   ]
  },
  {
   "cell_type": "code",
   "execution_count": 367,
   "id": "eee62aff-e989-4d93-a1f5-e1c9ea78a87b",
   "metadata": {},
   "outputs": [],
   "source": [
    "def subtraction(a = 7, b = 2):\n",
    "    c= b-a\n",
    "    print(c)"
   ]
  },
  {
   "cell_type": "code",
   "execution_count": 368,
   "id": "13af0de5-3706-407c-bc3c-1bdebdc809c8",
   "metadata": {},
   "outputs": [
    {
     "name": "stdout",
     "output_type": "stream",
     "text": [
      "-5\n"
     ]
    }
   ],
   "source": [
    "subtraction()"
   ]
  },
  {
   "cell_type": "code",
   "execution_count": 369,
   "id": "61ee0ba4-f790-4c8a-8c29-6226cca90b19",
   "metadata": {},
   "outputs": [
    {
     "name": "stdout",
     "output_type": "stream",
     "text": [
      "10\n"
     ]
    }
   ],
   "source": [
    "subtraction(10, 20)"
   ]
  },
  {
   "cell_type": "code",
   "execution_count": 380,
   "id": "1f3b8332-630b-40b7-b66e-9dbf218590c3",
   "metadata": {},
   "outputs": [],
   "source": [
    "def product(Name, brand, price = 10000):\n",
    "    print (Name)\n",
    "    print (brand)\n",
    "    print (price)"
   ]
  },
  {
   "cell_type": "code",
   "execution_count": 381,
   "id": "46aa2aa5-a881-4739-b3d2-128ecc959655",
   "metadata": {},
   "outputs": [
    {
     "name": "stdout",
     "output_type": "stream",
     "text": [
      "Godfrey\n",
      "Lexus\n",
      "2000000\n"
     ]
    }
   ],
   "source": [
    "product( \"Godfrey\", \"Lexus\", \"2000000\")"
   ]
  },
  {
   "cell_type": "code",
   "execution_count": 390,
   "id": "920bfe63-176c-45d6-bfae-4955e6d9aac0",
   "metadata": {},
   "outputs": [
    {
     "ename": "SyntaxError",
     "evalue": "parameter without a default follows parameter with a default (467149882.py, line 1)",
     "output_type": "error",
     "traceback": [
      "\u001b[1;36m  Cell \u001b[1;32mIn[390], line 1\u001b[1;36m\u001b[0m\n\u001b[1;33m    def circle(pi = 3.14, r):\u001b[0m\n\u001b[1;37m                          ^\u001b[0m\n\u001b[1;31mSyntaxError\u001b[0m\u001b[1;31m:\u001b[0m parameter without a default follows parameter with a default\n"
     ]
    }
   ],
   "source": [
    "def circle(pi = 3.14, r):\n",
    "    A= 3.14 * r**2\n",
    "    print(A)"
   ]
  },
  {
   "cell_type": "code",
   "execution_count": 397,
   "id": "8c9de812-b62c-4a80-83ea-5b908e2ace8f",
   "metadata": {},
   "outputs": [],
   "source": [
    "# Correction\n",
    "\n",
    "def circle(r, pi = 3.14):\n",
    "    area = pi * (r ** 2)\n",
    "    print(area)"
   ]
  },
  {
   "cell_type": "code",
   "execution_count": 398,
   "id": "926760ff-e9a0-4e45-b007-3b5e5418d7a8",
   "metadata": {},
   "outputs": [
    {
     "name": "stdout",
     "output_type": "stream",
     "text": [
      "153.86\n"
     ]
    }
   ],
   "source": [
    "circle(r=7)"
   ]
  },
  {
   "cell_type": "code",
   "execution_count": null,
   "id": "f868adaf-e303-4de3-855b-49bc66e25a49",
   "metadata": {},
   "outputs": [],
   "source": []
  },
  {
   "cell_type": "code",
   "execution_count": null,
   "id": "66b41865-ab4f-4eeb-b0fd-ca1648f6f704",
   "metadata": {},
   "outputs": [],
   "source": []
  },
  {
   "cell_type": "code",
   "execution_count": 401,
   "id": "aafde2aa-2aa1-4080-b531-12b837a3f7b5",
   "metadata": {},
   "outputs": [],
   "source": [
    "def triangle(b, h):\n",
    "    A= 0.5 * b * h\n",
    "    print (A)"
   ]
  },
  {
   "cell_type": "code",
   "execution_count": 408,
   "id": "dfc48559-d416-4062-8df0-127ab01cd949",
   "metadata": {},
   "outputs": [
    {
     "name": "stdout",
     "output_type": "stream",
     "text": [
      "22.5\n"
     ]
    }
   ],
   "source": [
    "triangle(5,9)"
   ]
  },
  {
   "cell_type": "code",
   "execution_count": 444,
   "id": "db71e053-d1e9-4252-9793-04189677f991",
   "metadata": {},
   "outputs": [],
   "source": [
    "def trapizum(a, b, h):\n",
    "    c= a + b\n",
    "    A= 0.5 * c * h\n",
    "    print (A)"
   ]
  },
  {
   "cell_type": "code",
   "execution_count": 420,
   "id": "13b4a6bf-9f82-4b39-b4b5-9bdefa712362",
   "metadata": {},
   "outputs": [
    {
     "name": "stdout",
     "output_type": "stream",
     "text": [
      "4.5\n"
     ]
    }
   ],
   "source": [
    "trapizum(1,2,3)"
   ]
  },
  {
   "cell_type": "code",
   "execution_count": 421,
   "id": "6e1154bb-f68f-4d4e-92c8-1159599c1c12",
   "metadata": {},
   "outputs": [
    {
     "data": {
      "text/plain": [
       "4.5"
      ]
     },
     "execution_count": 421,
     "metadata": {},
     "output_type": "execute_result"
    }
   ],
   "source": [
    "0.5 * 9"
   ]
  },
  {
   "cell_type": "code",
   "execution_count": 422,
   "id": "81e6222e-5f9b-4451-a9a1-2b9008f5c13b",
   "metadata": {},
   "outputs": [],
   "source": [
    "email = \"moore@gmail.com\"\n",
    "password = 12345"
   ]
  },
  {
   "cell_type": "code",
   "execution_count": 423,
   "id": "04d40735-8f46-474a-9bec-9b6af36804c4",
   "metadata": {},
   "outputs": [
    {
     "name": "stdout",
     "output_type": "stream",
     "text": [
      "login Sucessful\n"
     ]
    }
   ],
   "source": [
    "if email == \"moore@gmail.com\" and password == 12345:\n",
    "    print(\"login Sucessful\")\n",
    "else:\n",
    "    print(\"invalid login details\")"
   ]
  },
  {
   "cell_type": "code",
   "execution_count": 424,
   "id": "e7b94424-867a-45bc-94f0-f3f628ef5b4b",
   "metadata": {},
   "outputs": [],
   "source": [
    "def login(email, password):\n",
    "    if email == \"moore@gmail.com\" and password == 12345:\n",
    "        print(\"login Succesful\")\n",
    "    else:\n",
    "        print(\"invalid login details\")"
   ]
  },
  {
   "cell_type": "code",
   "execution_count": 425,
   "id": "24c817d0-1bf7-4481-830b-e2c2183c6972",
   "metadata": {},
   "outputs": [
    {
     "name": "stdout",
     "output_type": "stream",
     "text": [
      "invalid login details\n"
     ]
    }
   ],
   "source": [
    "login(\"hgdjhfvhcgdgbd@gmail.com\", 12345)"
   ]
  },
  {
   "cell_type": "code",
   "execution_count": 427,
   "id": "06056d3e-5dba-47bd-ae35-3086beaec231",
   "metadata": {},
   "outputs": [
    {
     "name": "stdout",
     "output_type": "stream",
     "text": [
      "login Succesful\n"
     ]
    }
   ],
   "source": [
    "login(\"moore@gmail.com\", 12345)"
   ]
  },
  {
   "cell_type": "code",
   "execution_count": 489,
   "id": "a2c0ac2f-c965-4066-b652-d00bebbb7689",
   "metadata": {},
   "outputs": [],
   "source": [
    "## Assignment.. True for Even, false for Odd numbers.\n",
    "\n",
    "def is_even (num):\n",
    "    if num % 2 == 0:\n",
    "        print (\"true\")\n",
    "    else:\n",
    "        print (\"false\")"
   ]
  },
  {
   "cell_type": "code",
   "execution_count": 477,
   "id": "9b2a8dea-2835-4483-8268-94bbbbef190e",
   "metadata": {},
   "outputs": [
    {
     "name": "stdout",
     "output_type": "stream",
     "text": [
      "true\n"
     ]
    }
   ],
   "source": [
    "is_even(6)"
   ]
  },
  {
   "cell_type": "code",
   "execution_count": 478,
   "id": "74051735-5ded-49d2-ad6c-17977d71bf09",
   "metadata": {},
   "outputs": [],
   "source": [
    "x=6"
   ]
  },
  {
   "cell_type": "code",
   "execution_count": 479,
   "id": "5cd7da94-b409-4f14-ac00-1b051ca20088",
   "metadata": {},
   "outputs": [
    {
     "name": "stdout",
     "output_type": "stream",
     "text": [
      "6\n",
      "7\n",
      "8\n",
      "9\n"
     ]
    }
   ],
   "source": [
    "while x < 10:\n",
    "    print(x)\n",
    "    x += 1"
   ]
  },
  {
   "cell_type": "code",
   "execution_count": 490,
   "id": "a80f0840-bdd4-4fb1-bbf0-78e5b28a8fe7",
   "metadata": {},
   "outputs": [],
   "source": [
    "### True for odd, False for Even, != another way or writing not even!\n",
    "\n",
    "def is_even(x):\n",
    "    if x% 2 != 0:\n",
    "        print(True)\n",
    "    else:\n",
    "        print(False)\n",
    "    "
   ]
  },
  {
   "cell_type": "code",
   "execution_count": 484,
   "id": "79b87bbb-3d2b-486c-93ac-f394ad1624d9",
   "metadata": {},
   "outputs": [
    {
     "name": "stdout",
     "output_type": "stream",
     "text": [
      "True\n"
     ]
    }
   ],
   "source": [
    "is_even(9)"
   ]
  },
  {
   "cell_type": "code",
   "execution_count": 485,
   "id": "f226399e-3cd7-40da-beb4-75d30d2edd12",
   "metadata": {},
   "outputs": [
    {
     "name": "stdout",
     "output_type": "stream",
     "text": [
      "False\n"
     ]
    }
   ],
   "source": [
    "is_even(12)"
   ]
  },
  {
   "cell_type": "code",
   "execution_count": 486,
   "id": "b5d30fa5-4d77-4096-8842-50efd9790e26",
   "metadata": {},
   "outputs": [],
   "source": [
    "def is_even(x):\n",
    "    if x% 2 == 1:\n",
    "        print(True)\n",
    "    else:\n",
    "        print(False)\n",
    "    "
   ]
  },
  {
   "cell_type": "code",
   "execution_count": 487,
   "id": "6e474e12-4c8e-4a4e-b6fc-1244c8b4b264",
   "metadata": {},
   "outputs": [
    {
     "name": "stdout",
     "output_type": "stream",
     "text": [
      "True\n"
     ]
    }
   ],
   "source": [
    "is_even(9)"
   ]
  },
  {
   "cell_type": "code",
   "execution_count": 488,
   "id": "b9bfd2c3-bbaa-4f8d-ab8a-f05626be1721",
   "metadata": {},
   "outputs": [
    {
     "name": "stdout",
     "output_type": "stream",
     "text": [
      "False\n"
     ]
    }
   ],
   "source": [
    "is_even(6)"
   ]
  },
  {
   "cell_type": "markdown",
   "id": "08225d93-e250-4c17-abc1-e999f8bbf2ad",
   "metadata": {},
   "source": [
    "### Strings"
   ]
  },
  {
   "cell_type": "code",
   "execution_count": 491,
   "id": "b284c5d9-d2db-4861-99b2-2e9c559ec39e",
   "metadata": {},
   "outputs": [],
   "source": [
    "d= \"this is a string\""
   ]
  },
  {
   "cell_type": "code",
   "execution_count": 492,
   "id": "cc09b067-ae7a-466d-a6e5-d2d25f24683e",
   "metadata": {},
   "outputs": [
    {
     "data": {
      "text/plain": [
       "'this is a string'"
      ]
     },
     "execution_count": 492,
     "metadata": {},
     "output_type": "execute_result"
    }
   ],
   "source": [
    "d"
   ]
  },
  {
   "cell_type": "code",
   "execution_count": 493,
   "id": "be9a220f-06aa-472b-bf4c-f9049dbb0118",
   "metadata": {},
   "outputs": [
    {
     "data": {
      "text/plain": [
       "'t'"
      ]
     },
     "execution_count": 493,
     "metadata": {},
     "output_type": "execute_result"
    }
   ],
   "source": [
    "d[0]"
   ]
  },
  {
   "cell_type": "code",
   "execution_count": 494,
   "id": "a0c22ac8-9442-4ddd-9e00-6b1b872e2c47",
   "metadata": {},
   "outputs": [
    {
     "data": {
      "text/plain": [
       "'this '"
      ]
     },
     "execution_count": 494,
     "metadata": {},
     "output_type": "execute_result"
    }
   ],
   "source": [
    "d[:5]"
   ]
  },
  {
   "cell_type": "code",
   "execution_count": 495,
   "id": "99d1df19-b367-4352-8331-0e95133deca5",
   "metadata": {},
   "outputs": [
    {
     "data": {
      "text/plain": [
       "[0, 1, 2, 3, 4]"
      ]
     },
     "execution_count": 495,
     "metadata": {},
     "output_type": "execute_result"
    }
   ],
   "source": [
    "x=[0,1,2,3,4,5,6,5,65,6,56]\n",
    "x[:5]"
   ]
  },
  {
   "cell_type": "code",
   "execution_count": 498,
   "id": "fc0e4ce6-eff2-4bf8-ae64-bf750d27a428",
   "metadata": {},
   "outputs": [
    {
     "data": {
      "text/plain": [
       "'string'"
      ]
     },
     "execution_count": 498,
     "metadata": {},
     "output_type": "execute_result"
    }
   ],
   "source": [
    "d[10:]"
   ]
  },
  {
   "cell_type": "code",
   "execution_count": 501,
   "id": "080f28b5-3472-464d-9ff3-9889e87b2792",
   "metadata": {},
   "outputs": [
    {
     "data": {
      "text/plain": [
       "16"
      ]
     },
     "execution_count": 501,
     "metadata": {},
     "output_type": "execute_result"
    }
   ],
   "source": [
    "# use len to check the total numbers of (arguments,paramters or items) in a list\n",
    "\n",
    "len(d)"
   ]
  },
  {
   "cell_type": "code",
   "execution_count": 502,
   "id": "11a35519-e1ba-4ced-9042-7773be1a4b5a",
   "metadata": {},
   "outputs": [
    {
     "data": {
      "text/plain": [
       "'hellohowfar'"
      ]
     },
     "execution_count": 502,
     "metadata": {},
     "output_type": "execute_result"
    }
   ],
   "source": [
    "\"hello\" + \"howfar\""
   ]
  },
  {
   "cell_type": "code",
   "execution_count": 503,
   "id": "e4ae4a04-1286-4531-8376-b1876225b2e9",
   "metadata": {},
   "outputs": [
    {
     "ename": "TypeError",
     "evalue": "can only concatenate str (not \"int\") to str",
     "output_type": "error",
     "traceback": [
      "\u001b[1;31m---------------------------------------------------------------------------\u001b[0m",
      "\u001b[1;31mTypeError\u001b[0m                                 Traceback (most recent call last)",
      "Cell \u001b[1;32mIn[503], line 1\u001b[0m\n\u001b[1;32m----> 1\u001b[0m \u001b[38;5;124;43m\"\u001b[39;49m\u001b[38;5;124;43mhello\u001b[39;49m\u001b[38;5;124;43m\"\u001b[39;49m\u001b[43m \u001b[49m\u001b[38;5;241;43m+\u001b[39;49m\u001b[43m \u001b[49m\u001b[38;5;241;43m2\u001b[39;49m\n",
      "\u001b[1;31mTypeError\u001b[0m: can only concatenate str (not \"int\") to str"
     ]
    }
   ],
   "source": [
    "\"hello\" + 2"
   ]
  },
  {
   "cell_type": "code",
   "execution_count": 512,
   "id": "5d5d897f-85d3-4760-970c-327de2de5952",
   "metadata": {},
   "outputs": [],
   "source": [
    "firstname = \"ayomide\"\n",
    "lastname =  \"alex\""
   ]
  },
  {
   "cell_type": "code",
   "execution_count": 513,
   "id": "09f9000a-af03-4e78-8d3e-1b511aca1cce",
   "metadata": {},
   "outputs": [
    {
     "data": {
      "text/plain": [
       "'ayomidealex'"
      ]
     },
     "execution_count": 513,
     "metadata": {},
     "output_type": "execute_result"
    }
   ],
   "source": [
    "fullname= firstname + lastname\n",
    "fullname"
   ]
  },
  {
   "cell_type": "code",
   "execution_count": 514,
   "id": "7f5d7a22-f37a-4f10-bde7-12c3ec017be1",
   "metadata": {},
   "outputs": [
    {
     "data": {
      "text/plain": [
       "'ayomide alex'"
      ]
     },
     "execution_count": 514,
     "metadata": {},
     "output_type": "execute_result"
    }
   ],
   "source": [
    "fullname = firstname + \" \" + lastname\n",
    "fullname"
   ]
  },
  {
   "cell_type": "code",
   "execution_count": 515,
   "id": "8596dbe7-c6de-4825-9334-7a1324880c68",
   "metadata": {},
   "outputs": [
    {
     "name": "stdout",
     "output_type": "stream",
     "text": [
      "this is my firstname ayomide\n"
     ]
    }
   ],
   "source": [
    "# when printing a string together with a varriable name alwaysd sepreate the two with a comma \n",
    "print(\"this is my firstname\", firstname)"
   ]
  },
  {
   "cell_type": "code",
   "execution_count": 521,
   "id": "ad42ceb5-a120-496c-8e2d-697f7b1ab9fa",
   "metadata": {},
   "outputs": [
    {
     "name": "stdout",
     "output_type": "stream",
     "text": [
      "firstname: ayomide lastname: alex\n"
     ]
    }
   ],
   "source": [
    "print(\"firstname:\", firstname, \"lastname:\", lastname)"
   ]
  },
  {
   "cell_type": "code",
   "execution_count": 518,
   "id": "3eddd670-7571-4849-85fe-17346bfe1b07",
   "metadata": {},
   "outputs": [
    {
     "data": {
      "text/plain": [
       "'ayomide'"
      ]
     },
     "execution_count": 518,
     "metadata": {},
     "output_type": "execute_result"
    }
   ],
   "source": [
    "#upper.. We use the upper method the transform a text into uppercase/capital letters\n",
    "firstname"
   ]
  },
  {
   "cell_type": "code",
   "execution_count": 522,
   "id": "3d8cc970-9751-40dc-869f-2232e89f7665",
   "metadata": {},
   "outputs": [
    {
     "data": {
      "text/plain": [
       "'AYOMIDE'"
      ]
     },
     "execution_count": 522,
     "metadata": {},
     "output_type": "execute_result"
    }
   ],
   "source": [
    "firstname.upper()"
   ]
  },
  {
   "cell_type": "code",
   "execution_count": 523,
   "id": "1f9236fa-5388-4417-a03b-7a0df8920ff3",
   "metadata": {},
   "outputs": [
    {
     "data": {
      "text/plain": [
       "'ayomide'"
      ]
     },
     "execution_count": 523,
     "metadata": {},
     "output_type": "execute_result"
    }
   ],
   "source": [
    "firstname"
   ]
  },
  {
   "cell_type": "code",
   "execution_count": 525,
   "id": "53f94d89-49a2-4036-a23f-2411ee636c1c",
   "metadata": {},
   "outputs": [
    {
     "data": {
      "text/plain": [
       "'AYOMIDE'"
      ]
     },
     "execution_count": 525,
     "metadata": {},
     "output_type": "execute_result"
    }
   ],
   "source": [
    "y= firstname.upper()\n",
    "y"
   ]
  },
  {
   "cell_type": "code",
   "execution_count": 527,
   "id": "0651dc85-3a5c-46ef-aa59-2edd8a1b52e2",
   "metadata": {},
   "outputs": [
    {
     "data": {
      "text/plain": [
       "'ayomide'"
      ]
     },
     "execution_count": 527,
     "metadata": {},
     "output_type": "execute_result"
    }
   ],
   "source": [
    "#we use lower to transform text into lower case/ small letters\n",
    "y.lower()"
   ]
  },
  {
   "cell_type": "code",
   "execution_count": 528,
   "id": "c045e3db-4113-4c71-adda-ca97a5ab594e",
   "metadata": {},
   "outputs": [
    {
     "name": "stdout",
     "output_type": "stream",
     "text": [
      "llo\n"
     ]
    }
   ],
   "source": [
    "b = \"Hello, World!\"\n",
    "print(b[2:5])"
   ]
  },
  {
   "cell_type": "code",
   "execution_count": 530,
   "id": "c07877a7-223e-422f-a6ee-5b32fcab9192",
   "metadata": {},
   "outputs": [
    {
     "data": {
      "text/plain": [
       "'godf hf   akjhhd hsvd sgsb xb    '"
      ]
     },
     "execution_count": 530,
     "metadata": {},
     "output_type": "execute_result"
    }
   ],
   "source": [
    "# strip.. we use the strip method on strings to remove unncessary empty spaces from a string\n",
    "f = \"godf hf   akjhhd hsvd sgsb xb    \"\n",
    "f"
   ]
  },
  {
   "cell_type": "code",
   "execution_count": 531,
   "id": "4d822140-3704-4ec1-bbba-76a1c48ce187",
   "metadata": {},
   "outputs": [
    {
     "data": {
      "text/plain": [
       "'godf hf   akjhhd hsvd sgsb xb'"
      ]
     },
     "execution_count": 531,
     "metadata": {},
     "output_type": "execute_result"
    }
   ],
   "source": [
    "f.strip()"
   ]
  },
  {
   "cell_type": "code",
   "execution_count": 533,
   "id": "e8d2e4b7-6519-44b4-83ac-6743b6d67c56",
   "metadata": {},
   "outputs": [
    {
     "data": {
      "text/plain": [
       "'      Ai is the Future        '"
      ]
     },
     "execution_count": 533,
     "metadata": {},
     "output_type": "execute_result"
    }
   ],
   "source": [
    "g= \"      Ai is the Future        \"\n",
    "g"
   ]
  },
  {
   "cell_type": "code",
   "execution_count": 534,
   "id": "73cd52c9-8124-4ad2-b70e-1f6144db51f7",
   "metadata": {},
   "outputs": [
    {
     "data": {
      "text/plain": [
       "'Ai is the Future'"
      ]
     },
     "execution_count": 534,
     "metadata": {},
     "output_type": "execute_result"
    }
   ],
   "source": [
    "g.strip()"
   ]
  },
  {
   "cell_type": "code",
   "execution_count": 535,
   "id": "fae9ffb4-b450-4abe-9ac3-4e5d7d38d493",
   "metadata": {},
   "outputs": [],
   "source": [
    "## Repalce method is your to replacing strings/letter with another string\n",
    "\n",
    "myString= \"Seyi Tinubu\""
   ]
  },
  {
   "cell_type": "code",
   "execution_count": 536,
   "id": "4fd3fa84-7f3e-4348-9a09-e26c3813bea2",
   "metadata": {},
   "outputs": [
    {
     "data": {
      "text/plain": [
       "'Feyi Tinubu'"
      ]
     },
     "execution_count": 536,
     "metadata": {},
     "output_type": "execute_result"
    }
   ],
   "source": [
    "myString.replace(\"S\", \"F\")"
   ]
  },
  {
   "cell_type": "code",
   "execution_count": 537,
   "id": "f9ee9d41-dc14-4549-8781-93d28071f064",
   "metadata": {},
   "outputs": [],
   "source": [
    "## Remove method.. this is to remove string from another string."
   ]
  },
  {
   "cell_type": "code",
   "execution_count": 544,
   "id": "0f2af97b-dc7f-4c38-be99-0330a7b534c2",
   "metadata": {},
   "outputs": [],
   "source": [
    "## Split() method seperates a string into sub strings using a seperator\n",
    "\n",
    "genre = \"action|drama|sci-fi|romance\""
   ]
  },
  {
   "cell_type": "code",
   "execution_count": 545,
   "id": "9ac855e7-848e-4c6e-84d5-e1b1d66dc5b0",
   "metadata": {},
   "outputs": [
    {
     "data": {
      "text/plain": [
       "['action', 'drama', 'sci-fi', 'romance']"
      ]
     },
     "execution_count": 545,
     "metadata": {},
     "output_type": "execute_result"
    }
   ],
   "source": [
    "genre.split(\"|\")"
   ]
  },
  {
   "cell_type": "code",
   "execution_count": 546,
   "id": "49fdd8de-2ff2-4d38-a331-0c345d11999e",
   "metadata": {},
   "outputs": [],
   "source": [
    "df= \"name, title, genre, producer, budget\""
   ]
  },
  {
   "cell_type": "code",
   "execution_count": 547,
   "id": "5a8d35b6-e970-4c47-9338-a8d2962d0112",
   "metadata": {},
   "outputs": [
    {
     "data": {
      "text/plain": [
       "['name', ' title', ' genre', ' producer', ' budget']"
      ]
     },
     "execution_count": 547,
     "metadata": {},
     "output_type": "execute_result"
    }
   ],
   "source": [
    "df.split(\",\")"
   ]
  },
  {
   "cell_type": "code",
   "execution_count": 551,
   "id": "3cecec5e-8490-4343-af28-fa02887d9239",
   "metadata": {},
   "outputs": [],
   "source": [
    "# !pip install numpy\n",
    "\n",
    "NumPy is a Python library used for working with arrays.\n",
    "\n",
    "It also has functions for working in domain of linear algebra, fourier transform, and matrices.\n",
    "\n",
    "NumPy was created in 2005 by Travis Oliphant. It is an open source project and you can use it freely.\n",
    "\n",
    "NumPy stands for Numerical Python."
   ]
  },
  {
   "cell_type": "code",
   "execution_count": 552,
   "id": "0f105b70-40ef-4057-a529-5a1c42de3369",
   "metadata": {},
   "outputs": [],
   "source": [
    "import numpy as np"
   ]
  },
  {
   "cell_type": "code",
   "execution_count": 553,
   "id": "817b92d5-d8e5-41c8-b5be-441e2b5b826e",
   "metadata": {},
   "outputs": [
    {
     "data": {
      "text/plain": [
       "array([1, 2, 4, 6, 4])"
      ]
     },
     "execution_count": 553,
     "metadata": {},
     "output_type": "execute_result"
    }
   ],
   "source": [
    "# WORKING WITH ARRAYS\n",
    "a= np.array([1,2,4,6,4])\n",
    "a"
   ]
  },
  {
   "cell_type": "code",
   "execution_count": 554,
   "id": "162a8561-8096-4384-9d10-a3a09b8de0c9",
   "metadata": {},
   "outputs": [
    {
     "data": {
      "text/plain": [
       "numpy.ndarray"
      ]
     },
     "execution_count": 554,
     "metadata": {},
     "output_type": "execute_result"
    }
   ],
   "source": [
    "type(a)"
   ]
  },
  {
   "cell_type": "code",
   "execution_count": 555,
   "id": "4ec3fb11-fda5-482e-976b-484594f09a37",
   "metadata": {},
   "outputs": [
    {
     "data": {
      "text/plain": [
       "(1, 4, 3, 6, 6, 4, 7)"
      ]
     },
     "execution_count": 555,
     "metadata": {},
     "output_type": "execute_result"
    }
   ],
   "source": [
    "myTuple = (1,4,3,6,6,4,7)\n",
    "myTuple"
   ]
  },
  {
   "cell_type": "code",
   "execution_count": 557,
   "id": "9d75330e-ae66-437b-be2a-9a6390dfb9b0",
   "metadata": {},
   "outputs": [
    {
     "data": {
      "text/plain": [
       "array([1, 4, 3, 6, 6, 4, 7])"
      ]
     },
     "execution_count": 557,
     "metadata": {},
     "output_type": "execute_result"
    }
   ],
   "source": [
    "arr = np.array(myTuple)\n",
    "arr"
   ]
  },
  {
   "cell_type": "code",
   "execution_count": 559,
   "id": "243020c5-b64e-47b8-80a7-8f66fa39c7ec",
   "metadata": {},
   "outputs": [
    {
     "data": {
      "text/plain": [
       "np.int64(4)"
      ]
     },
     "execution_count": 559,
     "metadata": {},
     "output_type": "execute_result"
    }
   ],
   "source": [
    "# Array indexing\n",
    "arr[1]"
   ]
  },
  {
   "cell_type": "code",
   "execution_count": 561,
   "id": "a41604a6-e111-4063-bd4b-54ea8a429fec",
   "metadata": {},
   "outputs": [
    {
     "data": {
      "text/plain": [
       "array([1, 4, 3, 6, 6])"
      ]
     },
     "execution_count": 561,
     "metadata": {},
     "output_type": "execute_result"
    }
   ],
   "source": [
    "arr[:5]"
   ]
  },
  {
   "cell_type": "code",
   "execution_count": 562,
   "id": "32aa5e9b-0f7a-4610-bd86-d5b8e3e6a580",
   "metadata": {},
   "outputs": [
    {
     "data": {
      "text/plain": [
       "array([3, 6])"
      ]
     },
     "execution_count": 562,
     "metadata": {},
     "output_type": "execute_result"
    }
   ],
   "source": [
    "arr[2:4]"
   ]
  },
  {
   "cell_type": "code",
   "execution_count": 563,
   "id": "8dbd7a0d-253b-4dab-94f9-0cf4fac575a5",
   "metadata": {},
   "outputs": [
    {
     "data": {
      "text/plain": [
       "array([1, 4, 3, 6, 6, 4, 7])"
      ]
     },
     "execution_count": 563,
     "metadata": {},
     "output_type": "execute_result"
    }
   ],
   "source": [
    "arr"
   ]
  },
  {
   "cell_type": "code",
   "execution_count": 564,
   "id": "90755913-2a1b-4348-9171-14881e1b5552",
   "metadata": {},
   "outputs": [
    {
     "data": {
      "text/plain": [
       "array([6, 4, 7])"
      ]
     },
     "execution_count": 564,
     "metadata": {},
     "output_type": "execute_result"
    }
   ],
   "source": [
    "# when you are indexing always make sure that the beginging value is less than the end value\n",
    "arr[4:]"
   ]
  },
  {
   "cell_type": "code",
   "execution_count": 565,
   "id": "1c94526c-c775-4f5a-bd24-213aaeb0660f",
   "metadata": {},
   "outputs": [
    {
     "data": {
      "text/plain": [
       "array([4, 3, 6, 6])"
      ]
     },
     "execution_count": 565,
     "metadata": {},
     "output_type": "execute_result"
    }
   ],
   "source": [
    "arr[1:5]"
   ]
  },
  {
   "cell_type": "code",
   "execution_count": 566,
   "id": "7497c512-5db4-4dad-965a-e4a5f558f80b",
   "metadata": {},
   "outputs": [
    {
     "data": {
      "text/plain": [
       "np.int64(4)"
      ]
     },
     "execution_count": 566,
     "metadata": {},
     "output_type": "execute_result"
    }
   ],
   "source": [
    "arr[-2]"
   ]
  },
  {
   "cell_type": "code",
   "execution_count": 567,
   "id": "da0a79b0-f55d-43fd-bb4e-c13afb060391",
   "metadata": {},
   "outputs": [],
   "source": [
    "arr2 = [1,5,8,12,4,5,6,6,8,89,8,9,10]"
   ]
  },
  {
   "cell_type": "code",
   "execution_count": 569,
   "id": "c5f70e44-df02-44ae-b0b8-944ee1971e76",
   "metadata": {
    "scrolled": true
   },
   "outputs": [
    {
     "data": {
      "text/plain": [
       "[6, 8, 89]"
      ]
     },
     "execution_count": 569,
     "metadata": {},
     "output_type": "execute_result"
    }
   ],
   "source": [
    "arr2[7:10]"
   ]
  },
  {
   "cell_type": "code",
   "execution_count": 570,
   "id": "c19ec282-f457-4d70-93dd-3b507a88ffcd",
   "metadata": {},
   "outputs": [
    {
     "data": {
      "text/plain": [
       "[6, 8, 89]"
      ]
     },
     "execution_count": 570,
     "metadata": {},
     "output_type": "execute_result"
    }
   ],
   "source": [
    "arr2[-6: -3]"
   ]
  },
  {
   "cell_type": "code",
   "execution_count": 575,
   "id": "f78feeb3-8a56-4fb3-8f08-19667374079e",
   "metadata": {},
   "outputs": [],
   "source": [
    "# 2D\n",
    "x= [2,3,5,6,7]\n",
    "y= [1,6,4,9,10]\n",
    "arr2D = np.array([x,y])"
   ]
  },
  {
   "cell_type": "code",
   "execution_count": 576,
   "id": "041a6e39-f97f-4da3-a777-9ef83e3c237f",
   "metadata": {},
   "outputs": [
    {
     "data": {
      "text/plain": [
       "array([[ 2,  3,  5,  6,  7],\n",
       "       [ 1,  6,  4,  9, 10]])"
      ]
     },
     "execution_count": 576,
     "metadata": {},
     "output_type": "execute_result"
    }
   ],
   "source": [
    "arr2D"
   ]
  },
  {
   "cell_type": "code",
   "execution_count": 578,
   "id": "baa820e4-d082-4747-b764-c2c41cf0f77c",
   "metadata": {},
   "outputs": [
    {
     "data": {
      "text/plain": [
       "array([[2, 5],\n",
       "       [3, 6],\n",
       "       [1, 7]])"
      ]
     },
     "execution_count": 578,
     "metadata": {},
     "output_type": "execute_result"
    }
   ],
   "source": [
    "my2darr = np.array([[2,5],[3,6],[1,7]])\n",
    "my2darr"
   ]
  },
  {
   "cell_type": "code",
   "execution_count": 580,
   "id": "d7474173-d7d0-4853-9889-85c510611f96",
   "metadata": {},
   "outputs": [
    {
     "data": {
      "text/plain": [
       "array([[[ 1,  2,  3],\n",
       "        [ 6,  7,  8],\n",
       "        [ 9, 10, 11],\n",
       "        [12, 13, 14]]])"
      ]
     },
     "execution_count": 580,
     "metadata": {},
     "output_type": "execute_result"
    }
   ],
   "source": [
    "My3darr= np.array([[[1,2,3],[6,7,8],[9,10,11],[12,13,14]]])\n",
    "My3darr"
   ]
  },
  {
   "cell_type": "code",
   "execution_count": 589,
   "id": "9bc6725b-a1c2-4e4c-bb2f-cbf2eb35062e",
   "metadata": {},
   "outputs": [
    {
     "data": {
      "text/plain": [
       "array([[[ 1,  2,  3],\n",
       "        [ 4,  5,  6]],\n",
       "\n",
       "       [[ 7,  8,  9],\n",
       "        [10, 11, 12]]])"
      ]
     },
     "execution_count": 589,
     "metadata": {},
     "output_type": "execute_result"
    }
   ],
   "source": [
    "arr = np.array([[[1, 2, 3], [4, 5, 6]], [[7, 8, 9], [10, 11, 12]]])\n",
    "arr"
   ]
  },
  {
   "cell_type": "code",
   "execution_count": 586,
   "id": "97f3d63f-2b36-44c9-96d2-0af7f8d485c4",
   "metadata": {},
   "outputs": [
    {
     "data": {
      "text/plain": [
       "np.int64(6)"
      ]
     },
     "execution_count": 586,
     "metadata": {},
     "output_type": "execute_result"
    }
   ],
   "source": [
    "# convert 3d to 2d\n",
    "arr [0,1,2]"
   ]
  },
  {
   "cell_type": "code",
   "execution_count": 588,
   "id": "c9b2acf2-4ef2-44cd-b2b2-30f756f2c516",
   "metadata": {},
   "outputs": [
    {
     "data": {
      "text/plain": [
       "np.int64(12)"
      ]
     },
     "execution_count": 588,
     "metadata": {},
     "output_type": "execute_result"
    }
   ],
   "source": [
    "arr[1,1,2]"
   ]
  },
  {
   "cell_type": "markdown",
   "id": "8be0f249-bc2c-4358-b8a8-0ad8801d66ad",
   "metadata": {},
   "source": [
    "# Shape\n",
    "The shape of an array is the number of elements in each dimension.\n",
    "\n",
    "Get the Shape of an Array\n",
    "NumPy arrays have an attribute called shape that returns a tuple with each index having the number of corresponding elements."
   ]
  },
  {
   "cell_type": "code",
   "execution_count": 590,
   "id": "dd891654-3604-4a0f-b04c-862b3746b9bf",
   "metadata": {},
   "outputs": [
    {
     "data": {
      "text/plain": [
       "(3, 2)"
      ]
     },
     "execution_count": 590,
     "metadata": {},
     "output_type": "execute_result"
    }
   ],
   "source": [
    "my2darr.shape"
   ]
  },
  {
   "cell_type": "code",
   "execution_count": 591,
   "id": "a97a9e41-c5fc-4fb3-93ac-8d123d0cd7b2",
   "metadata": {},
   "outputs": [
    {
     "data": {
      "text/plain": [
       "(2, 2, 3)"
      ]
     },
     "execution_count": 591,
     "metadata": {},
     "output_type": "execute_result"
    }
   ],
   "source": [
    "arr.shape"
   ]
  },
  {
   "cell_type": "code",
   "execution_count": 592,
   "id": "10a4c05f-7223-4c5a-856d-397e3dfdd236",
   "metadata": {},
   "outputs": [
    {
     "data": {
      "text/plain": [
       "array([[1, 2, 3, 4, 5],\n",
       "       [6, 7, 8, 9, 2],\n",
       "       [1, 1, 5, 6, 7]])"
      ]
     },
     "execution_count": 592,
     "metadata": {},
     "output_type": "execute_result"
    }
   ],
   "source": [
    "my2d = np.array([[1,2,3,4,5],[6,7,8,9,2],[1,1,5,6,7]])\n",
    "my2d"
   ]
  },
  {
   "cell_type": "code",
   "execution_count": 593,
   "id": "d735ca26-697e-4e7a-91b0-db5501a328aa",
   "metadata": {},
   "outputs": [
    {
     "data": {
      "text/plain": [
       "(3, 5)"
      ]
     },
     "execution_count": 593,
     "metadata": {},
     "output_type": "execute_result"
    }
   ],
   "source": [
    "my2d.shape"
   ]
  },
  {
   "cell_type": "code",
   "execution_count": 595,
   "id": "349bacd1-0ab6-4a7c-9d11-f07845367147",
   "metadata": {},
   "outputs": [
    {
     "name": "stdout",
     "output_type": "stream",
     "text": [
      "[[1 2 3]\n",
      " [4 5 6]\n",
      " [7 8 9]\n",
      " [2 1 1]\n",
      " [5 6 7]]\n",
      "........\n",
      "[[1]\n",
      " [2]\n",
      " [3]\n",
      " [4]\n",
      " [5]\n",
      " [6]\n",
      " [7]\n",
      " [8]\n",
      " [9]\n",
      " [2]\n",
      " [1]\n",
      " [1]\n",
      " [5]\n",
      " [6]\n",
      " [7]]\n"
     ]
    }
   ],
   "source": [
    "# reshape \n",
    "print (my2d.reshape(5,3))\n",
    "print (\"........\")\n",
    "print (my2d.reshape(15,1))"
   ]
  },
  {
   "cell_type": "code",
   "execution_count": 596,
   "id": "51058f4d-6a32-46c2-a6eb-169aaba65e7f",
   "metadata": {},
   "outputs": [
    {
     "data": {
      "text/plain": [
       "array([[1, 2, 3],\n",
       "       [5, 3, 7]])"
      ]
     },
     "execution_count": 596,
     "metadata": {},
     "output_type": "execute_result"
    }
   ],
   "source": [
    "myarr= np.array([[1,2,3],[5,3,7]])\n",
    "myarr"
   ]
  },
  {
   "cell_type": "code",
   "execution_count": 598,
   "id": "0a1c331d-d95b-413f-8537-4d7386a510e3",
   "metadata": {},
   "outputs": [
    {
     "name": "stdout",
     "output_type": "stream",
     "text": [
      "[[1 2]\n",
      " [3 5]\n",
      " [3 7]]\n",
      "......\n",
      "[[1 2 3 5 3 7]]\n"
     ]
    }
   ],
   "source": [
    "print(myarr.reshape(3,2))\n",
    "print (\"......\")\n",
    "print(myarr.reshape(1,6))"
   ]
  },
  {
   "cell_type": "code",
   "execution_count": 599,
   "id": "8ae8f690-d399-4ca0-8c81-111b0aca0387",
   "metadata": {},
   "outputs": [],
   "source": [
    "# perform aritemitic operations on array"
   ]
  },
  {
   "cell_type": "code",
   "execution_count": 600,
   "id": "7adcf219-4238-4415-bdb1-f6bfdca9dca4",
   "metadata": {},
   "outputs": [],
   "source": [
    "arrone = np.array ([1,2,4])\n",
    "arrtwo = np.array ([3,1,5])"
   ]
  },
  {
   "cell_type": "code",
   "execution_count": 601,
   "id": "477e0bb0-dadc-47a6-a1ee-2b9eff1761db",
   "metadata": {},
   "outputs": [
    {
     "data": {
      "text/plain": [
       "array([4, 3, 9])"
      ]
     },
     "execution_count": 601,
     "metadata": {},
     "output_type": "execute_result"
    }
   ],
   "source": [
    "np.add(arrone, arrtwo)"
   ]
  },
  {
   "cell_type": "code",
   "execution_count": 602,
   "id": "97d3f25f-2ce1-434d-b363-7477394ec239",
   "metadata": {},
   "outputs": [
    {
     "data": {
      "text/plain": [
       "array([4, 3, 9])"
      ]
     },
     "execution_count": 602,
     "metadata": {},
     "output_type": "execute_result"
    }
   ],
   "source": [
    "arrtwo + arrone"
   ]
  },
  {
   "cell_type": "code",
   "execution_count": 603,
   "id": "487a780f-73ad-479c-a413-ef7966e3db43",
   "metadata": {},
   "outputs": [
    {
     "data": {
      "text/plain": [
       "array([ 3,  2, 20])"
      ]
     },
     "execution_count": 603,
     "metadata": {},
     "output_type": "execute_result"
    }
   ],
   "source": [
    "np.multiply(arrone, arrtwo)"
   ]
  },
  {
   "cell_type": "code",
   "execution_count": 604,
   "id": "a9af77c2-95e1-4d7f-a62e-cc451cc17bf2",
   "metadata": {},
   "outputs": [
    {
     "data": {
      "text/plain": [
       "array([3.  , 0.5 , 1.25])"
      ]
     },
     "execution_count": 604,
     "metadata": {},
     "output_type": "execute_result"
    }
   ],
   "source": [
    "np.divide(arrtwo, arrone)"
   ]
  },
  {
   "cell_type": "code",
   "execution_count": 605,
   "id": "26ed32ab-8c24-466f-8657-f1eb5ec479e6",
   "metadata": {},
   "outputs": [],
   "source": [
    "#max method"
   ]
  },
  {
   "cell_type": "code",
   "execution_count": 606,
   "id": "359270c5-b19a-4f8d-8fd3-c4d95ef59de9",
   "metadata": {},
   "outputs": [
    {
     "data": {
      "text/plain": [
       "np.int64(5)"
      ]
     },
     "execution_count": 606,
     "metadata": {},
     "output_type": "execute_result"
    }
   ],
   "source": [
    "np.max (arrtwo)"
   ]
  },
  {
   "cell_type": "code",
   "execution_count": 607,
   "id": "7e1153aa-07c1-45b9-aeba-81ad364cf008",
   "metadata": {},
   "outputs": [
    {
     "data": {
      "text/plain": [
       "np.int64(1)"
      ]
     },
     "execution_count": 607,
     "metadata": {},
     "output_type": "execute_result"
    }
   ],
   "source": [
    "np.min(arrtwo)"
   ]
  },
  {
   "cell_type": "code",
   "execution_count": 608,
   "id": "cff25b1b-f3b2-4297-bbce-53b8fc979220",
   "metadata": {},
   "outputs": [
    {
     "data": {
      "text/plain": [
       "np.float64(2.3333333333333335)"
      ]
     },
     "execution_count": 608,
     "metadata": {},
     "output_type": "execute_result"
    }
   ],
   "source": [
    "np.mean(arrone)"
   ]
  },
  {
   "cell_type": "code",
   "execution_count": 609,
   "id": "c8c6d456-8a97-412a-8d26-5842632c0b71",
   "metadata": {},
   "outputs": [
    {
     "data": {
      "text/plain": [
       "np.float64(5.333333333333333)"
      ]
     },
     "execution_count": 609,
     "metadata": {},
     "output_type": "execute_result"
    }
   ],
   "source": [
    "np.mean (arrone + arrtwo)"
   ]
  },
  {
   "cell_type": "code",
   "execution_count": 610,
   "id": "9a862642-2333-49f3-b08d-98e83f9ad31a",
   "metadata": {},
   "outputs": [
    {
     "data": {
      "text/plain": [
       "np.int64(8)"
      ]
     },
     "execution_count": 610,
     "metadata": {},
     "output_type": "execute_result"
    }
   ],
   "source": [
    "np.prod(arrone)"
   ]
  },
  {
   "cell_type": "code",
   "execution_count": 611,
   "id": "117e64e0-4249-4d3f-ac08-d704c0bf8927",
   "metadata": {},
   "outputs": [
    {
     "data": {
      "text/plain": [
       "array([1, 2, 4])"
      ]
     },
     "execution_count": 611,
     "metadata": {},
     "output_type": "execute_result"
    }
   ],
   "source": [
    "arrone"
   ]
  },
  {
   "cell_type": "code",
   "execution_count": 624,
   "id": "740c89b6-c9e4-4ffb-a478-379111a4fc26",
   "metadata": {},
   "outputs": [
    {
     "name": "stdout",
     "output_type": "stream",
     "text": [
      "1\n",
      "2\n",
      "4\n",
      "8\n"
     ]
    }
   ],
   "source": [
    "cee= 1\n",
    "for i in arrone:\n",
    "    print (i)\n",
    "    cee = cee* i\n",
    "print (cee)"
   ]
  },
  {
   "cell_type": "markdown",
   "id": "96e06710-460d-4184-b541-6d4a8b3892c5",
   "metadata": {},
   "source": [
    "### PANDAS Series\n",
    "\n",
    "Pandas is a Python library.\n",
    "\n",
    "Pandas is used to analyze data."
   ]
  },
  {
   "cell_type": "code",
   "execution_count": 626,
   "id": "f96bd15a-16a5-4777-ba54-ded6653a313b",
   "metadata": {},
   "outputs": [
    {
     "name": "stdout",
     "output_type": "stream",
     "text": [
      "Collecting pandas\n",
      "  Downloading pandas-2.2.3-cp312-cp312-win_amd64.whl.metadata (19 kB)\n",
      "Requirement already satisfied: numpy>=1.26.0 in c:\\users\\hp\\miniconda3\\lib\\site-packages (from pandas) (2.1.1)\n",
      "Requirement already satisfied: python-dateutil>=2.8.2 in c:\\users\\hp\\miniconda3\\lib\\site-packages (from pandas) (2.9.0.post0)\n",
      "Collecting pytz>=2020.1 (from pandas)\n",
      "  Downloading pytz-2024.2-py2.py3-none-any.whl.metadata (22 kB)\n",
      "Collecting tzdata>=2022.7 (from pandas)\n",
      "  Downloading tzdata-2024.2-py2.py3-none-any.whl.metadata (1.4 kB)\n",
      "Requirement already satisfied: six>=1.5 in c:\\users\\hp\\miniconda3\\lib\\site-packages (from python-dateutil>=2.8.2->pandas) (1.16.0)\n",
      "Downloading pandas-2.2.3-cp312-cp312-win_amd64.whl (11.5 MB)\n",
      "   ---------------------------------------- 0.0/11.5 MB ? eta -:--:--\n",
      "   ---------------------------------------- 0.0/11.5 MB ? eta -:--:--\n",
      "    --------------------------------------- 0.3/11.5 MB ? eta -:--:--\n",
      "   - -------------------------------------- 0.5/11.5 MB 1.5 MB/s eta 0:00:08\n",
      "   --- ------------------------------------ 1.0/11.5 MB 2.1 MB/s eta 0:00:05\n",
      "   ----- ---------------------------------- 1.6/11.5 MB 2.3 MB/s eta 0:00:05\n",
      "   ------ --------------------------------- 1.8/11.5 MB 2.2 MB/s eta 0:00:05\n",
      "   -------- ------------------------------- 2.4/11.5 MB 2.2 MB/s eta 0:00:05\n",
      "   ---------- ----------------------------- 2.9/11.5 MB 2.2 MB/s eta 0:00:04\n",
      "   ------------ --------------------------- 3.7/11.5 MB 2.3 MB/s eta 0:00:04\n",
      "   -------------- ------------------------- 4.2/11.5 MB 2.5 MB/s eta 0:00:03\n",
      "   ----------------- ---------------------- 5.0/11.5 MB 2.5 MB/s eta 0:00:03\n",
      "   ------------------- -------------------- 5.5/11.5 MB 2.6 MB/s eta 0:00:03\n",
      "   -------------------- ------------------- 5.8/11.5 MB 2.6 MB/s eta 0:00:03\n",
      "   ----------------------- ---------------- 6.8/11.5 MB 2.7 MB/s eta 0:00:02\n",
      "   -------------------------- ------------- 7.6/11.5 MB 2.7 MB/s eta 0:00:02\n",
      "   ---------------------------- ----------- 8.1/11.5 MB 2.7 MB/s eta 0:00:02\n",
      "   ------------------------------ --------- 8.7/11.5 MB 2.7 MB/s eta 0:00:02\n",
      "   -------------------------------- ------- 9.4/11.5 MB 2.8 MB/s eta 0:00:01\n",
      "   ---------------------------------- ----- 10.0/11.5 MB 2.7 MB/s eta 0:00:01\n",
      "   ------------------------------------ --- 10.5/11.5 MB 2.8 MB/s eta 0:00:01\n",
      "   ---------------------------------------  11.3/11.5 MB 2.8 MB/s eta 0:00:01\n",
      "   ---------------------------------------- 11.5/11.5 MB 2.7 MB/s eta 0:00:00\n",
      "Downloading pytz-2024.2-py2.py3-none-any.whl (508 kB)\n",
      "Downloading tzdata-2024.2-py2.py3-none-any.whl (346 kB)\n",
      "Installing collected packages: pytz, tzdata, pandas\n",
      "Successfully installed pandas-2.2.3 pytz-2024.2 tzdata-2024.2\n"
     ]
    }
   ],
   "source": [
    "!pip install pandas"
   ]
  },
  {
   "cell_type": "code",
   "execution_count": 627,
   "id": "4c947767-cea0-4701-ae61-0b4f9fbf404a",
   "metadata": {},
   "outputs": [],
   "source": [
    "import pandas as pd"
   ]
  },
  {
   "cell_type": "code",
   "execution_count": 116,
   "id": "47689d01-f13b-4be8-9f6e-e362648cc62b",
   "metadata": {},
   "outputs": [],
   "source": [
    "# pandas series is like a column in a table\n",
    "to creat a series you use pd.Series"
   ]
  },
  {
   "cell_type": "code",
   "execution_count": 628,
   "id": "9b5e25d6-7750-4a11-a15c-14113ae5bc37",
   "metadata": {},
   "outputs": [],
   "source": [
    "mylist = [1,2,3,7]"
   ]
  },
  {
   "cell_type": "code",
   "execution_count": 630,
   "id": "6ac674f2-b326-4b3b-897d-376146ead73d",
   "metadata": {},
   "outputs": [
    {
     "data": {
      "text/plain": [
       "0    1\n",
       "1    2\n",
       "2    3\n",
       "3    7\n",
       "dtype: int64"
      ]
     },
     "execution_count": 630,
     "metadata": {},
     "output_type": "execute_result"
    }
   ],
   "source": [
    "df = pd.Series(mylist)\n",
    "df"
   ]
  },
  {
   "cell_type": "code",
   "execution_count": 631,
   "id": "1ca74ba3-ef43-4064-a8be-a1d4f609313d",
   "metadata": {},
   "outputs": [
    {
     "data": {
      "text/plain": [
       "np.int64(7)"
      ]
     },
     "execution_count": 631,
     "metadata": {},
     "output_type": "execute_result"
    }
   ],
   "source": [
    "df[3]"
   ]
  },
  {
   "cell_type": "code",
   "execution_count": 632,
   "id": "121092ab-4b2b-404a-91ef-a01f624d12c5",
   "metadata": {},
   "outputs": [
    {
     "data": {
      "text/plain": [
       "a    1\n",
       "b    2\n",
       "c    3\n",
       "d    7\n",
       "dtype: int64"
      ]
     },
     "execution_count": 632,
     "metadata": {},
     "output_type": "execute_result"
    }
   ],
   "source": [
    "df= pd.Series(mylist, index=[\"a\",\"b\",\"c\",\"d\"])\n",
    "df"
   ]
  },
  {
   "cell_type": "code",
   "execution_count": 633,
   "id": "ade769bc-0a98-4c82-93e9-51de1d76a993",
   "metadata": {},
   "outputs": [
    {
     "data": {
      "text/plain": [
       "np.int64(3)"
      ]
     },
     "execution_count": 633,
     "metadata": {},
     "output_type": "execute_result"
    }
   ],
   "source": [
    "df[\"c\"]"
   ]
  },
  {
   "cell_type": "code",
   "execution_count": 636,
   "id": "9940525b-4256-452f-a64a-79ea990f36b0",
   "metadata": {},
   "outputs": [],
   "source": [
    "# Creating and series from a dictionary\n",
    "\n",
    "calories = {\"day1\": 420, \"day2\": 340, \"day3\": 450}"
   ]
  },
  {
   "cell_type": "code",
   "execution_count": 637,
   "id": "7472a883-c5cc-4550-a669-7a060305e389",
   "metadata": {},
   "outputs": [
    {
     "data": {
      "text/plain": [
       "day1    420\n",
       "day2    340\n",
       "day3    450\n",
       "dtype: int64"
      ]
     },
     "execution_count": 637,
     "metadata": {},
     "output_type": "execute_result"
    }
   ],
   "source": [
    "df = pd.Series(calories)\n",
    "df"
   ]
  },
  {
   "cell_type": "code",
   "execution_count": 6,
   "id": "76807f22-c352-4339-8f8d-86c43aa2ce09",
   "metadata": {},
   "outputs": [],
   "source": [
    "import pandas as pd"
   ]
  },
  {
   "cell_type": "code",
   "execution_count": 7,
   "id": "1c6dca4a-48de-4d89-8944-9fe374544173",
   "metadata": {},
   "outputs": [
    {
     "data": {
      "text/plain": [
       "[1, 2, 3, 4, 5, 6]"
      ]
     },
     "execution_count": 7,
     "metadata": {},
     "output_type": "execute_result"
    }
   ],
   "source": [
    "x = [1,2,3,4,5,6]\n",
    "x"
   ]
  },
  {
   "cell_type": "code",
   "execution_count": 8,
   "id": "5f6d17f8-1aba-4ff5-904c-9451db76c1c0",
   "metadata": {},
   "outputs": [
    {
     "data": {
      "text/plain": [
       "0    1\n",
       "1    2\n",
       "2    3\n",
       "3    4\n",
       "4    5\n",
       "5    6\n",
       "dtype: int64"
      ]
     },
     "execution_count": 8,
     "metadata": {},
     "output_type": "execute_result"
    }
   ],
   "source": [
    "s = pd.Series(x)\n",
    "s"
   ]
  },
  {
   "cell_type": "code",
   "execution_count": 10,
   "id": "5a862888-b63c-4db6-a6d7-0f173f2eb28e",
   "metadata": {},
   "outputs": [
    {
     "data": {
      "text/plain": [
       "[37, 99, 18, 4]"
      ]
     },
     "execution_count": 10,
     "metadata": {},
     "output_type": "execute_result"
    }
   ],
   "source": [
    "x = [37,99,18,4]\n",
    "x"
   ]
  },
  {
   "cell_type": "code",
   "execution_count": 11,
   "id": "77aebc12-0a78-4b51-b7c0-658632da0982",
   "metadata": {},
   "outputs": [
    {
     "data": {
      "text/plain": [
       "0    37\n",
       "1    99\n",
       "2    18\n",
       "3     4\n",
       "dtype: int64"
      ]
     },
     "execution_count": 11,
     "metadata": {},
     "output_type": "execute_result"
    }
   ],
   "source": [
    "choice = pd.Series(x)\n",
    "choice"
   ]
  },
  {
   "cell_type": "code",
   "execution_count": 12,
   "id": "49ba47f9-0aef-4505-8199-cdcb5ea411ea",
   "metadata": {},
   "outputs": [],
   "source": [
    "define = pd.Series(x, index =[\"Godfrey\", \"Moore\", \"AY\", \"Alex\"])"
   ]
  },
  {
   "cell_type": "code",
   "execution_count": 13,
   "id": "8b2e6896-b62f-4434-ab12-18f8d0d30e63",
   "metadata": {},
   "outputs": [
    {
     "data": {
      "text/plain": [
       "Godfrey    37\n",
       "Moore      99\n",
       "AY         18\n",
       "Alex        4\n",
       "dtype: int64"
      ]
     },
     "execution_count": 13,
     "metadata": {},
     "output_type": "execute_result"
    }
   ],
   "source": [
    "define"
   ]
  },
  {
   "cell_type": "code",
   "execution_count": 15,
   "id": "1d3e152c-bed3-4530-b421-f0ace110ece5",
   "metadata": {},
   "outputs": [
    {
     "data": {
      "text/plain": [
       "np.int64(37)"
      ]
     },
     "execution_count": 15,
     "metadata": {},
     "output_type": "execute_result"
    }
   ],
   "source": [
    "define[\"Godfrey\"]"
   ]
  },
  {
   "cell_type": "code",
   "execution_count": 16,
   "id": "e7ac2a44-8b1b-47ec-8eff-f38c27da4ca9",
   "metadata": {},
   "outputs": [
    {
     "data": {
      "text/plain": [
       "[78, 90, 55, 30, 98]"
      ]
     },
     "execution_count": 16,
     "metadata": {},
     "output_type": "execute_result"
    }
   ],
   "source": [
    "l = [78, 90, 55, 30, 98]\n",
    "l"
   ]
  },
  {
   "cell_type": "code",
   "execution_count": 17,
   "id": "7434a821-73e3-4d54-bf85-f3cac731b5c0",
   "metadata": {},
   "outputs": [],
   "source": [
    "Classwork = pd.Series(l)"
   ]
  },
  {
   "cell_type": "code",
   "execution_count": 18,
   "id": "726b116c-c406-467f-94c6-56aafc72d75e",
   "metadata": {},
   "outputs": [
    {
     "data": {
      "text/plain": [
       "0    78\n",
       "1    90\n",
       "2    55\n",
       "3    30\n",
       "4    98\n",
       "dtype: int64"
      ]
     },
     "execution_count": 18,
     "metadata": {},
     "output_type": "execute_result"
    }
   ],
   "source": [
    "Classwork"
   ]
  },
  {
   "cell_type": "code",
   "execution_count": 19,
   "id": "eba96081-c3ce-4932-9bb5-7b77a13e8036",
   "metadata": {},
   "outputs": [],
   "source": [
    "define = pd.Series(l, index = [\"Pablo\", \"micheal\", \"Festus\", \"Donald\", \"Ahmed\"])"
   ]
  },
  {
   "cell_type": "code",
   "execution_count": 20,
   "id": "6a34bb1f-626a-4efe-a708-94af38613bb4",
   "metadata": {
    "scrolled": true
   },
   "outputs": [
    {
     "data": {
      "text/plain": [
       "Pablo      78\n",
       "micheal    90\n",
       "Festus     55\n",
       "Donald     30\n",
       "Ahmed      98\n",
       "dtype: int64"
      ]
     },
     "execution_count": 20,
     "metadata": {},
     "output_type": "execute_result"
    }
   ],
   "source": [
    "define"
   ]
  },
  {
   "cell_type": "code",
   "execution_count": 21,
   "id": "c747499e-cd41-48f2-a7c7-e6e0c6415574",
   "metadata": {},
   "outputs": [
    {
     "data": {
      "text/plain": [
       "[78, 90, 55, 30, 98]"
      ]
     },
     "execution_count": 21,
     "metadata": {},
     "output_type": "execute_result"
    }
   ],
   "source": [
    "l = [78, 90, 55, 30, 98]\n",
    "l"
   ]
  },
  {
   "cell_type": "code",
   "execution_count": 29,
   "id": "7983a857-19c3-44c3-80b5-d602fd46668b",
   "metadata": {},
   "outputs": [],
   "source": [
    "define = pd.Series(l)"
   ]
  },
  {
   "cell_type": "code",
   "execution_count": 30,
   "id": "9bc3116f-31eb-4ec6-a67d-56c3ee32f2d1",
   "metadata": {},
   "outputs": [],
   "source": [
    "l = pd.Series([78,90,55,30,98])"
   ]
  },
  {
   "cell_type": "code",
   "execution_count": 31,
   "id": "addee6e8-5c18-4042-8584-4c6c4afc37b7",
   "metadata": {},
   "outputs": [],
   "source": [
    "l.index = [\"AYO\", \"BALE\", \"BACO\", \"ABLE\", \"DAVE\"]"
   ]
  },
  {
   "cell_type": "code",
   "execution_count": 32,
   "id": "492cf5ba-8191-427d-94e2-01e794ddc815",
   "metadata": {},
   "outputs": [
    {
     "data": {
      "text/plain": [
       "AYO     78\n",
       "BALE    90\n",
       "BACO    55\n",
       "ABLE    30\n",
       "DAVE    98\n",
       "dtype: int64"
      ]
     },
     "execution_count": 32,
     "metadata": {},
     "output_type": "execute_result"
    }
   ],
   "source": [
    "l"
   ]
  },
  {
   "cell_type": "code",
   "execution_count": 36,
   "id": "77754047-ed66-4e5a-a95a-bfe7b47837a3",
   "metadata": {},
   "outputs": [
    {
     "data": {
      "text/plain": [
       "np.int64(98)"
      ]
     },
     "execution_count": 36,
     "metadata": {},
     "output_type": "execute_result"
    }
   ],
   "source": [
    "l[\"DAVE\"]"
   ]
  },
  {
   "cell_type": "code",
   "execution_count": 43,
   "id": "70d573b1-f32c-415a-bd83-a23afcf1204a",
   "metadata": {},
   "outputs": [],
   "source": [
    "C = pd.Series([45, 17, 32, 49], index = [\"pablo\", \"mike\", \"brave\", \"cole\"])\n",
    "\n",
    "Creating a Series Directly."
   ]
  },
  {
   "cell_type": "code",
   "execution_count": 44,
   "id": "338f2bbd-31a8-40c4-9011-e9444beba082",
   "metadata": {},
   "outputs": [
    {
     "data": {
      "text/plain": [
       "pablo    45\n",
       "mike     17\n",
       "brave    32\n",
       "cole     49\n",
       "dtype: int64"
      ]
     },
     "execution_count": 44,
     "metadata": {},
     "output_type": "execute_result"
    }
   ],
   "source": [
    "C"
   ]
  },
  {
   "cell_type": "code",
   "execution_count": 46,
   "id": "fe9160dd-621c-4134-90d0-2de7906be7c7",
   "metadata": {},
   "outputs": [],
   "source": [
    "dict \n",
    "\n",
    "F = {\"name\": \"Godfrey\", \"Age\": 25, \"Food\": \"Rice\", \"State\": \"Bayelsa\"}"
   ]
  },
  {
   "cell_type": "code",
   "execution_count": 47,
   "id": "fc0379a7-71d3-460f-b89c-393f5ca47434",
   "metadata": {},
   "outputs": [],
   "source": [
    "F = pd.Series(F)"
   ]
  },
  {
   "cell_type": "code",
   "execution_count": 49,
   "id": "693878ca-3792-44c6-97fc-65309016875d",
   "metadata": {},
   "outputs": [
    {
     "data": {
      "text/plain": [
       "name     Godfrey\n",
       "Age           25\n",
       "Food        Rice\n",
       "State    Bayelsa\n",
       "dtype: object"
      ]
     },
     "execution_count": 49,
     "metadata": {},
     "output_type": "execute_result"
    }
   ],
   "source": [
    "F\n"
   ]
  },
  {
   "cell_type": "code",
   "execution_count": 58,
   "id": "d0b62a9c-25fc-4cbd-bf1a-e4ec126ba22b",
   "metadata": {},
   "outputs": [
    {
     "data": {
      "text/plain": [
       "'Godfrey'"
      ]
     },
     "execution_count": 58,
     "metadata": {},
     "output_type": "execute_result"
    }
   ],
   "source": [
    "F[\"name\"]"
   ]
  },
  {
   "cell_type": "markdown",
   "id": "9d3004bc-82b3-4c17-ae3b-39ba9ded3518",
   "metadata": {},
   "source": [
    "### Data Frames..\n",
    "Data frames are both coloums and rows"
   ]
  },
  {
   "cell_type": "code",
   "execution_count": 75,
   "id": "7bc60b87-2c36-44ea-b206-f0f78ec32c4b",
   "metadata": {},
   "outputs": [],
   "source": [
    "# Creating a data Frame for dictionary"
   ]
  },
  {
   "cell_type": "code",
   "execution_count": 60,
   "id": "aedb29a9-4930-4d25-9bc1-7ca7cee1e09c",
   "metadata": {},
   "outputs": [],
   "source": [
    "exercise ={\n",
    "    \"calories\": [100,200,300,400,500],\n",
    "    \"minutes\": [30,40,50,60,70]\n",
    "}"
   ]
  },
  {
   "cell_type": "code",
   "execution_count": 61,
   "id": "85824f19-f6b0-49eb-8b43-01bb13e71467",
   "metadata": {},
   "outputs": [
    {
     "data": {
      "text/plain": [
       "{'calories': [100, 200, 300, 400, 500], 'minutes': [30, 40, 50, 60, 70]}"
      ]
     },
     "execution_count": 61,
     "metadata": {},
     "output_type": "execute_result"
    }
   ],
   "source": [
    "exercise"
   ]
  },
  {
   "cell_type": "code",
   "execution_count": 63,
   "id": "d8eb7398-bbc3-49ce-8479-35100a890853",
   "metadata": {},
   "outputs": [],
   "source": [
    "df= pd.DataFrame(exercise)"
   ]
  },
  {
   "cell_type": "code",
   "execution_count": 64,
   "id": "1a766a73-4c0d-46f7-8ba2-5a5bf96717f5",
   "metadata": {},
   "outputs": [
    {
     "data": {
      "text/html": [
       "<div>\n",
       "<style scoped>\n",
       "    .dataframe tbody tr th:only-of-type {\n",
       "        vertical-align: middle;\n",
       "    }\n",
       "\n",
       "    .dataframe tbody tr th {\n",
       "        vertical-align: top;\n",
       "    }\n",
       "\n",
       "    .dataframe thead th {\n",
       "        text-align: right;\n",
       "    }\n",
       "</style>\n",
       "<table border=\"1\" class=\"dataframe\">\n",
       "  <thead>\n",
       "    <tr style=\"text-align: right;\">\n",
       "      <th></th>\n",
       "      <th>calories</th>\n",
       "      <th>minutes</th>\n",
       "    </tr>\n",
       "  </thead>\n",
       "  <tbody>\n",
       "    <tr>\n",
       "      <th>0</th>\n",
       "      <td>100</td>\n",
       "      <td>30</td>\n",
       "    </tr>\n",
       "    <tr>\n",
       "      <th>1</th>\n",
       "      <td>200</td>\n",
       "      <td>40</td>\n",
       "    </tr>\n",
       "    <tr>\n",
       "      <th>2</th>\n",
       "      <td>300</td>\n",
       "      <td>50</td>\n",
       "    </tr>\n",
       "    <tr>\n",
       "      <th>3</th>\n",
       "      <td>400</td>\n",
       "      <td>60</td>\n",
       "    </tr>\n",
       "    <tr>\n",
       "      <th>4</th>\n",
       "      <td>500</td>\n",
       "      <td>70</td>\n",
       "    </tr>\n",
       "  </tbody>\n",
       "</table>\n",
       "</div>"
      ],
      "text/plain": [
       "   calories  minutes\n",
       "0       100       30\n",
       "1       200       40\n",
       "2       300       50\n",
       "3       400       60\n",
       "4       500       70"
      ]
     },
     "execution_count": 64,
     "metadata": {},
     "output_type": "execute_result"
    }
   ],
   "source": [
    "df"
   ]
  },
  {
   "cell_type": "code",
   "execution_count": 65,
   "id": "95250b49-254f-442c-8e0d-b68bce2f2650",
   "metadata": {},
   "outputs": [],
   "source": [
    "data = [\n",
    "    [\"james\", 10, \"black\"],\n",
    "    [\"tayo\", 20, \"white\"],\n",
    "    [\"emma\", 50, \"red\"]\n",
    "]"
   ]
  },
  {
   "cell_type": "code",
   "execution_count": 66,
   "id": "f6559947-c2ba-423f-b3a7-097a39fc5a83",
   "metadata": {},
   "outputs": [
    {
     "data": {
      "text/plain": [
       "[['james', 10, 'black'], ['tayo', 20, 'white'], ['emma', 50, 'red']]"
      ]
     },
     "execution_count": 66,
     "metadata": {},
     "output_type": "execute_result"
    }
   ],
   "source": [
    "data"
   ]
  },
  {
   "cell_type": "code",
   "execution_count": 71,
   "id": "cd366a33-b472-4ac7-8e26-408b609c4817",
   "metadata": {},
   "outputs": [],
   "source": [
    "df = pd.DataFrame(data, columns = [\"names\",\"score\",\"color\"])"
   ]
  },
  {
   "cell_type": "code",
   "execution_count": 72,
   "id": "50f41df0-722f-4627-bc9c-d3859cdf76af",
   "metadata": {},
   "outputs": [
    {
     "data": {
      "text/html": [
       "<div>\n",
       "<style scoped>\n",
       "    .dataframe tbody tr th:only-of-type {\n",
       "        vertical-align: middle;\n",
       "    }\n",
       "\n",
       "    .dataframe tbody tr th {\n",
       "        vertical-align: top;\n",
       "    }\n",
       "\n",
       "    .dataframe thead th {\n",
       "        text-align: right;\n",
       "    }\n",
       "</style>\n",
       "<table border=\"1\" class=\"dataframe\">\n",
       "  <thead>\n",
       "    <tr style=\"text-align: right;\">\n",
       "      <th></th>\n",
       "      <th>names</th>\n",
       "      <th>score</th>\n",
       "      <th>color</th>\n",
       "    </tr>\n",
       "  </thead>\n",
       "  <tbody>\n",
       "    <tr>\n",
       "      <th>0</th>\n",
       "      <td>james</td>\n",
       "      <td>10</td>\n",
       "      <td>black</td>\n",
       "    </tr>\n",
       "    <tr>\n",
       "      <th>1</th>\n",
       "      <td>tayo</td>\n",
       "      <td>20</td>\n",
       "      <td>white</td>\n",
       "    </tr>\n",
       "    <tr>\n",
       "      <th>2</th>\n",
       "      <td>emma</td>\n",
       "      <td>50</td>\n",
       "      <td>red</td>\n",
       "    </tr>\n",
       "  </tbody>\n",
       "</table>\n",
       "</div>"
      ],
      "text/plain": [
       "   names  score  color\n",
       "0  james     10  black\n",
       "1   tayo     20  white\n",
       "2   emma     50    red"
      ]
     },
     "execution_count": 72,
     "metadata": {},
     "output_type": "execute_result"
    }
   ],
   "source": [
    "df"
   ]
  },
  {
   "cell_type": "code",
   "execution_count": 73,
   "id": "1469ee08-e1c7-402d-9e0e-01dd3853553f",
   "metadata": {},
   "outputs": [],
   "source": [
    "df.index = [\"a\",\"b\",\"c\"]"
   ]
  },
  {
   "cell_type": "code",
   "execution_count": 74,
   "id": "a9f0e8e4-81b5-4f32-b9e1-601db7cdfbe4",
   "metadata": {},
   "outputs": [
    {
     "data": {
      "text/html": [
       "<div>\n",
       "<style scoped>\n",
       "    .dataframe tbody tr th:only-of-type {\n",
       "        vertical-align: middle;\n",
       "    }\n",
       "\n",
       "    .dataframe tbody tr th {\n",
       "        vertical-align: top;\n",
       "    }\n",
       "\n",
       "    .dataframe thead th {\n",
       "        text-align: right;\n",
       "    }\n",
       "</style>\n",
       "<table border=\"1\" class=\"dataframe\">\n",
       "  <thead>\n",
       "    <tr style=\"text-align: right;\">\n",
       "      <th></th>\n",
       "      <th>names</th>\n",
       "      <th>score</th>\n",
       "      <th>color</th>\n",
       "    </tr>\n",
       "  </thead>\n",
       "  <tbody>\n",
       "    <tr>\n",
       "      <th>a</th>\n",
       "      <td>james</td>\n",
       "      <td>10</td>\n",
       "      <td>black</td>\n",
       "    </tr>\n",
       "    <tr>\n",
       "      <th>b</th>\n",
       "      <td>tayo</td>\n",
       "      <td>20</td>\n",
       "      <td>white</td>\n",
       "    </tr>\n",
       "    <tr>\n",
       "      <th>c</th>\n",
       "      <td>emma</td>\n",
       "      <td>50</td>\n",
       "      <td>red</td>\n",
       "    </tr>\n",
       "  </tbody>\n",
       "</table>\n",
       "</div>"
      ],
      "text/plain": [
       "   names  score  color\n",
       "a  james     10  black\n",
       "b   tayo     20  white\n",
       "c   emma     50    red"
      ]
     },
     "execution_count": 74,
     "metadata": {},
     "output_type": "execute_result"
    }
   ],
   "source": [
    "df"
   ]
  },
  {
   "cell_type": "code",
   "execution_count": 76,
   "id": "5c26d0c1-57b0-42fe-b6ce-d3ac319c7cbb",
   "metadata": {},
   "outputs": [
    {
     "data": {
      "text/plain": [
       "a    james\n",
       "b     tayo\n",
       "c     emma\n",
       "Name: names, dtype: object"
      ]
     },
     "execution_count": 76,
     "metadata": {},
     "output_type": "execute_result"
    }
   ],
   "source": [
    "df[\"names\"]"
   ]
  },
  {
   "cell_type": "code",
   "execution_count": 77,
   "id": "88083d0b-17f3-43ab-8b22-186895fac42b",
   "metadata": {},
   "outputs": [
    {
     "data": {
      "text/plain": [
       "a    black\n",
       "b    white\n",
       "c      red\n",
       "Name: color, dtype: object"
      ]
     },
     "execution_count": 77,
     "metadata": {},
     "output_type": "execute_result"
    }
   ],
   "source": [
    "df[\"color\"]"
   ]
  },
  {
   "cell_type": "code",
   "execution_count": 90,
   "id": "cc38973a-d100-476f-8734-4f87b78988dd",
   "metadata": {},
   "outputs": [
    {
     "data": {
      "text/plain": [
       "'james'"
      ]
     },
     "execution_count": 90,
     "metadata": {},
     "output_type": "execute_result"
    }
   ],
   "source": [
    "df.loc[\"a\",\"names\"]"
   ]
  },
  {
   "cell_type": "code",
   "execution_count": 80,
   "id": "c64f0d33-c7d6-4c63-b183-fba5f76d3838",
   "metadata": {},
   "outputs": [
    {
     "data": {
      "text/plain": [
       "np.int64(50)"
      ]
     },
     "execution_count": 80,
     "metadata": {},
     "output_type": "execute_result"
    }
   ],
   "source": [
    "df.loc[\"c\",\"s\"]"
   ]
  },
  {
   "cell_type": "code",
   "execution_count": 84,
   "id": "8b33f6c7-2664-4446-af53-14f4dce4576e",
   "metadata": {},
   "outputs": [
    {
     "data": {
      "text/plain": [
       "'tayo'"
      ]
     },
     "execution_count": 84,
     "metadata": {},
     "output_type": "execute_result"
    }
   ],
   "source": [
    "df.iloc[1,0]"
   ]
  },
  {
   "cell_type": "code",
   "execution_count": 88,
   "id": "6c1e9bed-edb7-4ac0-af77-fc12206a7693",
   "metadata": {},
   "outputs": [
    {
     "data": {
      "text/html": [
       "<div>\n",
       "<style scoped>\n",
       "    .dataframe tbody tr th:only-of-type {\n",
       "        vertical-align: middle;\n",
       "    }\n",
       "\n",
       "    .dataframe tbody tr th {\n",
       "        vertical-align: top;\n",
       "    }\n",
       "\n",
       "    .dataframe thead th {\n",
       "        text-align: right;\n",
       "    }\n",
       "</style>\n",
       "<table border=\"1\" class=\"dataframe\">\n",
       "  <thead>\n",
       "    <tr style=\"text-align: right;\">\n",
       "      <th></th>\n",
       "      <th>names</th>\n",
       "      <th>score</th>\n",
       "    </tr>\n",
       "  </thead>\n",
       "  <tbody>\n",
       "    <tr>\n",
       "      <th>a</th>\n",
       "      <td>james</td>\n",
       "      <td>10</td>\n",
       "    </tr>\n",
       "    <tr>\n",
       "      <th>b</th>\n",
       "      <td>tayo</td>\n",
       "      <td>20</td>\n",
       "    </tr>\n",
       "    <tr>\n",
       "      <th>c</th>\n",
       "      <td>emma</td>\n",
       "      <td>50</td>\n",
       "    </tr>\n",
       "  </tbody>\n",
       "</table>\n",
       "</div>"
      ],
      "text/plain": [
       "   names  score\n",
       "a  james     10\n",
       "b   tayo     20\n",
       "c   emma     50"
      ]
     },
     "execution_count": 88,
     "metadata": {},
     "output_type": "execute_result"
    }
   ],
   "source": [
    "df[[\"names\",\"score\"]]"
   ]
  },
  {
   "cell_type": "code",
   "execution_count": 92,
   "id": "999607ee-cb3c-453f-9d80-ac267e12fc20",
   "metadata": {},
   "outputs": [
    {
     "data": {
      "text/html": [
       "<div>\n",
       "<style scoped>\n",
       "    .dataframe tbody tr th:only-of-type {\n",
       "        vertical-align: middle;\n",
       "    }\n",
       "\n",
       "    .dataframe tbody tr th {\n",
       "        vertical-align: top;\n",
       "    }\n",
       "\n",
       "    .dataframe thead th {\n",
       "        text-align: right;\n",
       "    }\n",
       "</style>\n",
       "<table border=\"1\" class=\"dataframe\">\n",
       "  <thead>\n",
       "    <tr style=\"text-align: right;\">\n",
       "      <th></th>\n",
       "      <th>firstName</th>\n",
       "      <th>lastName</th>\n",
       "      <th>Age</th>\n",
       "      <th>department</th>\n",
       "    </tr>\n",
       "  </thead>\n",
       "  <tbody>\n",
       "    <tr>\n",
       "      <th>0</th>\n",
       "      <td>john</td>\n",
       "      <td>Johnson</td>\n",
       "      <td>25</td>\n",
       "      <td>Sales</td>\n",
       "    </tr>\n",
       "    <tr>\n",
       "      <th>1</th>\n",
       "      <td>Dayo</td>\n",
       "      <td>Seyi</td>\n",
       "      <td>32</td>\n",
       "      <td>IT</td>\n",
       "    </tr>\n",
       "    <tr>\n",
       "      <th>2</th>\n",
       "      <td>Chika</td>\n",
       "      <td>Kingsley</td>\n",
       "      <td>19</td>\n",
       "      <td>Editorial</td>\n",
       "    </tr>\n",
       "    <tr>\n",
       "      <th>3</th>\n",
       "      <td>daniel</td>\n",
       "      <td>sam</td>\n",
       "      <td>33</td>\n",
       "      <td>Sales</td>\n",
       "    </tr>\n",
       "    <tr>\n",
       "      <th>4</th>\n",
       "      <td>james</td>\n",
       "      <td>jamea</td>\n",
       "      <td>44</td>\n",
       "      <td>IT</td>\n",
       "    </tr>\n",
       "    <tr>\n",
       "      <th>5</th>\n",
       "      <td>tobi</td>\n",
       "      <td>ay</td>\n",
       "      <td>55</td>\n",
       "      <td>Editorial</td>\n",
       "    </tr>\n",
       "    <tr>\n",
       "      <th>6</th>\n",
       "      <td>sam</td>\n",
       "      <td>joo</td>\n",
       "      <td>6</td>\n",
       "      <td>Sales</td>\n",
       "    </tr>\n",
       "    <tr>\n",
       "      <th>7</th>\n",
       "      <td>moore</td>\n",
       "      <td>Kingsley</td>\n",
       "      <td>36</td>\n",
       "      <td>IT</td>\n",
       "    </tr>\n",
       "    <tr>\n",
       "      <th>8</th>\n",
       "      <td>jeff</td>\n",
       "      <td>victor</td>\n",
       "      <td>68</td>\n",
       "      <td>Editorial</td>\n",
       "    </tr>\n",
       "    <tr>\n",
       "      <th>9</th>\n",
       "      <td>alex</td>\n",
       "      <td>elijah</td>\n",
       "      <td>69</td>\n",
       "      <td>IT</td>\n",
       "    </tr>\n",
       "  </tbody>\n",
       "</table>\n",
       "</div>"
      ],
      "text/plain": [
       "  firstName  lastName  Age department\n",
       "0      john   Johnson   25      Sales\n",
       "1      Dayo      Seyi   32         IT\n",
       "2     Chika  Kingsley   19  Editorial\n",
       "3    daniel       sam   33      Sales\n",
       "4     james     jamea   44         IT\n",
       "5      tobi        ay   55  Editorial\n",
       "6       sam       joo    6      Sales\n",
       "7     moore  Kingsley   36         IT\n",
       "8      jeff    victor   68  Editorial\n",
       "9      alex    elijah   69         IT"
      ]
     },
     "execution_count": 92,
     "metadata": {},
     "output_type": "execute_result"
    }
   ],
   "source": [
    "dett = pd.DataFrame (\n",
    "    {\n",
    "        \"firstName\": [\"john\", \"Dayo\", \"Chika\",\"daniel\",\"james\",\"tobi\",\"sam\",\"moore\",\"jeff\",\"alex\"],\n",
    "        \"lastName\" : [\"Johnson\", \"Seyi\", \"Kingsley\",\"sam\",\"jamea\", \"ay\",\"joo\",\"Kingsley\",\"victor\",\"elijah\"],\n",
    "        \"Age\": [25,32,19,33,44,55,6,36,68,69,],\n",
    "        \"department\": [\"Sales\", \"IT\", \"Editorial\", \"Sales\", \"IT\", \"Editorial\", \"Sales\", \"IT\", \"Editorial\", \"IT\"]\n",
    "    }\n",
    "\n",
    "    \n",
    ")\n",
    "dett"
   ]
  },
  {
   "cell_type": "code",
   "execution_count": 93,
   "id": "b5fd7156-3608-4ef4-9dff-69c3b8f87774",
   "metadata": {},
   "outputs": [
    {
     "data": {
      "text/plain": [
       "firstName     Dayo\n",
       "lastName      Seyi\n",
       "Age             32\n",
       "department      IT\n",
       "Name: 1, dtype: object"
      ]
     },
     "execution_count": 93,
     "metadata": {},
     "output_type": "execute_result"
    }
   ],
   "source": [
    "dett.loc[1]"
   ]
  },
  {
   "cell_type": "code",
   "execution_count": 94,
   "id": "3b913564-06bc-463b-b1bb-7ee14ebf4327",
   "metadata": {},
   "outputs": [
    {
     "data": {
      "text/plain": [
       "firstName        moore\n",
       "lastName      Kingsley\n",
       "Age                 36\n",
       "department          IT\n",
       "Name: 7, dtype: object"
      ]
     },
     "execution_count": 94,
     "metadata": {},
     "output_type": "execute_result"
    }
   ],
   "source": [
    "dett.loc[7]"
   ]
  },
  {
   "cell_type": "code",
   "execution_count": 98,
   "id": "3812eabc-dcd1-4cab-bf84-e9f204d5d134",
   "metadata": {},
   "outputs": [
    {
     "data": {
      "text/html": [
       "<div>\n",
       "<style scoped>\n",
       "    .dataframe tbody tr th:only-of-type {\n",
       "        vertical-align: middle;\n",
       "    }\n",
       "\n",
       "    .dataframe tbody tr th {\n",
       "        vertical-align: top;\n",
       "    }\n",
       "\n",
       "    .dataframe thead th {\n",
       "        text-align: right;\n",
       "    }\n",
       "</style>\n",
       "<table border=\"1\" class=\"dataframe\">\n",
       "  <thead>\n",
       "    <tr style=\"text-align: right;\">\n",
       "      <th></th>\n",
       "      <th>firstName</th>\n",
       "      <th>lastName</th>\n",
       "      <th>Age</th>\n",
       "      <th>department</th>\n",
       "    </tr>\n",
       "  </thead>\n",
       "  <tbody>\n",
       "    <tr>\n",
       "      <th>1</th>\n",
       "      <td>Dayo</td>\n",
       "      <td>Seyi</td>\n",
       "      <td>32</td>\n",
       "      <td>IT</td>\n",
       "    </tr>\n",
       "    <tr>\n",
       "      <th>3</th>\n",
       "      <td>daniel</td>\n",
       "      <td>sam</td>\n",
       "      <td>33</td>\n",
       "      <td>Sales</td>\n",
       "    </tr>\n",
       "    <tr>\n",
       "      <th>4</th>\n",
       "      <td>james</td>\n",
       "      <td>jamea</td>\n",
       "      <td>44</td>\n",
       "      <td>IT</td>\n",
       "    </tr>\n",
       "    <tr>\n",
       "      <th>5</th>\n",
       "      <td>tobi</td>\n",
       "      <td>ay</td>\n",
       "      <td>55</td>\n",
       "      <td>Editorial</td>\n",
       "    </tr>\n",
       "    <tr>\n",
       "      <th>7</th>\n",
       "      <td>moore</td>\n",
       "      <td>Kingsley</td>\n",
       "      <td>36</td>\n",
       "      <td>IT</td>\n",
       "    </tr>\n",
       "    <tr>\n",
       "      <th>8</th>\n",
       "      <td>jeff</td>\n",
       "      <td>victor</td>\n",
       "      <td>68</td>\n",
       "      <td>Editorial</td>\n",
       "    </tr>\n",
       "    <tr>\n",
       "      <th>9</th>\n",
       "      <td>alex</td>\n",
       "      <td>elijah</td>\n",
       "      <td>69</td>\n",
       "      <td>IT</td>\n",
       "    </tr>\n",
       "  </tbody>\n",
       "</table>\n",
       "</div>"
      ],
      "text/plain": [
       "  firstName  lastName  Age department\n",
       "1      Dayo      Seyi   32         IT\n",
       "3    daniel       sam   33      Sales\n",
       "4     james     jamea   44         IT\n",
       "5      tobi        ay   55  Editorial\n",
       "7     moore  Kingsley   36         IT\n",
       "8      jeff    victor   68  Editorial\n",
       "9      alex    elijah   69         IT"
      ]
     },
     "execution_count": 98,
     "metadata": {},
     "output_type": "execute_result"
    }
   ],
   "source": [
    "dett[dett[\"Age\"] > 30]"
   ]
  },
  {
   "cell_type": "code",
   "execution_count": 101,
   "id": "aef2b214-4c25-4574-9da3-28436709d410",
   "metadata": {},
   "outputs": [
    {
     "data": {
      "text/plain": [
       "0    False\n",
       "1     True\n",
       "2    False\n",
       "3     True\n",
       "4     True\n",
       "5     True\n",
       "6    False\n",
       "7     True\n",
       "8     True\n",
       "9     True\n",
       "Name: Age, dtype: bool"
      ]
     },
     "execution_count": 101,
     "metadata": {},
     "output_type": "execute_result"
    }
   ],
   "source": [
    "dett [\"Age\"] > 30"
   ]
  },
  {
   "cell_type": "code",
   "execution_count": 107,
   "id": "7c30b234-9eb3-4ed7-a05b-4007b7965e6f",
   "metadata": {},
   "outputs": [
    {
     "data": {
      "text/plain": [
       "0    False\n",
       "1     True\n",
       "2    False\n",
       "3    False\n",
       "4     True\n",
       "5    False\n",
       "6    False\n",
       "7     True\n",
       "8    False\n",
       "9     True\n",
       "Name: department, dtype: bool"
      ]
     },
     "execution_count": 107,
     "metadata": {},
     "output_type": "execute_result"
    }
   ],
   "source": [
    "dett [\"department\"] == \"IT\""
   ]
  },
  {
   "cell_type": "code",
   "execution_count": 115,
   "id": "a904f16f-c72e-472a-b45f-45aeab4d09b4",
   "metadata": {},
   "outputs": [
    {
     "data": {
      "text/html": [
       "<div>\n",
       "<style scoped>\n",
       "    .dataframe tbody tr th:only-of-type {\n",
       "        vertical-align: middle;\n",
       "    }\n",
       "\n",
       "    .dataframe tbody tr th {\n",
       "        vertical-align: top;\n",
       "    }\n",
       "\n",
       "    .dataframe thead th {\n",
       "        text-align: right;\n",
       "    }\n",
       "</style>\n",
       "<table border=\"1\" class=\"dataframe\">\n",
       "  <thead>\n",
       "    <tr style=\"text-align: right;\">\n",
       "      <th></th>\n",
       "      <th>firstName</th>\n",
       "      <th>lastName</th>\n",
       "      <th>Age</th>\n",
       "      <th>department</th>\n",
       "    </tr>\n",
       "  </thead>\n",
       "  <tbody>\n",
       "    <tr>\n",
       "      <th>1</th>\n",
       "      <td>Dayo</td>\n",
       "      <td>Seyi</td>\n",
       "      <td>32</td>\n",
       "      <td>IT</td>\n",
       "    </tr>\n",
       "    <tr>\n",
       "      <th>4</th>\n",
       "      <td>james</td>\n",
       "      <td>jamea</td>\n",
       "      <td>44</td>\n",
       "      <td>IT</td>\n",
       "    </tr>\n",
       "    <tr>\n",
       "      <th>7</th>\n",
       "      <td>moore</td>\n",
       "      <td>Kingsley</td>\n",
       "      <td>36</td>\n",
       "      <td>IT</td>\n",
       "    </tr>\n",
       "    <tr>\n",
       "      <th>9</th>\n",
       "      <td>alex</td>\n",
       "      <td>elijah</td>\n",
       "      <td>69</td>\n",
       "      <td>IT</td>\n",
       "    </tr>\n",
       "  </tbody>\n",
       "</table>\n",
       "</div>"
      ],
      "text/plain": [
       "  firstName  lastName  Age department\n",
       "1      Dayo      Seyi   32         IT\n",
       "4     james     jamea   44         IT\n",
       "7     moore  Kingsley   36         IT\n",
       "9      alex    elijah   69         IT"
      ]
     },
     "execution_count": 115,
     "metadata": {},
     "output_type": "execute_result"
    }
   ],
   "source": [
    "dett[(dett[\"Age\"] > 20) & (dett[\"department\"] == \"IT\")]"
   ]
  },
  {
   "cell_type": "code",
   "execution_count": 1,
   "id": "0be219ef-65be-4d51-8e3b-0322ce738802",
   "metadata": {},
   "outputs": [],
   "source": [
    "import pandas as dp"
   ]
  },
  {
   "cell_type": "code",
   "execution_count": 2,
   "id": "216a8090-c010-4775-972f-8f3a6e2ca9a4",
   "metadata": {},
   "outputs": [
    {
     "ename": "NameError",
     "evalue": "name 'pd' is not defined",
     "output_type": "error",
     "traceback": [
      "\u001b[1;31m---------------------------------------------------------------------------\u001b[0m",
      "\u001b[1;31mNameError\u001b[0m                                 Traceback (most recent call last)",
      "Cell \u001b[1;32mIn[2], line 1\u001b[0m\n\u001b[1;32m----> 1\u001b[0m df \u001b[38;5;241m=\u001b[39m \u001b[43mpd\u001b[49m\u001b[38;5;241m.\u001b[39mread_csv(\u001b[38;5;124m\"\u001b[39m\u001b[38;5;124m2016-Movies.csv\u001b[39m\u001b[38;5;124m\"\u001b[39m)\n",
      "\u001b[1;31mNameError\u001b[0m: name 'pd' is not defined"
     ]
    }
   ],
   "source": [
    "df = pd.read_csv(\"2016-Movies.csv\")"
   ]
  },
  {
   "cell_type": "code",
   "execution_count": null,
   "id": "ae92eb1a-4a6c-4f1b-bcb3-525c5adc18b3",
   "metadata": {},
   "outputs": [],
   "source": []
  }
 ],
 "metadata": {
  "kernelspec": {
   "display_name": "Python 3 (ipykernel)",
   "language": "python",
   "name": "python3"
  },
  "language_info": {
   "codemirror_mode": {
    "name": "ipython",
    "version": 3
   },
   "file_extension": ".py",
   "mimetype": "text/x-python",
   "name": "python",
   "nbconvert_exporter": "python",
   "pygments_lexer": "ipython3",
   "version": "3.12.4"
  }
 },
 "nbformat": 4,
 "nbformat_minor": 5
}
