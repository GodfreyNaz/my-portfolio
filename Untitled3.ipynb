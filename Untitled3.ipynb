{
 "cells": [
  {
   "cell_type": "code",
   "execution_count": 12,
   "id": "671af292-82f5-4da1-95d8-1280779a2f2d",
   "metadata": {},
   "outputs": [],
   "source": [
    "def Credential (Username, password):\n",
    "    print(Username,password)\n",
    "    if (Username == \"James\" and password == 123):\n",
    "        print (\"Sucessful\")\n",
    "    elif (Username == \"abc\" and password == 000):\n",
    "        print (\"Reset Was Sucessfull\")\n",
    "    else:\n",
    "        print (\"Wrong\")\n",
    "    "
   ]
  },
  {
   "cell_type": "code",
   "execution_count": 13,
   "id": "1e61e09b-9afb-4348-8212-036d01841d36",
   "metadata": {},
   "outputs": [
    {
     "name": "stdout",
     "output_type": "stream",
     "text": [
      "James 123\n",
      "Sucessful\n"
     ]
    }
   ],
   "source": [
    "Credential (\"James\", 123)"
   ]
  },
  {
   "cell_type": "code",
   "execution_count": 14,
   "id": "0147bd20-3789-4e24-80cd-c4bdf58f68cf",
   "metadata": {},
   "outputs": [],
   "source": [
    "def catig (age):\n",
    "    if age <= 18:\n",
    "        print (\"Minor\")\n",
    "    elif age >= 60:\n",
    "        print (\"adult\")\n",
    "    else:\n",
    "        print (\"Senior Citizen\")"
   ]
  },
  {
   "cell_type": "code",
   "execution_count": null,
   "id": "5c990c8b-ce9d-457c-984d-21d2381ea800",
   "metadata": {},
   "outputs": [],
   "source": [
    "df[\"Age\"]"
   ]
  }
 ],
 "metadata": {
  "kernelspec": {
   "display_name": "Python 3 (ipykernel)",
   "language": "python",
   "name": "python3"
  },
  "language_info": {
   "codemirror_mode": {
    "name": "ipython",
    "version": 3
   },
   "file_extension": ".py",
   "mimetype": "text/x-python",
   "name": "python",
   "nbconvert_exporter": "python",
   "pygments_lexer": "ipython3",
   "version": "3.12.4"
  }
 },
 "nbformat": 4,
 "nbformat_minor": 5
}
