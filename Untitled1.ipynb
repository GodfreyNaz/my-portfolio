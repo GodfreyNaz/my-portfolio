{
 "cells": [
  {
   "cell_type": "code",
   "execution_count": 1,
   "id": "10dac301-289c-4275-ae59-d3dad1697cd5",
   "metadata": {},
   "outputs": [
    {
     "name": "stdout",
     "output_type": "stream",
     "text": [
      "hello my world\n"
     ]
    }
   ],
   "source": [
    "print (\"hello my world\")"
   ]
  },
  {
   "cell_type": "code",
   "execution_count": 2,
   "id": "e46aea84-69a2-4a28-8569-242439445622",
   "metadata": {},
   "outputs": [
    {
     "name": "stdout",
     "output_type": "stream",
     "text": [
      "good Morning My Neighboor\n"
     ]
    }
   ],
   "source": [
    "print (\"good Morning My Neighboor\")"
   ]
  },
  {
   "cell_type": "code",
   "execution_count": 3,
   "id": "301e6dda-25b6-421a-934e-076c4e61690d",
   "metadata": {},
   "outputs": [],
   "source": [
    "x=4"
   ]
  },
  {
   "cell_type": "code",
   "execution_count": 11,
   "id": "0aa73c37-76c2-44e6-8415-bb304fcde02e",
   "metadata": {},
   "outputs": [],
   "source": [
    "y= (\"faruk\")"
   ]
  },
  {
   "cell_type": "code",
   "execution_count": 12,
   "id": "44869a2f-c27f-4840-9235-29810c187dbe",
   "metadata": {},
   "outputs": [],
   "source": [
    "z=12.7\n"
   ]
  },
  {
   "cell_type": "code",
   "execution_count": 13,
   "id": "71378c30-42dc-4c7b-aeb1-d56059bb3da8",
   "metadata": {},
   "outputs": [
    {
     "data": {
      "text/plain": [
       "int"
      ]
     },
     "execution_count": 13,
     "metadata": {},
     "output_type": "execute_result"
    }
   ],
   "source": [
    "type(x)"
   ]
  },
  {
   "cell_type": "code",
   "execution_count": 14,
   "id": "71d5463f-f71d-4658-bd4d-711cf48065f5",
   "metadata": {},
   "outputs": [
    {
     "data": {
      "text/plain": [
       "float"
      ]
     },
     "execution_count": 14,
     "metadata": {},
     "output_type": "execute_result"
    }
   ],
   "source": [
    "type(z)"
   ]
  },
  {
   "cell_type": "code",
   "execution_count": 15,
   "id": "5aa5b3c4-ebcb-412d-a641-90bb74cd48f7",
   "metadata": {},
   "outputs": [
    {
     "data": {
      "text/plain": [
       "str"
      ]
     },
     "execution_count": 15,
     "metadata": {},
     "output_type": "execute_result"
    }
   ],
   "source": [
    "type(y)"
   ]
  },
  {
   "cell_type": "code",
   "execution_count": 16,
   "id": "ecd55664-ffaf-4e7e-b44d-45c0cd31d820",
   "metadata": {},
   "outputs": [
    {
     "data": {
      "text/plain": [
       "12"
      ]
     },
     "execution_count": 16,
     "metadata": {},
     "output_type": "execute_result"
    }
   ],
   "source": [
    "int(z)"
   ]
  },
  {
   "cell_type": "code",
   "execution_count": 17,
   "id": "9a1b6234-cfe4-4006-b987-29ca1b601c3d",
   "metadata": {},
   "outputs": [
    {
     "data": {
      "text/plain": [
       "4.0"
      ]
     },
     "execution_count": 17,
     "metadata": {},
     "output_type": "execute_result"
    }
   ],
   "source": [
    "float(x)"
   ]
  },
  {
   "cell_type": "code",
   "execution_count": 18,
   "id": "18cd359e-4386-438f-b659-3cc8826e64b7",
   "metadata": {},
   "outputs": [],
   "source": [
    "users = (\"phinnix\",\"roger\",\"morton\",\"jury\",\"loho\",\"dizzy\")"
   ]
  },
  {
   "cell_type": "code",
   "execution_count": 19,
   "id": "9c8b0e99-b3a7-4f8c-b432-f29d6183cf25",
   "metadata": {},
   "outputs": [
    {
     "data": {
      "text/plain": [
       "('phinnix', 'roger', 'morton', 'jury', 'loho', 'dizzy')"
      ]
     },
     "execution_count": 19,
     "metadata": {},
     "output_type": "execute_result"
    }
   ],
   "source": [
    "users"
   ]
  },
  {
   "cell_type": "code",
   "execution_count": 21,
   "id": "a1ca1aff-86d3-428c-ad3a-dbef6e632a17",
   "metadata": {},
   "outputs": [
    {
     "name": "stdout",
     "output_type": "stream",
     "text": [
      "morton\n",
      "morton\n"
     ]
    }
   ],
   "source": [
    "print (users[2])\n",
    "print (users[-4])"
   ]
  },
  {
   "cell_type": "code",
   "execution_count": 22,
   "id": "c2d27b27-3c49-4d92-bfd5-32e098c32909",
   "metadata": {},
   "outputs": [
    {
     "name": "stdout",
     "output_type": "stream",
     "text": [
      "roger\n"
     ]
    }
   ],
   "source": [
    "print (users[-5])"
   ]
  },
  {
   "cell_type": "code",
   "execution_count": 25,
   "id": "61919f30-0424-430e-a22c-5aedf6826ef0",
   "metadata": {},
   "outputs": [
    {
     "name": "stdout",
     "output_type": "stream",
     "text": [
      "('jury', 'loho', 'dizzy')\n"
     ]
    }
   ],
   "source": [
    "print (users [3:6])"
   ]
  },
  {
   "cell_type": "code",
   "execution_count": 29,
   "id": "1fa8afe3-26e4-41e0-80ff-35e4ea3bf41f",
   "metadata": {},
   "outputs": [
    {
     "data": {
      "text/plain": [
       "('phinnix', 'roger', 'morton', 'jury', 'loho', 'dizzy')"
      ]
     },
     "execution_count": 29,
     "metadata": {},
     "output_type": "execute_result"
    }
   ],
   "source": [
    "users"
   ]
  },
  {
   "cell_type": "code",
   "execution_count": 30,
   "id": "ce5da70b-2be2-4401-96c7-40d13628d3b2",
   "metadata": {},
   "outputs": [],
   "source": [
    "mylist = [ 4,8,9,90,54,0.9,4.8,29.10,40]"
   ]
  },
  {
   "cell_type": "markdown",
   "id": "5cf9187c-30d4-4799-af4b-32967ee07074",
   "metadata": {},
   "source": [
    "### Logical Operations\n",
    "OR,AND,NOT"
   ]
  },
  {
   "cell_type": "code",
   "execution_count": 31,
   "id": "5b134df8-e9e5-4acb-b686-839c2324ee4f",
   "metadata": {},
   "outputs": [],
   "source": [
    "d=14\n",
    "e=21\n",
    "f=9"
   ]
  },
  {
   "cell_type": "code",
   "execution_count": 32,
   "id": "f18b4ced-9127-452a-9eb7-5db0771cafa6",
   "metadata": {},
   "outputs": [
    {
     "data": {
      "text/plain": [
       "False"
      ]
     },
     "execution_count": 32,
     "metadata": {},
     "output_type": "execute_result"
    }
   ],
   "source": [
    "f>e"
   ]
  },
  {
   "cell_type": "code",
   "execution_count": 33,
   "id": "d635c63a-c439-431f-9b96-8e6dc75803b2",
   "metadata": {},
   "outputs": [
    {
     "data": {
      "text/plain": [
       "False"
      ]
     },
     "execution_count": 33,
     "metadata": {},
     "output_type": "execute_result"
    }
   ],
   "source": [
    "e<d"
   ]
  },
  {
   "cell_type": "code",
   "execution_count": 34,
   "id": "6ccc0d85-3f2e-42b3-ab70-551dd3f89ea0",
   "metadata": {},
   "outputs": [
    {
     "data": {
      "text/plain": [
       "True"
      ]
     },
     "execution_count": 34,
     "metadata": {},
     "output_type": "execute_result"
    }
   ],
   "source": [
    "e>f"
   ]
  },
  {
   "cell_type": "markdown",
   "id": "5ea9c323-24bd-4339-8634-96e2de0ddac4",
   "metadata": {},
   "source": [
    "# OR"
   ]
  },
  {
   "cell_type": "code",
   "execution_count": 35,
   "id": "b7616b32-7cbc-469f-9f7c-cf7a17e672aa",
   "metadata": {},
   "outputs": [
    {
     "data": {
      "text/plain": [
       "True"
      ]
     },
     "execution_count": 35,
     "metadata": {},
     "output_type": "execute_result"
    }
   ],
   "source": [
    "d>e or f<d"
   ]
  },
  {
   "cell_type": "code",
   "execution_count": 36,
   "id": "51b8ab84-e870-49e1-855f-9b61d1e9df97",
   "metadata": {},
   "outputs": [
    {
     "data": {
      "text/plain": [
       "True"
      ]
     },
     "execution_count": 36,
     "metadata": {},
     "output_type": "execute_result"
    }
   ],
   "source": [
    "f<d or e<d"
   ]
  },
  {
   "cell_type": "code",
   "execution_count": 37,
   "id": "550a63aa-e32a-41ce-9e47-f005ab522a5f",
   "metadata": {},
   "outputs": [],
   "source": [
    "## AND"
   ]
  },
  {
   "cell_type": "code",
   "execution_count": 38,
   "id": "d66cf441-f010-4cfd-a680-38691368ed5d",
   "metadata": {},
   "outputs": [
    {
     "data": {
      "text/plain": [
       "False"
      ]
     },
     "execution_count": 38,
     "metadata": {},
     "output_type": "execute_result"
    }
   ],
   "source": [
    "d>e and f<d or e<f and f>d"
   ]
  },
  {
   "cell_type": "code",
   "execution_count": 40,
   "id": "a80f8cd7-c8a7-4518-8e23-30ba90e311b7",
   "metadata": {},
   "outputs": [
    {
     "data": {
      "text/plain": [
       "True"
      ]
     },
     "execution_count": 40,
     "metadata": {},
     "output_type": "execute_result"
    }
   ],
   "source": [
    "d>f and f<d"
   ]
  },
  {
   "cell_type": "code",
   "execution_count": 44,
   "id": "03ff503d-4546-4e94-bab3-085e38ae2868",
   "metadata": {},
   "outputs": [],
   "source": [
    "x=3"
   ]
  },
  {
   "cell_type": "code",
   "execution_count": null,
   "id": "b29540e4-da59-4691-86ba-282c69a639ac",
   "metadata": {},
   "outputs": [],
   "source": [
    "while x=3"
   ]
  },
  {
   "cell_type": "code",
   "execution_count": 45,
   "id": "e62d7dbf-a4a0-4c8b-a1af-6a98a0448961",
   "metadata": {},
   "outputs": [],
   "source": [
    "###list\n",
    "\n",
    "Phinnix = [3,4,19,8,0,4,81,10,5,2,1]"
   ]
  },
  {
   "cell_type": "code",
   "execution_count": 48,
   "id": "87d54a0f-dda0-48b1-8679-b9a0f379e71e",
   "metadata": {},
   "outputs": [
    {
     "name": "stdout",
     "output_type": "stream",
     "text": [
      "[3, 4, 19, 8, 0, 4, 81, 10, 5, 2, 1]\n"
     ]
    }
   ],
   "source": [
    "print (Phinnix)"
   ]
  },
  {
   "cell_type": "code",
   "execution_count": 50,
   "id": "40c01df3-3a42-424d-a855-ad8eb700ed2d",
   "metadata": {},
   "outputs": [
    {
     "data": {
      "text/plain": [
       "[8, 0, 4]"
      ]
     },
     "execution_count": 50,
     "metadata": {},
     "output_type": "execute_result"
    }
   ],
   "source": [
    "Phinnix[3:6]"
   ]
  },
  {
   "cell_type": "code",
   "execution_count": 53,
   "id": "981e296f-091e-40b6-8ec0-8b881f643be4",
   "metadata": {},
   "outputs": [
    {
     "data": {
      "text/plain": [
       "[5, 2, 1]"
      ]
     },
     "execution_count": 53,
     "metadata": {},
     "output_type": "execute_result"
    }
   ],
   "source": [
    "Phinnix [8:]"
   ]
  },
  {
   "cell_type": "code",
   "execution_count": 55,
   "id": "ca38d272-7df6-4409-9612-291ae9f0f5b0",
   "metadata": {},
   "outputs": [],
   "source": [
    "Phinnix.append(20)"
   ]
  },
  {
   "cell_type": "code",
   "execution_count": 56,
   "id": "407cd3b5-6902-4b48-a17f-1e6174e0b5f8",
   "metadata": {},
   "outputs": [
    {
     "data": {
      "text/plain": [
       "[3, 4, 19, 8, 0, 4, 81, 10, 5, 2, 1, 20]"
      ]
     },
     "execution_count": 56,
     "metadata": {},
     "output_type": "execute_result"
    }
   ],
   "source": [
    "Phinnix"
   ]
  },
  {
   "cell_type": "code",
   "execution_count": 58,
   "id": "264ef84f-6ea9-47c5-9565-983c4911c20c",
   "metadata": {},
   "outputs": [],
   "source": [
    "Phinnix.remove(81,)"
   ]
  },
  {
   "cell_type": "code",
   "execution_count": 59,
   "id": "dd6f0a57-4ccb-445f-a5ef-8c712963ecda",
   "metadata": {},
   "outputs": [
    {
     "data": {
      "text/plain": [
       "[3, 4, 19, 8, 0, 4, 10, 5, 2, 1, 20]"
      ]
     },
     "execution_count": 59,
     "metadata": {},
     "output_type": "execute_result"
    }
   ],
   "source": [
    "Phinnix"
   ]
  },
  {
   "cell_type": "code",
   "execution_count": 60,
   "id": "0e18de1c-f0b4-4ea8-af3d-1b368a5ead09",
   "metadata": {},
   "outputs": [],
   "source": [
    "Phinnix.clear()"
   ]
  },
  {
   "cell_type": "code",
   "execution_count": 61,
   "id": "d3af470e-afe3-4098-b971-3f512f4bb9e9",
   "metadata": {},
   "outputs": [
    {
     "data": {
      "text/plain": [
       "[]"
      ]
     },
     "execution_count": 61,
     "metadata": {},
     "output_type": "execute_result"
    }
   ],
   "source": [
    "Phinnix"
   ]
  },
  {
   "cell_type": "code",
   "execution_count": 65,
   "id": "d08231ea-253f-4341-87b2-3790573cf8e2",
   "metadata": {},
   "outputs": [],
   "source": [
    "c = 30"
   ]
  },
  {
   "cell_type": "code",
   "execution_count": 68,
   "id": "7a573e44-0aa6-4df2-abc5-902f6eb06c78",
   "metadata": {},
   "outputs": [
    {
     "name": "stdout",
     "output_type": "stream",
     "text": [
      "denied\n"
     ]
    }
   ],
   "source": [
    "if c <= 18:\n",
    "    print (\"approved\")\n",
    "else:\n",
    "    print (\"denied\")"
   ]
  },
  {
   "cell_type": "code",
   "execution_count": 73,
   "id": "44de535b-bbe0-48fe-8cf3-70b1e28c3b17",
   "metadata": {},
   "outputs": [],
   "source": [
    "age = 20"
   ]
  },
  {
   "cell_type": "code",
   "execution_count": 74,
   "id": "9e2c39bf-8b21-41c3-83ae-deccd5c7ecfe",
   "metadata": {},
   "outputs": [
    {
     "name": "stdout",
     "output_type": "stream",
     "text": [
      "stay out\n"
     ]
    }
   ],
   "source": [
    "if age > 25:\n",
    "    print (\"come in\")\n",
    "else:\n",
    "    print (\"stay out\")"
   ]
  },
  {
   "cell_type": "code",
   "execution_count": 75,
   "id": "e1f1f966-e574-4def-8489-99cb352a9359",
   "metadata": {},
   "outputs": [],
   "source": [
    "Password = (\"hopeobebi7\")"
   ]
  },
  {
   "cell_type": "code",
   "execution_count": 77,
   "id": "621611e6-4784-41a5-b480-2afcdf560069",
   "metadata": {},
   "outputs": [
    {
     "data": {
      "text/plain": [
       "'hopeobebi7'"
      ]
     },
     "execution_count": 77,
     "metadata": {},
     "output_type": "execute_result"
    }
   ],
   "source": [
    "Password"
   ]
  },
  {
   "cell_type": "code",
   "execution_count": 79,
   "id": "7087868b-f95c-4867-8365-94f39895a27f",
   "metadata": {},
   "outputs": [
    {
     "name": "stdout",
     "output_type": "stream",
     "text": [
      "loing Sucessfull\n"
     ]
    }
   ],
   "source": [
    "if Password == (\"hopeobebi7\"):\n",
    "    print (\"loing Sucessfull\")\n",
    "else:\n",
    "    print (\"Invalid Login Details\")"
   ]
  },
  {
   "cell_type": "code",
   "execution_count": 81,
   "id": "3b2b7569-17ae-4da2-aa8c-d01fa9c80fd4",
   "metadata": {},
   "outputs": [],
   "source": [
    "### Simtiimulating a website login\n",
    "\n",
    "email = (\"godfreyagaien@gmail.com\")\n",
    "password = (\"hopeobebi7\")\n",
    "username = \"phinnix\"\n"
   ]
  },
  {
   "cell_type": "code",
   "execution_count": 86,
   "id": "c3120ece-978b-4f60-bf52-5604ee7e196d",
   "metadata": {},
   "outputs": [
    {
     "name": "stdout",
     "output_type": "stream",
     "text": [
      "Acess Denied\n"
     ]
    }
   ],
   "source": [
    "if email == \"godfreyagaien@gmail.com\" and password == \"hopeobebi77\":\n",
    "  print(\"Login apporved\")\n",
    "else:\n",
    "  print(\"Acess Denied\")"
   ]
  },
  {
   "cell_type": "code",
   "execution_count": 87,
   "id": "023fa867-973e-4d57-a6c5-e64b581f8fcb",
   "metadata": {},
   "outputs": [
    {
     "name": "stdout",
     "output_type": "stream",
     "text": [
      "Acess denied\n"
     ]
    }
   ],
   "source": [
    "if (email == \"godfreyagaien@gamail.com\" or \"usersname\" == \"phinnix\") and password == \"hopeobebi7\":\n",
    "    print(\"Login Sucessful\")\n",
    "else:\n",
    "    print(\"Acess denied\")"
   ]
  },
  {
   "cell_type": "code",
   "execution_count": 88,
   "id": "79987fd0-fcf7-4002-9e4e-8a2d4a909d56",
   "metadata": {},
   "outputs": [],
   "source": [
    "AGE = 70"
   ]
  },
  {
   "cell_type": "code",
   "execution_count": 92,
   "id": "78ae5ca7-5733-4dac-a8b6-651dc843ca24",
   "metadata": {},
   "outputs": [
    {
     "name": "stdout",
     "output_type": "stream",
     "text": [
      "old\n"
     ]
    }
   ],
   "source": [
    "if AGE < 70:\n",
    "    print (\"minor\")\n",
    "elif AGE > 70:\n",
    "    print (\"adult\")\n",
    "else:\n",
    "    print (\"old\")"
   ]
  },
  {
   "cell_type": "markdown",
   "id": "84e7f09e-132c-4b2e-9401-d464962cbbd7",
   "metadata": {},
   "source": [
    "#Dictionary\n"
   ]
  },
  {
   "cell_type": "code",
   "execution_count": 93,
   "id": "8f74dcba-988c-4d96-ba8e-72c1dda016ba",
   "metadata": {},
   "outputs": [],
   "source": [
    "Users = {\"username\": \"phinnix\", \"password\": \"hopeobebi7\"}"
   ]
  },
  {
   "cell_type": "code",
   "execution_count": 94,
   "id": "f8b62b93-5762-4a5b-a8df-b5fd0cf12100",
   "metadata": {},
   "outputs": [
    {
     "data": {
      "text/plain": [
       "dict_keys(['username', 'password'])"
      ]
     },
     "execution_count": 94,
     "metadata": {},
     "output_type": "execute_result"
    }
   ],
   "source": [
    "Users.keys()"
   ]
  },
  {
   "cell_type": "code",
   "execution_count": 95,
   "id": "4b529c09-987a-4cc5-b522-e7b42fc98b4d",
   "metadata": {},
   "outputs": [
    {
     "data": {
      "text/plain": [
       "dict_values(['phinnix', 'hopeobebi7'])"
      ]
     },
     "execution_count": 95,
     "metadata": {},
     "output_type": "execute_result"
    }
   ],
   "source": [
    "Users.values()"
   ]
  },
  {
   "cell_type": "code",
   "execution_count": 96,
   "id": "a26bad28-669d-47a2-b2c7-265471df11d1",
   "metadata": {},
   "outputs": [],
   "source": [
    "Products = {\"product name\": \"Nivea\", \"describtion\": \"This is a bodycream\", \"Tags\":[\"lotion\", \"Dark\", \"Cream\", \"Beauty\"]}"
   ]
  },
  {
   "cell_type": "code",
   "execution_count": 98,
   "id": "444e5cb9-8104-46ea-9154-39704410c762",
   "metadata": {},
   "outputs": [
    {
     "data": {
      "text/plain": [
       "dict_keys(['product name', 'describtion', 'Tags'])"
      ]
     },
     "execution_count": 98,
     "metadata": {},
     "output_type": "execute_result"
    }
   ],
   "source": [
    "Products.keys()"
   ]
  },
  {
   "cell_type": "code",
   "execution_count": 99,
   "id": "c8f09fe0-22de-48ae-b003-4556988fc315",
   "metadata": {},
   "outputs": [
    {
     "data": {
      "text/plain": [
       "dict_values(['Nivea', 'This is a bodycream', ['lotion', 'Dark', 'Cream', 'Beauty']])"
      ]
     },
     "execution_count": 99,
     "metadata": {},
     "output_type": "execute_result"
    }
   ],
   "source": [
    "Products.values()"
   ]
  },
  {
   "cell_type": "code",
   "execution_count": 106,
   "id": "cd969925-e736-45bf-b79b-3a3566cf2ada",
   "metadata": {},
   "outputs": [
    {
     "data": {
      "text/plain": [
       "'This is a bodycream'"
      ]
     },
     "execution_count": 106,
     "metadata": {},
     "output_type": "execute_result"
    }
   ],
   "source": [
    "Products[\"describtion\"]"
   ]
  },
  {
   "cell_type": "code",
   "execution_count": 122,
   "id": "a9d17d9a-4eda-4e14-a514-55083042c791",
   "metadata": {},
   "outputs": [
    {
     "data": {
      "text/plain": [
       "['lotion', 'Dark', 'Cream', 'Beauty']"
      ]
     },
     "execution_count": 122,
     "metadata": {},
     "output_type": "execute_result"
    }
   ],
   "source": [
    "Products[\"Tags\"]"
   ]
  },
  {
   "cell_type": "code",
   "execution_count": 123,
   "id": "7ed53fe5-e672-47f9-a6d2-90e725d2718d",
   "metadata": {},
   "outputs": [],
   "source": [
    "Products[\"product name\"] = \"EVA\" "
   ]
  },
  {
   "cell_type": "code",
   "execution_count": 124,
   "id": "6730b5ba-3555-4182-8e5d-c16dfcab638c",
   "metadata": {},
   "outputs": [
    {
     "data": {
      "text/plain": [
       "{'product name': 'EVA',\n",
       " 'describtion': 'this is a soap',\n",
       " 'Tags': ['lotion', 'Dark', 'Cream', 'Beauty'],\n",
       " 'descrition': 'this is a soap'}"
      ]
     },
     "execution_count": 124,
     "metadata": {},
     "output_type": "execute_result"
    }
   ],
   "source": [
    "Products"
   ]
  },
  {
   "cell_type": "code",
   "execution_count": 125,
   "id": "f88fcfc6-5eb3-4b6e-a89c-0691109c968b",
   "metadata": {},
   "outputs": [],
   "source": [
    "Products[\"describtion\"] = \"this is a soap\""
   ]
  },
  {
   "cell_type": "code",
   "execution_count": 126,
   "id": "425a4d54-f0dc-4952-bd0a-03a11b732c36",
   "metadata": {},
   "outputs": [
    {
     "data": {
      "text/plain": [
       "{'product name': 'EVA',\n",
       " 'describtion': 'this is a soap',\n",
       " 'Tags': ['lotion', 'Dark', 'Cream', 'Beauty'],\n",
       " 'descrition': 'this is a soap'}"
      ]
     },
     "execution_count": 126,
     "metadata": {},
     "output_type": "execute_result"
    }
   ],
   "source": [
    "Products"
   ]
  },
  {
   "cell_type": "code",
   "execution_count": 127,
   "id": "a9a753c9-33b0-4ca8-84a3-4f02af0f1e17",
   "metadata": {},
   "outputs": [],
   "source": [
    "Products [\"price\"] = 10000"
   ]
  },
  {
   "cell_type": "code",
   "execution_count": 128,
   "id": "c560072a-b377-4d85-9937-2e695edd72d1",
   "metadata": {},
   "outputs": [
    {
     "data": {
      "text/plain": [
       "{'product name': 'EVA',\n",
       " 'describtion': 'this is a soap',\n",
       " 'Tags': ['lotion', 'Dark', 'Cream', 'Beauty'],\n",
       " 'descrition': 'this is a soap',\n",
       " 'price': 10000}"
      ]
     },
     "execution_count": 128,
     "metadata": {},
     "output_type": "execute_result"
    }
   ],
   "source": [
    "Products"
   ]
  },
  {
   "cell_type": "code",
   "execution_count": 129,
   "id": "81351369-242f-4aea-b888-0fac307b2edc",
   "metadata": {},
   "outputs": [],
   "source": [
    "Products[\"Tags\"] = [\"soap\", \"Dark\", \"Cream\",\"Beauty\"]"
   ]
  },
  {
   "cell_type": "code",
   "execution_count": 130,
   "id": "19a08718-be83-4986-b9da-206f47ec5094",
   "metadata": {},
   "outputs": [
    {
     "data": {
      "text/plain": [
       "{'product name': 'EVA',\n",
       " 'describtion': 'this is a soap',\n",
       " 'Tags': ['soap', 'Dark', 'Cream', 'Beauty'],\n",
       " 'descrition': 'this is a soap',\n",
       " 'price': 10000}"
      ]
     },
     "execution_count": 130,
     "metadata": {},
     "output_type": "execute_result"
    }
   ],
   "source": [
    "Products"
   ]
  },
  {
   "cell_type": "code",
   "execution_count": 132,
   "id": "961976db-dfd3-41d4-ad4f-81daf44972f0",
   "metadata": {},
   "outputs": [
    {
     "data": {
      "text/plain": [
       "'Cream'"
      ]
     },
     "execution_count": 132,
     "metadata": {},
     "output_type": "execute_result"
    }
   ],
   "source": [
    "Products[\"Tags\"][2]"
   ]
  },
  {
   "cell_type": "code",
   "execution_count": 134,
   "id": "209f7230-8829-4ff0-a49f-f40764ae2abd",
   "metadata": {},
   "outputs": [
    {
     "data": {
      "text/plain": [
       "['soap', 'Dark', 'Cream', 'Beauty']"
      ]
     },
     "execution_count": 134,
     "metadata": {},
     "output_type": "execute_result"
    }
   ],
   "source": [
    "Products.pop(\"Tags\",\"price\")"
   ]
  },
  {
   "cell_type": "code",
   "execution_count": 135,
   "id": "99ceddd0-911b-4b4f-8ca8-bf7a459281ec",
   "metadata": {},
   "outputs": [
    {
     "data": {
      "text/plain": [
       "{'product name': 'EVA',\n",
       " 'describtion': 'this is a soap',\n",
       " 'descrition': 'this is a soap',\n",
       " 'price': 10000}"
      ]
     },
     "execution_count": 135,
     "metadata": {},
     "output_type": "execute_result"
    }
   ],
   "source": [
    "Products"
   ]
  },
  {
   "cell_type": "code",
   "execution_count": 137,
   "id": "ba99b0f2-22ca-440e-8016-1f2a8b8982f6",
   "metadata": {},
   "outputs": [
    {
     "data": {
      "text/plain": [
       "10000"
      ]
     },
     "execution_count": 137,
     "metadata": {},
     "output_type": "execute_result"
    }
   ],
   "source": [
    "Products.pop('price')"
   ]
  },
  {
   "cell_type": "code",
   "execution_count": 138,
   "id": "6070ad47-e5e7-4f48-bef2-21f16a345add",
   "metadata": {},
   "outputs": [
    {
     "data": {
      "text/plain": [
       "{'product name': 'EVA',\n",
       " 'describtion': 'this is a soap',\n",
       " 'descrition': 'this is a soap'}"
      ]
     },
     "execution_count": 138,
     "metadata": {},
     "output_type": "execute_result"
    }
   ],
   "source": [
    "Products"
   ]
  },
  {
   "cell_type": "code",
   "execution_count": 139,
   "id": "8f5c0d9d-e998-4b4d-854b-57f419dbce99",
   "metadata": {},
   "outputs": [],
   "source": [
    "Products.clear()"
   ]
  },
  {
   "cell_type": "code",
   "execution_count": 140,
   "id": "70c1c6e0-310d-449b-a857-713a70be85f0",
   "metadata": {},
   "outputs": [
    {
     "data": {
      "text/plain": [
       "{}"
      ]
     },
     "execution_count": 140,
     "metadata": {},
     "output_type": "execute_result"
    }
   ],
   "source": [
    "Products"
   ]
  },
  {
   "cell_type": "markdown",
   "id": "b991a125-daec-4f87-b190-97b2f7021332",
   "metadata": {},
   "source": [
    "##Assingment Operators."
   ]
  },
  {
   "cell_type": "code",
   "execution_count": 141,
   "id": "9a5cffb9-b4d5-4ccb-bd39-52c11d2a3eb4",
   "metadata": {},
   "outputs": [
    {
     "data": {
      "text/plain": [
       "7"
      ]
     },
     "execution_count": 141,
     "metadata": {},
     "output_type": "execute_result"
    }
   ],
   "source": [
    "x= 3\n",
    "y= 4\n",
    "y + x"
   ]
  },
  {
   "cell_type": "code",
   "execution_count": 142,
   "id": "ea0db84f-ab16-49b7-a23b-4ef53c915398",
   "metadata": {},
   "outputs": [],
   "source": [
    "q = x * 15"
   ]
  },
  {
   "cell_type": "code",
   "execution_count": 143,
   "id": "45735887-2ae9-4dfb-b61c-fa3fb031a258",
   "metadata": {},
   "outputs": [
    {
     "data": {
      "text/plain": [
       "45"
      ]
     },
     "execution_count": 143,
     "metadata": {},
     "output_type": "execute_result"
    }
   ],
   "source": [
    "q"
   ]
  },
  {
   "cell_type": "code",
   "execution_count": 144,
   "id": "81049fc6-7ba7-4193-a26b-8d1f96d91f7f",
   "metadata": {},
   "outputs": [
    {
     "data": {
      "text/plain": [
       "-6"
      ]
     },
     "execution_count": 144,
     "metadata": {},
     "output_type": "execute_result"
    }
   ],
   "source": [
    "a = 12\n",
    "a =-6\n",
    "a"
   ]
  },
  {
   "cell_type": "markdown",
   "id": "006d022b-a37f-4b8d-9e45-ef31f2a6cb62",
   "metadata": {},
   "source": [
    "While Loop"
   ]
  },
  {
   "cell_type": "code",
   "execution_count": 1,
   "id": "6757740e-78d9-4430-aa7d-06775ba44456",
   "metadata": {},
   "outputs": [],
   "source": [
    "x = 2"
   ]
  },
  {
   "cell_type": "code",
   "execution_count": 2,
   "id": "8cc0bfcd-9cd9-4d05-95ad-06235ade9760",
   "metadata": {},
   "outputs": [
    {
     "name": "stdout",
     "output_type": "stream",
     "text": [
      "2\n",
      "3\n",
      "4\n",
      "5\n",
      "6\n",
      "7\n",
      "8\n",
      "9\n"
     ]
    }
   ],
   "source": [
    "while x < 10:\n",
    "    print(x)\n",
    "    x += 1"
   ]
  },
  {
   "cell_type": "code",
   "execution_count": 3,
   "id": "8ba16e47-0d90-40d7-ac67-1ba7cefacbae",
   "metadata": {},
   "outputs": [],
   "source": [
    "c = 2"
   ]
  },
  {
   "cell_type": "code",
   "execution_count": 6,
   "id": "89668d0f-021d-4156-8187-91aa442adae1",
   "metadata": {},
   "outputs": [
    {
     "name": "stdout",
     "output_type": "stream",
     "text": [
      "2\n",
      "3\n",
      "4\n",
      "5\n",
      "6\n",
      "7\n",
      "8\n",
      "9\n"
     ]
    }
   ],
   "source": [
    "while c < 10:\n",
    "    print(c)\n",
    "    c += 1"
   ]
  },
  {
   "cell_type": "code",
   "execution_count": 7,
   "id": "59be3a0b-0cfe-493d-b9c0-4296f5162853",
   "metadata": {},
   "outputs": [
    {
     "data": {
      "text/plain": [
       "4"
      ]
     },
     "execution_count": 7,
     "metadata": {},
     "output_type": "execute_result"
    }
   ],
   "source": [
    "int(4.32)"
   ]
  },
  {
   "cell_type": "code",
   "execution_count": 8,
   "id": "493207e8-86ca-4445-abb8-0f69933c3a9c",
   "metadata": {},
   "outputs": [
    {
     "data": {
      "text/plain": [
       "4.0"
      ]
     },
     "execution_count": 8,
     "metadata": {},
     "output_type": "execute_result"
    }
   ],
   "source": [
    "float(4)"
   ]
  },
  {
   "cell_type": "code",
   "execution_count": 9,
   "id": "9d2b10a8-f863-4858-987b-39f6c4e4e34e",
   "metadata": {},
   "outputs": [],
   "source": [
    "c = 1"
   ]
  },
  {
   "cell_type": "code",
   "execution_count": 10,
   "id": "dcc3d1bc-5b67-473d-ae8e-09d552c18e6d",
   "metadata": {},
   "outputs": [
    {
     "name": "stdout",
     "output_type": "stream",
     "text": [
      "1\n",
      "3\n",
      "5\n",
      "7\n",
      "9\n",
      "11\n",
      "13\n",
      "15\n",
      "17\n",
      "19\n"
     ]
    }
   ],
   "source": [
    "while c <= 19:\n",
    "    print(c)\n",
    "    c += 2"
   ]
  },
  {
   "cell_type": "code",
   "execution_count": 11,
   "id": "a4cc9adf-a7aa-4e4f-9211-512758d99617",
   "metadata": {},
   "outputs": [],
   "source": [
    "furits = [\"apple\", \"banana\", \"mango\", \"cherry\"]"
   ]
  },
  {
   "cell_type": "code",
   "execution_count": 12,
   "id": "554ede1c-12dd-437a-88af-3d5cd11ce4d8",
   "metadata": {},
   "outputs": [
    {
     "data": {
      "text/plain": [
       "['apple', 'banana', 'mango', 'cherry']"
      ]
     },
     "execution_count": 12,
     "metadata": {},
     "output_type": "execute_result"
    }
   ],
   "source": [
    "furits"
   ]
  },
  {
   "cell_type": "code",
   "execution_count": 14,
   "id": "1c6d2a10-81f3-4181-abd2-86d50b4e0035",
   "metadata": {},
   "outputs": [
    {
     "name": "stdout",
     "output_type": "stream",
     "text": [
      "apple\n",
      "banana\n",
      "mango\n",
      "cherry\n"
     ]
    }
   ],
   "source": [
    "for i in furits:\n",
    "    print (i)"
   ]
  },
  {
   "cell_type": "code",
   "execution_count": 16,
   "id": "6d8b03f4-a2bc-4351-9991-d6d62235300c",
   "metadata": {},
   "outputs": [
    {
     "data": {
      "text/plain": [
       "range(0, 8)"
      ]
     },
     "execution_count": 16,
     "metadata": {},
     "output_type": "execute_result"
    }
   ],
   "source": [
    "range(8)"
   ]
  },
  {
   "cell_type": "code",
   "execution_count": 17,
   "id": "fb62cbd9-538c-49fe-81bb-d3acfbe13ebc",
   "metadata": {},
   "outputs": [
    {
     "name": "stdout",
     "output_type": "stream",
     "text": [
      "0\n",
      "1\n",
      "2\n",
      "3\n",
      "4\n",
      "5\n",
      "6\n",
      "7\n"
     ]
    }
   ],
   "source": [
    "for i in range(8):\n",
    "    print (i)"
   ]
  },
  {
   "cell_type": "code",
   "execution_count": 18,
   "id": "f2c9cd09-42ec-4379-a797-1be0b0e28d67",
   "metadata": {},
   "outputs": [
    {
     "data": {
      "text/plain": [
       "range(2, 10)"
      ]
     },
     "execution_count": 18,
     "metadata": {},
     "output_type": "execute_result"
    }
   ],
   "source": [
    "range (2, 10)"
   ]
  },
  {
   "cell_type": "code",
   "execution_count": 19,
   "id": "b147307d-52fd-4d5f-8054-cb7b64eea2d3",
   "metadata": {},
   "outputs": [
    {
     "name": "stdout",
     "output_type": "stream",
     "text": [
      "2\n",
      "3\n",
      "4\n",
      "5\n",
      "6\n",
      "7\n",
      "8\n",
      "9\n"
     ]
    }
   ],
   "source": [
    "for e in range (2, 10):\n",
    "    print (e)"
   ]
  },
  {
   "cell_type": "code",
   "execution_count": 22,
   "id": "1871dfc8-fedc-47c2-80ac-d22f7cb1b3f9",
   "metadata": {},
   "outputs": [],
   "source": [
    "colors = [ \"white, green, blue, black\"]"
   ]
  },
  {
   "cell_type": "code",
   "execution_count": 29,
   "id": "eb4df8be-690d-41c3-8d79-f72e01c80e6e",
   "metadata": {},
   "outputs": [
    {
     "name": "stdout",
     "output_type": "stream",
     "text": [
      "apple white, green, blue, black\n",
      "banana white, green, blue, black\n",
      "mango white, green, blue, black\n",
      "cherry white, green, blue, black\n"
     ]
    }
   ],
   "source": [
    "for a in furits:\n",
    "    for y in colors:\n",
    "        print( a, y)"
   ]
  },
  {
   "cell_type": "markdown",
   "id": "136eb857-6363-4af2-aa86-1e7295dd9f32",
   "metadata": {},
   "source": [
    "## Functions"
   ]
  },
  {
   "cell_type": "code",
   "execution_count": 31,
   "id": "2c752cdd-40af-4216-a876-f5baa42c15cf",
   "metadata": {},
   "outputs": [],
   "source": [
    "def myfunction():\n",
    "    print (\"Hello from the function world\")"
   ]
  },
  {
   "cell_type": "code",
   "execution_count": 33,
   "id": "3ea8ba47-9641-4d58-bd4e-9c8cf519b946",
   "metadata": {},
   "outputs": [
    {
     "name": "stdout",
     "output_type": "stream",
     "text": [
      "Hello from the function world\n"
     ]
    }
   ],
   "source": [
    "myfunction()"
   ]
  },
  {
   "cell_type": "code",
   "execution_count": 34,
   "id": "187cea8b-afd1-445a-82bb-c1a0bad99318",
   "metadata": {},
   "outputs": [],
   "source": [
    "myboys = (\"hey men whats good\")"
   ]
  },
  {
   "cell_type": "code",
   "execution_count": 35,
   "id": "b268211a-3931-4ea6-8c83-107a18d42166",
   "metadata": {},
   "outputs": [
    {
     "data": {
      "text/plain": [
       "'hey men whats good'"
      ]
     },
     "execution_count": 35,
     "metadata": {},
     "output_type": "execute_result"
    }
   ],
   "source": [
    "myboys"
   ]
  },
  {
   "cell_type": "code",
   "execution_count": 43,
   "id": "1069851c-ed60-464b-ab28-f06c3cffd20a",
   "metadata": {},
   "outputs": [],
   "source": [
    "#Create a function that takes in two numbers and adds it together.\n",
    "def addition(x,y):\n",
    "    c = x + y\n",
    "    print(c)\n",
    "   "
   ]
  },
  {
   "cell_type": "code",
   "execution_count": null,
   "id": "027d6ca5-eab3-4420-a799-bf74c3639fb4",
   "metadata": {},
   "outputs": [],
   "source": [
    "from keras.models import sequential\n",
    "from keras.layers import lscm"
   ]
  },
  {
   "cell_type": "markdown",
   "id": "bfcb8f89-22b5-4720-aeaf-961d7ba4e982",
   "metadata": {},
   "source": [
    "## ClassWork"
   ]
  },
  {
   "cell_type": "code",
   "execution_count": 44,
   "id": "1b01a998-e831-415c-be68-42df6669f0e6",
   "metadata": {},
   "outputs": [],
   "source": [
    "import pandas as pd"
   ]
  },
  {
   "cell_type": "code",
   "execution_count": 45,
   "id": "366ec5a4-800b-47d7-ba31-484d51cb1a04",
   "metadata": {},
   "outputs": [],
   "source": [
    "# Create a list and Convert it to Series\n",
    "# Create a series Directly without using a list\n",
    "# Call out the last index of your series\n",
    "# Change the index of the Series\n",
    "# Create a DataFrame\n",
    "# Index from the data from using .loc and .iloc\n",
    "# Call out multiple colums from an data frame"
   ]
  },
  {
   "cell_type": "code",
   "execution_count": 48,
   "id": "65a0be22-e302-46b0-8327-d817192a3e69",
   "metadata": {},
   "outputs": [],
   "source": [
    "#Create a list and Convert it to Series\n",
    "G = [30,40,50,60,70,90]\n"
   ]
  },
  {
   "cell_type": "code",
   "execution_count": 49,
   "id": "dd1ccebf-e2af-4f25-a522-057a8d79aaf5",
   "metadata": {},
   "outputs": [
    {
     "data": {
      "text/plain": [
       "[30, 40, 50, 60, 70, 90]"
      ]
     },
     "execution_count": 49,
     "metadata": {},
     "output_type": "execute_result"
    }
   ],
   "source": [
    "G"
   ]
  },
  {
   "cell_type": "code",
   "execution_count": 50,
   "id": "80e4e5a7-0c50-4e20-b2d8-923401cc8422",
   "metadata": {},
   "outputs": [
    {
     "data": {
      "text/plain": [
       "0    30\n",
       "1    40\n",
       "2    50\n",
       "3    60\n",
       "4    70\n",
       "5    90\n",
       "dtype: int64"
      ]
     },
     "execution_count": 50,
     "metadata": {},
     "output_type": "execute_result"
    }
   ],
   "source": [
    "pd.Series(G)"
   ]
  },
  {
   "cell_type": "code",
   "execution_count": 59,
   "id": "2638164d-d1a3-47e3-91d2-71ef3c0040a2",
   "metadata": {},
   "outputs": [],
   "source": [
    "define = pd.Series(G, index= [\"G\", \"A\",\"H\",\"U\",\"Z\",\"W\"])"
   ]
  },
  {
   "cell_type": "code",
   "execution_count": 61,
   "id": "12850653-4cba-4800-b589-e12befe4dd40",
   "metadata": {},
   "outputs": [
    {
     "data": {
      "text/plain": [
       "G    30\n",
       "A    40\n",
       "H    50\n",
       "U    60\n",
       "Z    70\n",
       "W    90\n",
       "dtype: int64"
      ]
     },
     "execution_count": 61,
     "metadata": {},
     "output_type": "execute_result"
    }
   ],
   "source": [
    "define"
   ]
  },
  {
   "cell_type": "code",
   "execution_count": 66,
   "id": "f022f9e0-4388-4e09-ae80-a53f5686eb85",
   "metadata": {},
   "outputs": [
    {
     "data": {
      "text/plain": [
       "np.int64(90)"
      ]
     },
     "execution_count": 66,
     "metadata": {},
     "output_type": "execute_result"
    }
   ],
   "source": [
    "define[\"W\"]"
   ]
  },
  {
   "cell_type": "code",
   "execution_count": null,
   "id": "159e485c-3a3c-4fec-9fb1-e9535f2e37f2",
   "metadata": {},
   "outputs": [],
   "source": [
    "Pandas is used for data cleaning and data analysis"
   ]
  }
 ],
 "metadata": {
  "kernelspec": {
   "display_name": "Python 3 (ipykernel)",
   "language": "python",
   "name": "python3"
  },
  "language_info": {
   "codemirror_mode": {
    "name": "ipython",
    "version": 3
   },
   "file_extension": ".py",
   "mimetype": "text/x-python",
   "name": "python",
   "nbconvert_exporter": "python",
   "pygments_lexer": "ipython3",
   "version": "3.12.4"
  }
 },
 "nbformat": 4,
 "nbformat_minor": 5
}
